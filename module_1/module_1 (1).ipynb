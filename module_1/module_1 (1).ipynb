{
 "cells": [
  {
   "cell_type": "code",
   "execution_count": 17,
   "metadata": {
    "_cell_guid": "b1076dfc-b9ad-4769-8c92-a6c4dae69d19",
    "_uuid": "8f2839f25d086af736a60e9eeb907d3b93b6e0e5",
    "colab": {},
    "colab_type": "code",
    "id": "U2D2gTdJVp90"
   },
   "outputs": [],
   "source": [
    "import numpy as np\n",
    "import pandas as pd\n",
    "import seaborn as sns\n",
    "import matplotlib.pyplot as plt\n",
    "import collections\n",
    "from collections import Counter\n",
    "from itertools import combinations"
   ]
  },
  {
   "cell_type": "code",
   "execution_count": 2,
   "metadata": {
    "_cell_guid": "79c7e3d0-c299-4dcb-8224-4455121ee9b0",
    "_uuid": "d629ff2d2480ee46fbb7e2d37f6b5fab8052498a",
    "colab": {},
    "colab_type": "code",
    "id": "oyGfxL3eVp9-"
   },
   "outputs": [
    {
     "data": {
      "text/html": [
       "<div>\n",
       "<style scoped>\n",
       "    .dataframe tbody tr th:only-of-type {\n",
       "        vertical-align: middle;\n",
       "    }\n",
       "\n",
       "    .dataframe tbody tr th {\n",
       "        vertical-align: top;\n",
       "    }\n",
       "\n",
       "    .dataframe thead th {\n",
       "        text-align: right;\n",
       "    }\n",
       "</style>\n",
       "<table border=\"1\" class=\"dataframe\">\n",
       "  <thead>\n",
       "    <tr style=\"text-align: right;\">\n",
       "      <th></th>\n",
       "      <th>imdb_id</th>\n",
       "      <th>budget</th>\n",
       "      <th>revenue</th>\n",
       "      <th>original_title</th>\n",
       "      <th>cast</th>\n",
       "      <th>director</th>\n",
       "      <th>tagline</th>\n",
       "      <th>overview</th>\n",
       "      <th>runtime</th>\n",
       "      <th>genres</th>\n",
       "      <th>production_companies</th>\n",
       "      <th>release_date</th>\n",
       "      <th>vote_average</th>\n",
       "      <th>release_year</th>\n",
       "    </tr>\n",
       "  </thead>\n",
       "  <tbody>\n",
       "    <tr>\n",
       "      <th>621</th>\n",
       "      <td>tt0448157</td>\n",
       "      <td>150000000</td>\n",
       "      <td>624029371</td>\n",
       "      <td>Hancock</td>\n",
       "      <td>Will Smith|Charlize Theron|Jason Bateman|Jae H...</td>\n",
       "      <td>Peter Berg</td>\n",
       "      <td>Bad Behavior. Bad Attitude. Real Hero.</td>\n",
       "      <td>Hancock is a down-and-out superhero who's forc...</td>\n",
       "      <td>92</td>\n",
       "      <td>Fantasy|Action</td>\n",
       "      <td>Columbia Pictures|Weed Road Pictures|Forward P...</td>\n",
       "      <td>7/1/2008</td>\n",
       "      <td>6.0</td>\n",
       "      <td>2008</td>\n",
       "    </tr>\n",
       "    <tr>\n",
       "      <th>949</th>\n",
       "      <td>tt0270288</td>\n",
       "      <td>30000000</td>\n",
       "      <td>33013805</td>\n",
       "      <td>Confessions of a Dangerous Mind</td>\n",
       "      <td>Sam Rockwell|Drew Barrymore|Julia Roberts|Rutg...</td>\n",
       "      <td>George Clooney</td>\n",
       "      <td>Some things are better left top secret.</td>\n",
       "      <td>Television made him famous, but his biggest hi...</td>\n",
       "      <td>113</td>\n",
       "      <td>Comedy|Crime|Drama|Romance|Thriller</td>\n",
       "      <td>Miramax Films|Allied Filmmakers|Mad Chance</td>\n",
       "      <td>12/30/2002</td>\n",
       "      <td>6.4</td>\n",
       "      <td>2002</td>\n",
       "    </tr>\n",
       "    <tr>\n",
       "      <th>1002</th>\n",
       "      <td>tt1446192</td>\n",
       "      <td>145000000</td>\n",
       "      <td>306941670</td>\n",
       "      <td>Rise of the Guardians</td>\n",
       "      <td>Chris Pine|Alec Baldwin|Jude Law|Isla Fisher|H...</td>\n",
       "      <td>Peter Ramsey</td>\n",
       "      <td>You better believe.</td>\n",
       "      <td>When an evil spirit known as Pitch lays down t...</td>\n",
       "      <td>97</td>\n",
       "      <td>Fantasy|Animation|Family</td>\n",
       "      <td>DreamWorks Animation</td>\n",
       "      <td>11/21/2012</td>\n",
       "      <td>6.9</td>\n",
       "      <td>2012</td>\n",
       "    </tr>\n",
       "    <tr>\n",
       "      <th>969</th>\n",
       "      <td>tt0279493</td>\n",
       "      <td>25000000</td>\n",
       "      <td>41604473</td>\n",
       "      <td>Undercover Brother</td>\n",
       "      <td>Eddie Griffin|Chris Kattan|Denise Richards|Aun...</td>\n",
       "      <td>Malcolm D. Lee</td>\n",
       "      <td>He's All Action</td>\n",
       "      <td>An Afro-American organization, the B.R.O.T.H.E...</td>\n",
       "      <td>86</td>\n",
       "      <td>Action|Comedy</td>\n",
       "      <td>Universal Pictures</td>\n",
       "      <td>5/31/2002</td>\n",
       "      <td>5.4</td>\n",
       "      <td>2002</td>\n",
       "    </tr>\n",
       "    <tr>\n",
       "      <th>473</th>\n",
       "      <td>tt0872230</td>\n",
       "      <td>25000000</td>\n",
       "      <td>19829957</td>\n",
       "      <td>My Soul to Take</td>\n",
       "      <td>Max Thieriot|John Magaro|Denzel Whitaker|Zena ...</td>\n",
       "      <td>Wes Craven</td>\n",
       "      <td>Only One Has The Power To Save Their Souls</td>\n",
       "      <td>A serial killer returns to his hometown to sta...</td>\n",
       "      <td>107</td>\n",
       "      <td>Drama|Horror|Mystery|Thriller</td>\n",
       "      <td>Relativity Media|Rogue</td>\n",
       "      <td>10/8/2010</td>\n",
       "      <td>5.2</td>\n",
       "      <td>2010</td>\n",
       "    </tr>\n",
       "  </tbody>\n",
       "</table>\n",
       "</div>"
      ],
      "text/plain": [
       "        imdb_id     budget    revenue                   original_title  \\\n",
       "621   tt0448157  150000000  624029371                          Hancock   \n",
       "949   tt0270288   30000000   33013805  Confessions of a Dangerous Mind   \n",
       "1002  tt1446192  145000000  306941670            Rise of the Guardians   \n",
       "969   tt0279493   25000000   41604473               Undercover Brother   \n",
       "473   tt0872230   25000000   19829957                  My Soul to Take   \n",
       "\n",
       "                                                   cast        director  \\\n",
       "621   Will Smith|Charlize Theron|Jason Bateman|Jae H...      Peter Berg   \n",
       "949   Sam Rockwell|Drew Barrymore|Julia Roberts|Rutg...  George Clooney   \n",
       "1002  Chris Pine|Alec Baldwin|Jude Law|Isla Fisher|H...    Peter Ramsey   \n",
       "969   Eddie Griffin|Chris Kattan|Denise Richards|Aun...  Malcolm D. Lee   \n",
       "473   Max Thieriot|John Magaro|Denzel Whitaker|Zena ...      Wes Craven   \n",
       "\n",
       "                                         tagline  \\\n",
       "621       Bad Behavior. Bad Attitude. Real Hero.   \n",
       "949      Some things are better left top secret.   \n",
       "1002                         You better believe.   \n",
       "969                              He's All Action   \n",
       "473   Only One Has The Power To Save Their Souls   \n",
       "\n",
       "                                               overview  runtime  \\\n",
       "621   Hancock is a down-and-out superhero who's forc...       92   \n",
       "949   Television made him famous, but his biggest hi...      113   \n",
       "1002  When an evil spirit known as Pitch lays down t...       97   \n",
       "969   An Afro-American organization, the B.R.O.T.H.E...       86   \n",
       "473   A serial killer returns to his hometown to sta...      107   \n",
       "\n",
       "                                   genres  \\\n",
       "621                        Fantasy|Action   \n",
       "949   Comedy|Crime|Drama|Romance|Thriller   \n",
       "1002             Fantasy|Animation|Family   \n",
       "969                         Action|Comedy   \n",
       "473         Drama|Horror|Mystery|Thriller   \n",
       "\n",
       "                                   production_companies release_date  \\\n",
       "621   Columbia Pictures|Weed Road Pictures|Forward P...     7/1/2008   \n",
       "949          Miramax Films|Allied Filmmakers|Mad Chance   12/30/2002   \n",
       "1002                               DreamWorks Animation   11/21/2012   \n",
       "969                                  Universal Pictures    5/31/2002   \n",
       "473                              Relativity Media|Rogue    10/8/2010   \n",
       "\n",
       "      vote_average  release_year  \n",
       "621            6.0          2008  \n",
       "949            6.4          2002  \n",
       "1002           6.9          2012  \n",
       "969            5.4          2002  \n",
       "473            5.2          2010  "
      ]
     },
     "execution_count": 2,
     "metadata": {},
     "output_type": "execute_result"
    }
   ],
   "source": [
    "data = pd.read_csv('movie_bd_v5.xls')\n",
    "data.sample(5)"
   ]
  },
  {
   "cell_type": "code",
   "execution_count": 5,
   "metadata": {
    "colab": {},
    "colab_type": "code",
    "id": "CoYUnagMVp-C"
   },
   "outputs": [
    {
     "data": {
      "text/html": [
       "<div>\n",
       "<style scoped>\n",
       "    .dataframe tbody tr th:only-of-type {\n",
       "        vertical-align: middle;\n",
       "    }\n",
       "\n",
       "    .dataframe tbody tr th {\n",
       "        vertical-align: top;\n",
       "    }\n",
       "\n",
       "    .dataframe thead th {\n",
       "        text-align: right;\n",
       "    }\n",
       "</style>\n",
       "<table border=\"1\" class=\"dataframe\">\n",
       "  <thead>\n",
       "    <tr style=\"text-align: right;\">\n",
       "      <th></th>\n",
       "      <th>budget</th>\n",
       "      <th>revenue</th>\n",
       "      <th>runtime</th>\n",
       "      <th>vote_average</th>\n",
       "      <th>release_year</th>\n",
       "    </tr>\n",
       "  </thead>\n",
       "  <tbody>\n",
       "    <tr>\n",
       "      <th>count</th>\n",
       "      <td>1.889000e+03</td>\n",
       "      <td>1.889000e+03</td>\n",
       "      <td>1889.000000</td>\n",
       "      <td>1889.000000</td>\n",
       "      <td>1889.000000</td>\n",
       "    </tr>\n",
       "    <tr>\n",
       "      <th>mean</th>\n",
       "      <td>5.431083e+07</td>\n",
       "      <td>1.553653e+08</td>\n",
       "      <td>109.658549</td>\n",
       "      <td>6.140762</td>\n",
       "      <td>2007.860773</td>\n",
       "    </tr>\n",
       "    <tr>\n",
       "      <th>std</th>\n",
       "      <td>4.858721e+07</td>\n",
       "      <td>2.146698e+08</td>\n",
       "      <td>18.017041</td>\n",
       "      <td>0.764763</td>\n",
       "      <td>4.468841</td>\n",
       "    </tr>\n",
       "    <tr>\n",
       "      <th>min</th>\n",
       "      <td>5.000000e+06</td>\n",
       "      <td>2.033165e+06</td>\n",
       "      <td>63.000000</td>\n",
       "      <td>3.300000</td>\n",
       "      <td>2000.000000</td>\n",
       "    </tr>\n",
       "    <tr>\n",
       "      <th>25%</th>\n",
       "      <td>2.000000e+07</td>\n",
       "      <td>3.456058e+07</td>\n",
       "      <td>97.000000</td>\n",
       "      <td>5.600000</td>\n",
       "      <td>2004.000000</td>\n",
       "    </tr>\n",
       "    <tr>\n",
       "      <th>50%</th>\n",
       "      <td>3.800000e+07</td>\n",
       "      <td>8.361541e+07</td>\n",
       "      <td>107.000000</td>\n",
       "      <td>6.100000</td>\n",
       "      <td>2008.000000</td>\n",
       "    </tr>\n",
       "    <tr>\n",
       "      <th>75%</th>\n",
       "      <td>7.200000e+07</td>\n",
       "      <td>1.782626e+08</td>\n",
       "      <td>120.000000</td>\n",
       "      <td>6.600000</td>\n",
       "      <td>2012.000000</td>\n",
       "    </tr>\n",
       "    <tr>\n",
       "      <th>max</th>\n",
       "      <td>3.800000e+08</td>\n",
       "      <td>2.781506e+09</td>\n",
       "      <td>214.000000</td>\n",
       "      <td>8.100000</td>\n",
       "      <td>2015.000000</td>\n",
       "    </tr>\n",
       "  </tbody>\n",
       "</table>\n",
       "</div>"
      ],
      "text/plain": [
       "             budget       revenue      runtime  vote_average  release_year\n",
       "count  1.889000e+03  1.889000e+03  1889.000000   1889.000000   1889.000000\n",
       "mean   5.431083e+07  1.553653e+08   109.658549      6.140762   2007.860773\n",
       "std    4.858721e+07  2.146698e+08    18.017041      0.764763      4.468841\n",
       "min    5.000000e+06  2.033165e+06    63.000000      3.300000   2000.000000\n",
       "25%    2.000000e+07  3.456058e+07    97.000000      5.600000   2004.000000\n",
       "50%    3.800000e+07  8.361541e+07   107.000000      6.100000   2008.000000\n",
       "75%    7.200000e+07  1.782626e+08   120.000000      6.600000   2012.000000\n",
       "max    3.800000e+08  2.781506e+09   214.000000      8.100000   2015.000000"
      ]
     },
     "execution_count": 5,
     "metadata": {},
     "output_type": "execute_result"
    }
   ],
   "source": [
    "data.describe()"
   ]
  },
  {
   "cell_type": "markdown",
   "metadata": {
    "colab_type": "text",
    "id": "DTIt7ezGVp-G"
   },
   "source": [
    "# Предобработка"
   ]
  },
  {
   "cell_type": "code",
   "execution_count": 3,
   "metadata": {
    "colab": {},
    "colab_type": "code",
    "id": "jNb40DwKVp-H"
   },
   "outputs": [],
   "source": [
    "answers = {} # создадим словарь для ответов\n",
    "\n",
    "# тут другие ваши предобработки колонок например:\n",
    "\n",
    "#the time given in the dataset is in string format.\n",
    "#So we need to change this in datetime format\n",
    "# ..."
   ]
  },
  {
   "cell_type": "markdown",
   "metadata": {
    "colab_type": "text",
    "id": "YxZaH-nPVp-L"
   },
   "source": [
    "# 1. У какого фильма из списка самый большой бюджет?"
   ]
  },
  {
   "cell_type": "markdown",
   "metadata": {
    "colab_type": "text",
    "id": "Nd-G5gX6Vp-M"
   },
   "source": [
    "Использовать варианты ответов в коде решения запрещено.    \n",
    "Вы думаете и в жизни у вас будут варианты ответов?)"
   ]
  },
  {
   "cell_type": "code",
   "execution_count": 22,
   "metadata": {
    "colab": {},
    "colab_type": "code",
    "id": "uVnXAY5RVp-O"
   },
   "outputs": [],
   "source": [
    "# в словарь вставляем номер вопроса и ваш ответ на него\n",
    "# Пример: \n",
    "# answers['1'] = '2. Spider-Man 3 (tt0413300)'\n",
    "# запишите свой вариант ответа\n",
    "answers['1'] = '5. Pirates of the Caribbean: On Stranger Tides (tt1298650)'\n",
    "# ответ верный '+'"
   ]
  },
  {
   "cell_type": "code",
   "execution_count": 9,
   "metadata": {
    "colab": {},
    "colab_type": "code",
    "id": "dZwb3m28Vp-S"
   },
   "outputs": [],
   "source": [
    "biggest_budget = data[(data.budget == data.budget.max())].original_title\n"
   ]
  },
  {
   "cell_type": "markdown",
   "metadata": {
    "colab_type": "text",
    "id": "K7L3nbRXVp-X"
   },
   "source": [
    "ВАРИАНТ 2"
   ]
  },
  {
   "cell_type": "code",
   "execution_count": 0,
   "metadata": {
    "colab": {},
    "colab_type": "code",
    "id": "OGaoQI7rVp-X"
   },
   "outputs": [],
   "source": [
    "# можно добавлять разные варианты решения"
   ]
  },
  {
   "cell_type": "markdown",
   "metadata": {
    "colab_type": "text",
    "id": "FNRbbI3vVp-c"
   },
   "source": [
    "# 2. Какой из фильмов самый длительный (в минутах)?"
   ]
  },
  {
   "cell_type": "code",
   "execution_count": 23,
   "metadata": {
    "colab": {},
    "colab_type": "code",
    "id": "vHAoEXNTVp-d"
   },
   "outputs": [],
   "source": [
    "# думаю логику работы с этим словарем вы уже поняли, \n",
    "# по этому не буду больше его дублировать\n",
    "answers['2'] = '2. Gods and Generals (tt0279111)'\n",
    "# ответ верный '+'"
   ]
  },
  {
   "cell_type": "code",
   "execution_count": 11,
   "metadata": {
    "colab": {},
    "colab_type": "code",
    "id": "ot-VX2XrVp-g"
   },
   "outputs": [],
   "source": [
    "longest_movie = data[(data.runtime == data.runtime.max())].original_title\n"
   ]
  },
  {
   "cell_type": "markdown",
   "metadata": {
    "colab_type": "text",
    "id": "bapLlpW8Vp-k"
   },
   "source": [
    "# 3. Какой из фильмов самый короткий (в минутах)?\n",
    "\n",
    "\n",
    "\n"
   ]
  },
  {
   "cell_type": "code",
   "execution_count": 24,
   "metadata": {
    "colab": {},
    "colab_type": "code",
    "id": "YBxaSHuAVp-l"
   },
   "outputs": [],
   "source": [
    "answers['3'] = '3. Winnie the Pooh (tt1449283)'\n",
    "# ответ верный '+'\n",
    "\n",
    "shortest_movie = data[(data.runtime == data.runtime.min())].original_title\n",
    "\n"
   ]
  },
  {
   "cell_type": "markdown",
   "metadata": {
    "colab_type": "text",
    "id": "TfQbxbfNVp-p"
   },
   "source": [
    "# 4. Какова средняя длительность фильмов?\n"
   ]
  },
  {
   "cell_type": "code",
   "execution_count": 25,
   "metadata": {
    "colab": {},
    "colab_type": "code",
    "id": "5K6dKZYVVp-q"
   },
   "outputs": [],
   "source": [
    "answers['4'] = '2. 110'\n",
    "# ответ верный '+\n",
    "\n",
    "average_movie_length = data.runtime.mean()\n"
   ]
  },
  {
   "cell_type": "markdown",
   "metadata": {
    "colab_type": "text",
    "id": "r5TvbnT_Vp-u"
   },
   "source": [
    "# 5. Каково медианное значение длительности фильмов? "
   ]
  },
  {
   "cell_type": "code",
   "execution_count": 26,
   "metadata": {
    "colab": {},
    "colab_type": "code",
    "id": "iBROplKnVp-v"
   },
   "outputs": [],
   "source": [
    "answers['5'] = '1. 107'\n",
    "# ответ верный '+'\n",
    "\n",
    "film_time_median = data.runtime.median()\n",
    "\n",
    "\n"
   ]
  },
  {
   "cell_type": "markdown",
   "metadata": {
    "colab_type": "text",
    "id": "39P-deDSVp-y"
   },
   "source": [
    "# 6. Какой самый прибыльный фильм?\n",
    "#### Внимание! Здесь и далее под «прибылью» или «убытками» понимается разность между сборами и бюджетом фильма. (прибыль = сборы - бюджет) в нашем датасете это будет (profit = revenue - budget) "
   ]
  },
  {
   "cell_type": "code",
   "execution_count": 27,
   "metadata": {
    "colab": {},
    "colab_type": "code",
    "id": "UYZh4T9WVp-y"
   },
   "outputs": [],
   "source": [
    "# лучше код получения столбца profit вынести в Предобработку что в начале\n",
    "\n",
    "answers['6'] = '5. Avatar (tt0499549)'\n",
    "# ответ верный '+'\n",
    "\n",
    "# Для удобства создан столбик в таблице прибыль 'film_profit'\n",
    "data['film_profit'] = data.revenue - data.budget\n",
    "max_profit_film = data[(data.film_profit == data.film_profit.max())].original_title\n",
    "\n"
   ]
  },
  {
   "cell_type": "markdown",
   "metadata": {
    "colab_type": "text",
    "id": "M99JmIX4Vp-2"
   },
   "source": [
    "# 7. Какой фильм самый убыточный? "
   ]
  },
  {
   "cell_type": "code",
   "execution_count": 28,
   "metadata": {
    "colab": {},
    "colab_type": "code",
    "id": "w-D2m4XPVp-3"
   },
   "outputs": [],
   "source": [
    "answers['7'] = '5. The Lone Ranger (tt1210819)'\n",
    "# ответ верный '+'\n",
    "\n",
    "min_profit_film = data[(data.film_profit == data.film_profit.min())].original_title\n",
    "\n"
   ]
  },
  {
   "cell_type": "markdown",
   "metadata": {
    "colab_type": "text",
    "id": "wEOM5ERVVp-6"
   },
   "source": [
    "# 8. У скольких фильмов из датасета объем сборов оказался выше бюджета?"
   ]
  },
  {
   "cell_type": "code",
   "execution_count": 29,
   "metadata": {
    "colab": {},
    "colab_type": "code",
    "id": "y00_7HD6Vp-7"
   },
   "outputs": [],
   "source": [
    "answers['8'] = '1. 1478'\n",
    "# ответ верный '+'\n",
    "\n",
    "num_profit_movies = len(data[data.film_profit > 0])\n",
    "\n"
   ]
  },
  {
   "cell_type": "markdown",
   "metadata": {
    "colab_type": "text",
    "id": "xhpspA9KVp_A"
   },
   "source": [
    "# 9. Какой фильм оказался самым кассовым в 2008 году?"
   ]
  },
  {
   "cell_type": "code",
   "execution_count": 30,
   "metadata": {
    "colab": {},
    "colab_type": "code",
    "id": "MoUyQr9RVp_B"
   },
   "outputs": [],
   "source": [
    "answers['9'] = '4. The Dark Knight (tt0468569)'\n",
    "# ответ верный '+'\n",
    "\n",
    "# В коде ниже находим все фильмы снятые в 2008 годву. data.release_year == 2008\n",
    "# Затем отбираем из них тот, кто заработал больше всего денег data[(data.release_year == 2008)].revenue.max()\n",
    "\n",
    "max_revenue_2008 = data[(data.revenue == data[(data.release_year == 2008)].\n",
    "                         revenue.max())].original_title\n",
    "\n"
   ]
  },
  {
   "cell_type": "markdown",
   "metadata": {
    "colab_type": "text",
    "id": "Zi4hDKidVp_F"
   },
   "source": [
    "# 10. Самый убыточный фильм за период с 2012 по 2014 г. (включительно)?\n"
   ]
  },
  {
   "cell_type": "code",
   "execution_count": 31,
   "metadata": {
    "colab": {},
    "colab_type": "code",
    "id": "XqyRmufJVp_F"
   },
   "outputs": [],
   "source": [
    "answers['10'] = '5. The Lone Ranger (tt1210819)'\n",
    "# ответ верный '+'\n",
    "\n",
    "# Ниже в коде находим все выпущенные фильмы с 2012 года по 2014 год (data.release_year >= 2012) & (data.release_year <= 2014)\n",
    "# Потом из них выбираем который получил минимальную прибыль \n",
    "# data.film_profit == data[((data.release_year >= 2012) & (data.release_year <= 2014))].film_profit.min()\n",
    "\n",
    "min_profit_movie = data[(data.film_profit == data[\n",
    "    ((data.release_year >= 2012) & (data.release_year <= 2014))].film_profit.min())].original_title\n",
    "\n"
   ]
  },
  {
   "cell_type": "markdown",
   "metadata": {
    "colab_type": "text",
    "id": "EA7Sa9dkVp_I"
   },
   "source": [
    "# 11. Какого жанра фильмов больше всего?"
   ]
  },
  {
   "cell_type": "code",
   "execution_count": 32,
   "metadata": {
    "colab": {},
    "colab_type": "code",
    "id": "zsJAwJ8QVp_J"
   },
   "outputs": [
    {
     "name": "stdout",
     "output_type": "stream",
     "text": [
      "Counter({'Drama': 782, 'Comedy': 683, 'Thriller': 596, 'Action': 582, 'Adventure': 415, 'Crime': 315, 'Romance': 308, 'Family': 260, 'Science Fiction': 248, 'Fantasy': 222, 'Horror': 176, 'Mystery': 168, 'Animation': 139, 'Music': 64, 'History': 62, 'War': 58, 'Western': 19, 'Documentary': 8, 'Foreign': 2})\n"
     ]
    }
   ],
   "source": [
    "answers['11'] = '3. Drama'\n",
    "# ответ верный '+'\n",
    "\n",
    "# Создаем пустой список all_movies_genrs\n",
    "all_movies_genrs = []\n",
    "\n",
    "# Ниже создаем функцию list_of_genrs\n",
    "# Ее задача пройти по всей таблице фильмов в столбике genres\n",
    "# разобрать строчку в столбике жанр на отдельные жанры по каждому фильму\n",
    "# и собрать все жанры по каждому фильму в списке all_movies_genrs\n",
    "\n",
    "def list_of_genrs(genres):\n",
    "    genres_list = genres.split('|')\n",
    "    for i in genres_list:\n",
    "        all_movies_genrs.append(i)\n",
    "\n",
    "data.genres.apply(list_of_genrs)\n",
    "\n",
    "# используя библиотеку collections список all_movies_genrs\n",
    "# превращается в словарь где жанр становится ключем, количество раз его в списке становится значением\n",
    "# Плюс ключи сортируются по своим значением от самого большого\n",
    "collections.Counter(all_movies_genrs)\n",
    "print(collections.Counter(all_movies_genrs))"
   ]
  },
  {
   "cell_type": "markdown",
   "metadata": {
    "colab_type": "text",
    "id": "Ax6g2C8SVp_M"
   },
   "source": [
    "ВАРИАНТ 2"
   ]
  },
  {
   "cell_type": "code",
   "execution_count": 0,
   "metadata": {
    "colab": {},
    "colab_type": "code",
    "id": "otO3SbrSVp_N"
   },
   "outputs": [],
   "source": []
  },
  {
   "cell_type": "markdown",
   "metadata": {
    "colab_type": "text",
    "id": "T9_bPWpkVp_Q"
   },
   "source": [
    "# 12. Фильмы какого жанра чаще всего становятся прибыльными? "
   ]
  },
  {
   "cell_type": "code",
   "execution_count": 33,
   "metadata": {
    "colab": {},
    "colab_type": "code",
    "id": "Tmt8MaK1Vp_R"
   },
   "outputs": [
    {
     "name": "stdout",
     "output_type": "stream",
     "text": [
      "Counter({'Drama': 560, 'Comedy': 551, 'Thriller': 446, 'Action': 444, 'Adventure': 337, 'Romance': 242, 'Crime': 231, 'Family': 226, 'Science Fiction': 195, 'Fantasy': 188, 'Horror': 150, 'Animation': 120, 'Mystery': 119, 'Music': 47, 'History': 46, 'War': 41, 'Western': 12, 'Documentary': 7})\n"
     ]
    }
   ],
   "source": [
    "answers['12'] = '1. Drama'\n",
    "# ответ верный '+'\n",
    "\n",
    "# Создаем пустой список all_movies_genrs\n",
    "all_movies_genrs = []\n",
    "\n",
    "# Ниже фильтруем таблицу фильмов, чтоб остались тока те\n",
    "# у которых прибыль больше 0 data.film_profit > 0\n",
    "# Затем используя функцию list_of_genrs созданую в решении 11 задачи\n",
    "# заполняем список all_movies_genrs всеми жанрами фильмов\n",
    "data[(data.film_profit > 0)].genres.apply(list_of_genrs)\n",
    "\n",
    "print(collections.Counter(all_movies_genrs))\n"
   ]
  },
  {
   "cell_type": "markdown",
   "metadata": {
    "colab_type": "text",
    "id": "0F23bgsDVp_U"
   },
   "source": [
    "# 13. У какого режиссера самые большие суммарные кассовые сбооры?"
   ]
  },
  {
   "cell_type": "code",
   "execution_count": 34,
   "metadata": {
    "colab": {},
    "colab_type": "code",
    "id": "K6Z3J8ygVp_X"
   },
   "outputs": [
    {
     "name": "stdout",
     "output_type": "stream",
     "text": [
      "director\n",
      "Peter Jackson        6490593685\n",
      "Christopher Nolan    4167548502\n",
      "David Yates          4154295625\n",
      "Michael Bay          3886938960\n",
      "J.J. Abrams          3579169916\n",
      "                        ...    \n",
      "David MichÃ´d           2295423\n",
      "Steven Shainberg        2281089\n",
      "Paul Schrader           2062066\n",
      "Keanu Reeves            2054941\n",
      "Simon Hunter            2033165\n",
      "Name: revenue, Length: 957, dtype: int64\n"
     ]
    }
   ],
   "source": [
    "answers['13'] = '5. Peter Jackson'\n",
    "# ответ верный '+'\n",
    "\n",
    "# Используя функцию groupby код собирает кассовые сборы фильмов суммарно\n",
    "# по каждому режиссеру и затем сортирует в порядке убывания\n",
    "successful_director = data.groupby(['director'])['revenue'].sum().sort_values(ascending=False)\n",
    "print(successful_director)"
   ]
  },
  {
   "cell_type": "markdown",
   "metadata": {
    "colab_type": "text",
    "id": "PsYC9FgRVp_a"
   },
   "source": [
    "# 14. Какой режисер снял больше всего фильмов в стиле Action?"
   ]
  },
  {
   "cell_type": "code",
   "execution_count": 35,
   "metadata": {
    "colab": {},
    "colab_type": "code",
    "id": "wd2M-wHeVp_b"
   },
   "outputs": [],
   "source": [
    "answers['14'] = '3. Robert Rodriguez'\n",
    "# ответ верный '+'\n",
    "\n",
    "# Первое используя ламбда функцию создаем в таблице столбик 'Action'\n",
    "# в этом столбике каждый фильм который имеет жанр Action получает 1\n",
    "# или 0 если жанра Action нет\n",
    "data['Action'] = data.genres.apply(lambda x:1 if 'Action' in x else 0)\n",
    "\n",
    "# Потом используя функцию groupby, код суммарно группирует столбик 'Action'\n",
    "# по каждому режисеру в убывающем порядке\n",
    "action_director = data.groupby(['director'])['Action'].sum().sort_values(ascending=False)\n",
    "\n"
   ]
  },
  {
   "cell_type": "markdown",
   "metadata": {
    "colab_type": "text",
    "id": "PQ0KciD7Vp_f"
   },
   "source": [
    "# 15. Фильмы с каким актером принесли самые высокие кассовые сборы в 2012 году? "
   ]
  },
  {
   "cell_type": "code",
   "execution_count": 36,
   "metadata": {
    "colab": {},
    "colab_type": "code",
    "id": "aga62oeKVp_g"
   },
   "outputs": [],
   "source": [
    "answers['15'] = '3. Chris Hemsworth'\n",
    "# ответ верный '+'\n",
    "\n",
    "# создаем словарь actors_dic\n",
    "actors_dic = {}\n",
    "\n",
    "# для облегчения решения задачи создаем столбик 'i_index' в таблице\n",
    "# в котором находится индех номер каждого фильма\n",
    "data['i_index'] = data.index\n",
    "\n",
    "# функция actors_dictionary заполняет словарь actors_dic\n",
    "# каждый актер становится ключем и сумарно кассовые сборы\n",
    "# по каждому актеру становятся значением\n",
    "def actors_dictionary(index):\n",
    "    \n",
    "    film_revenue = int(data.revenue[index])\n",
    "    actors_sublist = data.cast[index].split('|')\n",
    "    \n",
    "    for actor in actors_sublist:\n",
    "        if actor in actors_dic.keys():\n",
    "            actors_dic[actor] += film_revenue\n",
    "            \n",
    "        else:\n",
    "            actors_dic[actor] = film_revenue\n",
    "            \n",
    "    \n",
    "# приеменяем функцию actors_dictionary по фильмам снятым 2012 году    \n",
    "data[(data.release_year == 2012)].i_index.apply(actors_dictionary)\n",
    "\n",
    "# используя функцию sorted код сортирует словарь actors_dic по значением\n",
    "# от самого большого\n",
    "actor_top_revenue = sorted(actors_dic.items(), key=lambda x: x[1], reverse = True)[0]\n",
    "\n"
   ]
  },
  {
   "cell_type": "markdown",
   "metadata": {
    "colab_type": "text",
    "id": "mWHyyL7QVp_j"
   },
   "source": [
    "# 16. Какой актер снялся в большем количестве высокобюджетных фильмов?"
   ]
  },
  {
   "cell_type": "code",
   "execution_count": 37,
   "metadata": {
    "colab": {},
    "colab_type": "code",
    "id": "qQtmHKTFVp_k"
   },
   "outputs": [],
   "source": [
    "answers['16'] = '3. Matt Damon'\n",
    "# ответ верный '+'\n",
    "\n",
    "# создаем словарь actors_dict\n",
    "actors_dict = {}\n",
    "\n",
    "# функция actors_dictionary_budget проверяет если бюджет фильма\n",
    "# больше среднего бюджета фильма, если да то функция помещает\n",
    "# сняaвшихся актеров в словарь actors_dict как ключи, а значение \n",
    "# увеличивается на 1\n",
    "def actors_dictionary_budget(index):\n",
    "    \n",
    "    film_budget = int(data.budget[index])\n",
    "    if film_budget > data.budget.mean():\n",
    "        actors_sublist = data.cast[index].split('|')\n",
    "        \n",
    "        for actor in actors_sublist:\n",
    "            if actor in actors_dict.keys():\n",
    "                actors_dict[actor] += 1\n",
    "\n",
    "            else:\n",
    "                actors_dict[actor] = 1\n",
    "            \n",
    "    \n",
    "data.i_index.apply(actors_dictionary_budget)\n",
    "\n",
    "# код ниже сортирует словарь actors_dict по значениям от самого большого\n",
    "actor_dict_sorted = sorted(actors_dict.items(), key=lambda x: x[1], reverse = True)\n"
   ]
  },
  {
   "cell_type": "markdown",
   "metadata": {
    "colab_type": "text",
    "id": "NIh6AaW5Vp_n"
   },
   "source": [
    "# 17. В фильмах какого жанра больше всего снимался Nicolas Cage? "
   ]
  },
  {
   "cell_type": "code",
   "execution_count": 38,
   "metadata": {
    "colab": {},
    "colab_type": "code",
    "id": "H74SJDIBVp_n"
   },
   "outputs": [
    {
     "name": "stdout",
     "output_type": "stream",
     "text": [
      "Counter({'Action': 17, 'Thriller': 15, 'Drama': 12, 'Crime': 10, 'Fantasy': 8, 'Adventure': 7, 'Comedy': 6, 'Science Fiction': 4, 'Mystery': 3, 'Animation': 3, 'Family': 3, 'History': 2, 'War': 1, 'Horror': 1, 'Romance': 1})\n"
     ]
    }
   ],
   "source": [
    "answers['17'] = '2. Action'\n",
    "# ответ верный '+'\n",
    "\n",
    "# Создаем таблицу Nicolas_Cage_table в которой только фильмы где\n",
    "# Nicolas Cage снимался\n",
    "Nicolas_Cage_table =  data[data.cast.str.contains('Nicolas Cage', na=False)]\n",
    "movie_genres_list = []\n",
    "\n",
    "# Функция genres_list_make заполняет жанрами фильмов список movie_genres_list\n",
    "def genres_list_maker(index):\n",
    "    genres_sublist = Nicolas_Cage_table.genres[index].split('|')\n",
    "    for word in genres_sublist:\n",
    "        movie_genres_list.append(word)\n",
    "        \n",
    "Nicolas_Cage_table.i_index.apply(genres_list_maker)\n",
    "\n",
    "# используя библиотеку collections список movie_genres_list\n",
    "# превращается в словарь где жанр становится ключем, количество раз его в списке становится значением\n",
    "# Плюс ключи сортируются по своим значением от самого большого\n",
    "collections.Counter(movie_genres_list)\n",
    "print(collections.Counter(movie_genres_list))"
   ]
  },
  {
   "cell_type": "markdown",
   "metadata": {
    "colab_type": "text",
    "id": "RqOmPRfWVp_q"
   },
   "source": [
    "# 18. Самый убыточный фильм от Paramount Pictures"
   ]
  },
  {
   "cell_type": "code",
   "execution_count": 39,
   "metadata": {
    "colab": {},
    "colab_type": "code",
    "id": "9E_B0Y96Vp_r"
   },
   "outputs": [],
   "source": [
    "answers['18'] = '1. K-19: The Widowmaker (tt0267626)'\n",
    "# ответ верный '+'\n",
    "\n",
    "# создаем paramount_table где только фильмы которые были сняты Paramount Pictures\n",
    "paramount_table = data[data.production_companies.str.contains('Paramount Pictures', na=False)]\n",
    "\n",
    "unprofitalbe_film = paramount_table[\n",
    "    (paramount_table.film_profit == paramount_table.film_profit.min())].original_title\n"
   ]
  },
  {
   "cell_type": "markdown",
   "metadata": {
    "colab_type": "text",
    "id": "vS8Ur6ddVp_u"
   },
   "source": [
    "# 19. Какой год стал самым успешным по суммарным кассовым сборам?"
   ]
  },
  {
   "cell_type": "code",
   "execution_count": 40,
   "metadata": {
    "colab": {},
    "colab_type": "code",
    "id": "Dnbt4GdIVp_v"
   },
   "outputs": [],
   "source": [
    "answers['19'] = '5. 2015'\n",
    "# ответ верный '+'\n",
    "\n",
    "# ниже код суммарно группирует кассовые сборы по годам и сортирует\n",
    "# от самого большого кассового сбора\n",
    "top_year = data.groupby(['release_year'])['revenue'].sum().sort_values(ascending=False)\n"
   ]
  },
  {
   "cell_type": "markdown",
   "metadata": {
    "colab_type": "text",
    "id": "JAzJh4QAVp_z"
   },
   "source": [
    "# 20. Какой самый прибыльный год для студии Warner Bros?"
   ]
  },
  {
   "cell_type": "code",
   "execution_count": 41,
   "metadata": {
    "colab": {},
    "colab_type": "code",
    "id": "wgVu02DEVp_0"
   },
   "outputs": [
    {
     "name": "stdout",
     "output_type": "stream",
     "text": [
      "release_year\n",
      "2014    2295464519\n",
      "2007    2201675217\n",
      "2008    2134595031\n",
      "2010    1974712985\n",
      "2011    1871393682\n",
      "2003    1855493377\n",
      "2009    1822454136\n",
      "2013    1636453400\n",
      "2004    1631933725\n",
      "2005    1551980298\n",
      "2001    1343545668\n",
      "2012    1258020056\n",
      "2002    1022709901\n",
      "2015     870368348\n",
      "2006     620170743\n",
      "2000     452631386\n",
      "Name: film_profit, dtype: int64\n"
     ]
    }
   ],
   "source": [
    "answers['20'] = '1. 2014'\n",
    "# ответ верный '+'\n",
    "\n",
    "# warner_table таблица в которой тольк фильмы снятые Warner Bros\n",
    "warner_table = data[data.production_companies.str.contains('Warner Bros', na=False)]\n",
    "\n",
    "# код ниже групперует из таблицы warner_table по годам суммарную прибыль\n",
    "# и сортирует от самой большой прибыли до самой маленькой\n",
    "warner_top_year = warner_table.groupby(['release_year'])['film_profit'].sum().sort_values(ascending=False)\n",
    "print(warner_top_year)"
   ]
  },
  {
   "cell_type": "markdown",
   "metadata": {
    "colab_type": "text",
    "id": "8Im1S2HRVp_4"
   },
   "source": [
    "# 21. В каком месяце за все годы суммарно вышло больше всего фильмов?"
   ]
  },
  {
   "cell_type": "code",
   "execution_count": 42,
   "metadata": {
    "colab": {},
    "colab_type": "code",
    "id": "lev6TH7gVp_4"
   },
   "outputs": [
    {
     "name": "stdout",
     "output_type": "stream",
     "text": [
      "Counter({'9': 227, '12': 190, '10': 186, '8': 161, '3': 156, '4': 149, '6': 147, '11': 146, '7': 142, '5': 140, '2': 135, '1': 110})\n"
     ]
    }
   ],
   "source": [
    "answers['21'] = '4. Сентябрь'\n",
    "# ответ верный '+'\n",
    "\n",
    "# создаем пустой список films_per_month\n",
    "films_per_month = []\n",
    "\n",
    "# функция count_movies_monthly по каждому фильму достает месяц из даты выхода\n",
    "# и добавляет номер месяца в список films_per_month\n",
    "def count_movies_monthly(date):\n",
    "    date = str(date)\n",
    "    date_list = date.split('/')\n",
    "    films_per_month.append(date_list[0])\n",
    "    \n",
    "data.release_date.apply(count_movies_monthly)\n",
    "\n",
    "# используя библиотеку collections список films_per_month\n",
    "# превращается в словарь где месяц становится ключем, количество раз его в списке становится значением\n",
    "# Плюс ключи сортируются по своим значением от самого большого\n",
    "month_counter = collections.Counter(films_per_month)\n",
    "print(month_counter)"
   ]
  },
  {
   "cell_type": "markdown",
   "metadata": {
    "colab_type": "text",
    "id": "uAJsZ_NeVp_7"
   },
   "source": [
    "# 22. Сколько суммарно вышло фильмов летом? (за июнь, июль, август)\n"
   ]
  },
  {
   "cell_type": "code",
   "execution_count": 43,
   "metadata": {
    "colab": {},
    "colab_type": "code",
    "id": "Aa-hEREoVp_8"
   },
   "outputs": [],
   "source": [
    "answers['22'] = '2. 450'\n",
    "# ответ верный '+'\n",
    "\n",
    "# используя решение задачи 22 из словаря month_counter\n",
    "# берутся нужные месяцы по ключу и складываются их значения\n",
    "num_summer_movies = month_counter['6'] + month_counter['7'] + month_counter['8']\n"
   ]
  },
  {
   "cell_type": "markdown",
   "metadata": {},
   "source": [
    "# 23. Для какого режиссера зима — самое продуктивное время года?"
   ]
  },
  {
   "cell_type": "code",
   "execution_count": 44,
   "metadata": {
    "colab": {},
    "colab_type": "code",
    "id": "RhNTsamuVqAB"
   },
   "outputs": [
    {
     "name": "stdout",
     "output_type": "stream",
     "text": [
      "director\n",
      "Peter Jackson                          7\n",
      "Steven Soderbergh                      6\n",
      "Clint Eastwood                         6\n",
      "Nancy Meyers                           4\n",
      "Adam Shankman                          4\n",
      "                                      ..\n",
      "Matt Bettinelli-Olpin|Tyler Gillett    1\n",
      "Matt Reeves                            1\n",
      "Matthew O'Callaghan                    1\n",
      "Matthew Vaughn                         1\n",
      "Aaron Seltzer|Jason Friedberg          1\n",
      "Name: original_title, Length: 332, dtype: int64\n"
     ]
    }
   ],
   "source": [
    "answers['23'] = '5. Peter Jackson'\n",
    "# ответ верный '+'\n",
    "\n",
    "# winter_table это таблица в которой собраны фильмы снятые в декабре, январе и феврале\n",
    "winter_table = data[data.release_date.str.match(pat = '(12/)|(1/)|(2/)', na=False)]\n",
    "\n",
    "# ниже код группирует winter_table по режиссерам суммирая снятые их фильмы\n",
    "# и сортируя от самого продуктивного сверху\n",
    "director_table = winter_table.groupby(['director'])['original_title'].count().sort_values(ascending=False)\n",
    "print(director_table)"
   ]
  },
  {
   "cell_type": "markdown",
   "metadata": {
    "colab_type": "text",
    "id": "RBo0JVjVVqAF"
   },
   "source": [
    "# 24. Какая студия дает самые длинные названия своим фильмам по количеству символов?"
   ]
  },
  {
   "cell_type": "code",
   "execution_count": 45,
   "metadata": {
    "colab": {},
    "colab_type": "code",
    "id": "QRGS8L0iVqAG"
   },
   "outputs": [
    {
     "name": "stdout",
     "output_type": "stream",
     "text": [
      "prod_company\n",
      "Four By Two Productions       72.0\n",
      "Jim Henson Company, The       50.0\n",
      "Museum Canada Productions     39.0\n",
      "Dos Corazones                 39.0\n",
      "Polsky Films                  38.0\n",
      "                              ... \n",
      "Everest Entertainment          3.0\n",
      "Berlanti Productions           3.0\n",
      "Global Entertainment Group     2.0\n",
      "Ixtlan Productions             2.0\n",
      "XM2 Productions                2.0\n",
      "Name: title_length, Length: 1771, dtype: float64\n"
     ]
    }
   ],
   "source": [
    "answers['24'] = '5. Four By Two Productions'\n",
    "# ответ верный '+'\n",
    "\n",
    "# список company_list для хранения компаний\n",
    "# список title_leng для хранения длины названия каждого фильма\n",
    "company_list = []\n",
    "title_leng = []\n",
    "\n",
    "# dataFrame prod_table для хранения и обработки списков company_list и title_leng\n",
    "prod_table = pd.DataFrame(columns=['prod_company', 'title_length'])\n",
    "\n",
    "# функция film_title_length собирает названия компаний снявших фильм и длину названия\n",
    "# и складывает их по спискам company_list и title_leng\n",
    "def film_title_length(index):\n",
    "    sub_list = data.production_companies[index].split('|')\n",
    "    title_len = len(data.original_title[index]) - data.original_title[index].count(\" \")\n",
    "    for company in sub_list:\n",
    "        company_list.append(company)\n",
    "        title_leng.append(title_len)\n",
    "                          \n",
    "\n",
    "data.i_index.apply(film_title_length)\n",
    "\n",
    "# ниже код загружает столбики в prod_table из списков company_list и title_leng\n",
    "prod_table['prod_company'] = company_list\n",
    "prod_table['title_length'] = title_leng\n",
    "\n",
    "# ниже из таблицы prod_table группируется список по названию компаний и средней длине названия по буквам\n",
    "# по каждой компании от самого большого среднего на верху\n",
    "mean_title_length = prod_table.groupby(['prod_company'])['title_length'].mean().sort_values(ascending=False)\n",
    "print(mean_title_length)\n"
   ]
  },
  {
   "cell_type": "markdown",
   "metadata": {
    "colab_type": "text",
    "id": "9G0hbvR7VqAK"
   },
   "source": [
    "# 25. Описание фильмов какой студии в среднем самые длинные по количеству слов?"
   ]
  },
  {
   "cell_type": "code",
   "execution_count": 46,
   "metadata": {
    "colab": {},
    "colab_type": "code",
    "id": "Ge2GsLNxVqAK"
   },
   "outputs": [
    {
     "name": "stdout",
     "output_type": "stream",
     "text": [
      "company_list\n",
      "Midnight Picture Show                    175.0\n",
      "Room 9 Entertainment                     161.0\n",
      "Heineken Branded Entertainment           161.0\n",
      "98 MPH Productions                       159.0\n",
      "Brookwell-McNamara Entertainment         156.0\n",
      "                                         ...  \n",
      "London Boulevard                          13.0\n",
      "Phantom Four                              13.0\n",
      "Henceforth                                13.0\n",
      "Empire Pictures                           11.0\n",
      "Motion Picture Corporation of America     11.0\n",
      "Name: words_in_title, Length: 1771, dtype: float64\n"
     ]
    }
   ],
   "source": [
    "answers['25'] = '3. Midnight Picture Show'\n",
    "# ответ верный '+'\n",
    "\n",
    "# список company_list для хранения компаний\n",
    "# список words_in_title для хранения длины названия каждого фильма\n",
    "company_list = []\n",
    "words_in_title = []\n",
    "\n",
    "# dataFrame company_and_title для хранения и обработки списков company_list и words_in_title\n",
    "company_and_title = pd.DataFrame(columns=['company_list', 'words_in_title'])\n",
    "\n",
    "# функция num_words_in_title собирает названия компаний снявших фильм и длину названия по словам\n",
    "# и складывает их по спискам company_list и words_in_title\n",
    "def num_words_in_title(index):\n",
    "    sub_list = data.production_companies[index].split('|')\n",
    "    num_of_words = len(data.overview[index].split(' '))\n",
    "    \n",
    "    for company in sub_list:\n",
    "        company_list.append(company)\n",
    "        words_in_title.append(num_of_words)\n",
    "        \n",
    "\n",
    "data.i_index.apply(num_words_in_title)\n",
    "\n",
    "# ниже код загружает столбики в company_and_title из списков company_list и words_in_title\n",
    "company_and_title['company_list'] = company_list\n",
    "company_and_title['words_in_title'] = words_in_title\n",
    "\n",
    "# ниже из таблицы company_and_title группируется список по названию компаний и средней длине названия по словам\n",
    "# по каждой компании от самого большого среднего на верху\n",
    "mean_num_of_words = company_and_title.groupby(['company_list'])['words_in_title'].mean().sort_values(ascending=False)\n",
    "\n",
    "print(mean_num_of_words)\n",
    "    "
   ]
  },
  {
   "cell_type": "markdown",
   "metadata": {
    "colab_type": "text",
    "id": "FJ1AFt90VqAP"
   },
   "source": [
    "# 26. Какие фильмы входят в 1 процент лучших по рейтингу? \n",
    "по vote_average"
   ]
  },
  {
   "cell_type": "code",
   "execution_count": 47,
   "metadata": {
    "colab": {},
    "colab_type": "code",
    "id": "8qmJVq4CVqAQ"
   },
   "outputs": [
    {
     "name": "stdout",
     "output_type": "stream",
     "text": [
      "9                                          Inside Out\n",
      "34                                               Room\n",
      "118                                      Interstellar\n",
      "119                           Guardians of the Galaxy\n",
      "125                                The Imitation Game\n",
      "128                                         Gone Girl\n",
      "138                          The Grand Budapest Hotel\n",
      "370                                         Inception\n",
      "599                                   The Dark Knight\n",
      "872                                       The Pianist\n",
      "1081    The Lord of the Rings: The Return of the King\n",
      "1183                          The Wolf of Wall Street\n",
      "1191                                 12 Years a Slave\n",
      "1800                                          Memento\n",
      "Name: original_title, dtype: object\n"
     ]
    }
   ],
   "source": [
    "answers['26'] = '1. Inside Out, The Dark Knight, 12 Years a Slave'\n",
    "# ответ верный '+'\n",
    "\n",
    "# Ниже код используя функцию quantile фильтрует фильмы по рейтингу и оставляет только 1% лучших\n",
    "best_movies = data[(data.vote_average > data.vote_average.quantile(0.99))].original_title\n",
    "\n",
    "print(best_movies)"
   ]
  },
  {
   "cell_type": "markdown",
   "metadata": {
    "colab_type": "text",
    "id": "MdXsUXbCVqAV"
   },
   "source": [
    "# 27. Какие актеры чаще всего снимаются в одном фильме вместе?\n"
   ]
  },
  {
   "cell_type": "code",
   "execution_count": 48,
   "metadata": {},
   "outputs": [],
   "source": [
    "answers['27'] = '5. Daniel Radcliffe & Rupert Grint'\n",
    "# ответ верный '+'\n",
    "\n",
    "# список actor_pairs для хранения пар актеров\n",
    "actor_pairs = []\n",
    "\n",
    "# функция actor_combinations используя библиотику itertools import combinations\n",
    "# по каждому фильму собирает все комбинации актеров по два и сортируя добавляет их в actor_pairs\n",
    "def actor_combinations(index):\n",
    "    actors_sublist = data.cast[index].split('|')\n",
    "    combs = combinations(actors_sublist, 2)\n",
    "    \n",
    "    for comb in combs:\n",
    "        pair = sorted(list(comb))\n",
    "        joined_pair = '_'.join(pair)\n",
    "        actor_pairs.append(joined_pair)\n",
    "    \n",
    "\n",
    "data.i_index.apply(actor_combinations)\n",
    "\n",
    "# используя библиотеку collections список actor_pairs\n",
    "# превращается в словарь где пара актеров становится ключем, количество раз ее в списке становится значением\n",
    "# Плюс ключи сортируются по своим значением от самого большого\n",
    "actor_pairs_frquency = collections.Counter(actor_pairs)\n"
   ]
  },
  {
   "cell_type": "markdown",
   "metadata": {
    "colab_type": "text",
    "id": "4ymnxEVoVqAW"
   },
   "source": [
    "ВАРИАНТ 2"
   ]
  },
  {
   "cell_type": "markdown",
   "metadata": {
    "colab_type": "text",
    "id": "U0nONFnGVqAX"
   },
   "source": [
    "# Submission"
   ]
  },
  {
   "cell_type": "code",
   "execution_count": 49,
   "metadata": {
    "colab": {},
    "colab_type": "code",
    "id": "IfcaRO9-VqAX",
    "outputId": "0f132912-32bb-4196-c98c-abfbc4ad5a5f"
   },
   "outputs": [
    {
     "data": {
      "text/plain": [
       "{'6': '5. Avatar (tt0499549)',\n",
       " '11': '3. Drama',\n",
       " '14': '3. Robert Rodriguez',\n",
       " '15': '3. Chris Hemsworth',\n",
       " '24': '5. Four By Two Productions',\n",
       " '25': '3. Midnight Picture Show',\n",
       " '26': '1. Inside Out, The Dark Knight, 12 Years a Slave',\n",
       " '27': '5. Daniel Radcliffe & Rupert Grint',\n",
       " '1': '5. Pirates of the Caribbean: On Stranger Tides (tt1298650)',\n",
       " '2': '2. Gods and Generals (tt0279111)',\n",
       " '3': '3. Winnie the Pooh (tt1449283)',\n",
       " '4': '2. 110',\n",
       " '5': '1. 107',\n",
       " '7': '5. The Lone Ranger (tt1210819)',\n",
       " '8': '1. 1478',\n",
       " '9': '4. The Dark Knight (tt0468569)',\n",
       " '10': '5. The Lone Ranger (tt1210819)',\n",
       " '12': '1. Drama',\n",
       " '13': '5. Peter Jackson',\n",
       " '16': '3. Matt Damon',\n",
       " '17': '2. Action',\n",
       " '18': '1. K-19: The Widowmaker (tt0267626)',\n",
       " '19': '5. 2015',\n",
       " '20': '1. 2014',\n",
       " '21': '4. Сентябрь',\n",
       " '22': '2. 450',\n",
       " '23': '5. Peter Jackson'}"
      ]
     },
     "execution_count": 49,
     "metadata": {},
     "output_type": "execute_result"
    }
   ],
   "source": [
    "# в конце можно посмотреть свои ответы к каждому вопросу\n",
    "answers"
   ]
  },
  {
   "cell_type": "code",
   "execution_count": 50,
   "metadata": {
    "colab": {},
    "colab_type": "code",
    "id": "SiRmHPl8VqAd"
   },
   "outputs": [
    {
     "data": {
      "text/plain": [
       "27"
      ]
     },
     "execution_count": 50,
     "metadata": {},
     "output_type": "execute_result"
    }
   ],
   "source": [
    "# и убедиться что ни чего не пропустил)\n",
    "len(answers)"
   ]
  },
  {
   "cell_type": "code",
   "execution_count": 0,
   "metadata": {
    "colab": {},
    "colab_type": "code",
    "id": "uCfuTkRbVqAg"
   },
   "outputs": [],
   "source": []
  },
  {
   "cell_type": "code",
   "execution_count": 0,
   "metadata": {
    "colab": {},
    "colab_type": "code",
    "id": "Vwx3NrkSVqAl"
   },
   "outputs": [],
   "source": []
  }
 ],
 "metadata": {
  "colab": {
   "name": "Copy of [SF-DST] Movies IMBD v4.1 TEMPLATE.ipynb",
   "provenance": []
  },
  "kernelspec": {
   "display_name": "Python 3",
   "language": "python",
   "name": "python3"
  },
  "language_info": {
   "codemirror_mode": {
    "name": "ipython",
    "version": 3
   },
   "file_extension": ".py",
   "mimetype": "text/x-python",
   "name": "python",
   "nbconvert_exporter": "python",
   "pygments_lexer": "ipython3",
   "version": "3.8.3"
  }
 },
 "nbformat": 4,
 "nbformat_minor": 1
}
