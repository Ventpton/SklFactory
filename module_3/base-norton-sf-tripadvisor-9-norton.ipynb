{
 "cells": [
  {
   "cell_type": "markdown",
   "metadata": {},
   "source": [
    "![](https://www.pata.org/wp-content/uploads/2014/09/TripAdvisor_Logo-300x119.png)\n",
    "# Predict TripAdvisor Rating\n",
    "## В этом соревновании нам предстоит предсказать рейтинг ресторана в TripAdvisor\n",
    "**По ходу задачи:**\n",
    "* Прокачаем работу с pandas\n",
    "* Научимся работать с Kaggle Notebooks\n",
    "* Поймем как делать предобработку различных данных\n",
    "* Научимся работать с пропущенными данными (Nan)\n",
    "* Познакомимся с различными видами кодирования признаков\n",
    "* Немного попробуем [Feature Engineering](https://ru.wikipedia.org/wiki/Конструирование_признаков) (генерировать новые признаки)\n",
    "* И совсем немного затронем ML\n",
    "* И многое другое...   \n",
    "\n",
    "\n",
    "\n",
    "### И самое важное, все это вы сможете сделать самостоятельно!\n",
    "\n",
    "*Этот Ноутбук являетсся Примером/Шаблоном к этому соревнованию (Baseline) и не служит готовым решением!*   \n",
    "Вы можете использовать его как основу для построения своего решения.\n",
    "\n",
    "> что такое baseline решение, зачем оно нужно и почему предоставлять baseline к соревнованию стало важным стандартом на kaggle и других площадках.   \n",
    "**baseline** создается больше как шаблон, где можно посмотреть как происходит обращение с входящими данными и что нужно получить на выходе. При этом МЛ начинка может быть достаточно простой, просто для примера. Это помогает быстрее приступить к самому МЛ, а не тратить ценное время на чисто инженерные задачи. \n",
    "Также baseline являеться хорошей опорной точкой по метрике. Если твое решение хуже baseline - ты явно делаешь что-то не то и стоит попробовать другой путь) \n",
    "\n",
    "В контексте нашего соревнования baseline идет с небольшими примерами того, что можно делать с данными, и с инструкцией, что делать дальше, чтобы улучшить результат.  Вообще готовым решением это сложно назвать, так как используются всего 2 самых простых признака (а остальные исключаются)."
   ]
  },
  {
   "cell_type": "markdown",
   "metadata": {},
   "source": [
    "# import"
   ]
  },
  {
   "cell_type": "code",
   "execution_count": null,
   "metadata": {},
   "outputs": [],
   "source": []
  },
  {
   "cell_type": "code",
   "execution_count": 1,
   "metadata": {
    "_cell_guid": "b1076dfc-b9ad-4769-8c92-a6c4dae69d19",
    "_uuid": "8f2839f25d086af736a60e9eeb907d3b93b6e0e5"
   },
   "outputs": [
    {
     "name": "stdout",
     "output_type": "stream",
     "text": [
      "/kaggle/input/more-reviews/feedbacks.csv\n",
      "/kaggle/input/kaggle-test-restaurants-reviews/kaggle_rests.csv\n",
      "/kaggle/input/morereviews/kaggle_task_feedbacks_1.csv\n",
      "/kaggle/input/sf-dst-restaurant-rating/sample_submission.csv\n",
      "/kaggle/input/sf-dst-restaurant-rating/main_task.csv\n",
      "/kaggle/input/sf-dst-restaurant-rating/kaggle_task.csv\n",
      "/kaggle/input/more-test-feedbacks/feedbackz.csv\n"
     ]
    }
   ],
   "source": [
    "# This Python 3 environment comes with many helpful analytics libraries installed\n",
    "# It is defined by the kaggle/python docker image: https://github.com/kaggle/docker-python\n",
    "# For example, here's several helpful packages to load in \n",
    "\n",
    "import numpy as np # linear algebra\n",
    "import pandas as pd # data processing, CSV file I/O (e.g. pd.read_csv)\n",
    "\n",
    "import matplotlib.pyplot as plt\n",
    "import seaborn as sns \n",
    "%matplotlib inline\n",
    "\n",
    "# Загружаем специальный удобный инструмент для разделения датасета:\n",
    "from sklearn.model_selection import train_test_split\n",
    "\n",
    "# Input data files are available in the \"../input/\" directory.\n",
    "# For example, running this (by clicking run or pressing Shift+Enter) will list all files under the input directory\n",
    "\n",
    "import os\n",
    "for dirname, _, filenames in os.walk('/kaggle/input'):\n",
    "    for filename in filenames:\n",
    "        print(os.path.join(dirname, filename))\n",
    "\n",
    "# Any results you write to the current directory are saved as output."
   ]
  },
  {
   "cell_type": "code",
   "execution_count": 2,
   "metadata": {},
   "outputs": [],
   "source": [
    "# всегда фиксируйте RANDOM_SEED, чтобы ваши эксперименты были воспроизводимы!\n",
    "RANDOM_SEED = 42"
   ]
  },
  {
   "cell_type": "code",
   "execution_count": 3,
   "metadata": {},
   "outputs": [],
   "source": [
    "# зафиксируем версию пакетов, чтобы эксперименты были воспроизводимы:\n",
    "!pip freeze > requirements.txt"
   ]
  },
  {
   "cell_type": "markdown",
   "metadata": {},
   "source": [
    "# DATA"
   ]
  },
  {
   "cell_type": "code",
   "execution_count": 4,
   "metadata": {
    "_cell_guid": "79c7e3d0-c299-4dcb-8224-4455121ee9b0",
    "_uuid": "d629ff2d2480ee46fbb7e2d37f6b5fab8052498a"
   },
   "outputs": [],
   "source": [
    "DATA_DIR = '/kaggle/input/sf-dst-restaurant-rating/'\n",
    "df_train = pd.read_csv(DATA_DIR+'/main_task.csv')\n",
    "df_test = pd.read_csv(DATA_DIR+'kaggle_task.csv')\n",
    "sample_submission = pd.read_csv(DATA_DIR+'/sample_submission.csv')\n",
    "\n",
    "more_reviews = '/kaggle/input/more-reviews/'\n",
    "kaggle_restaurants = '/kaggle/input/more-test-feedbacks/'\n",
    "feeds = pd.read_csv(more_reviews+'feedbacks.csv')\n",
    "kaggle_rests = pd.read_csv(kaggle_restaurants+'feedbackz.csv')"
   ]
  },
  {
   "cell_type": "code",
   "execution_count": 5,
   "metadata": {},
   "outputs": [
    {
     "name": "stdout",
     "output_type": "stream",
     "text": [
      "<class 'pandas.core.frame.DataFrame'>\n",
      "RangeIndex: 40000 entries, 0 to 39999\n",
      "Data columns (total 10 columns):\n",
      "Restaurant_id        40000 non-null object\n",
      "City                 40000 non-null object\n",
      "Cuisine Style        30717 non-null object\n",
      "Ranking              40000 non-null float64\n",
      "Rating               40000 non-null float64\n",
      "Price Range          26114 non-null object\n",
      "Number of Reviews    37457 non-null float64\n",
      "Reviews              40000 non-null object\n",
      "URL_TA               40000 non-null object\n",
      "ID_TA                40000 non-null object\n",
      "dtypes: float64(3), object(7)\n",
      "memory usage: 3.1+ MB\n"
     ]
    }
   ],
   "source": [
    "df_train.info()"
   ]
  },
  {
   "cell_type": "raw",
   "metadata": {},
   "source": [
    "df_train.info()"
   ]
  },
  {
   "cell_type": "code",
   "execution_count": 6,
   "metadata": {},
   "outputs": [
    {
     "data": {
      "text/html": [
       "<div>\n",
       "<style scoped>\n",
       "    .dataframe tbody tr th:only-of-type {\n",
       "        vertical-align: middle;\n",
       "    }\n",
       "\n",
       "    .dataframe tbody tr th {\n",
       "        vertical-align: top;\n",
       "    }\n",
       "\n",
       "    .dataframe thead th {\n",
       "        text-align: right;\n",
       "    }\n",
       "</style>\n",
       "<table border=\"1\" class=\"dataframe\">\n",
       "  <thead>\n",
       "    <tr style=\"text-align: right;\">\n",
       "      <th></th>\n",
       "      <th>Restaurant_id</th>\n",
       "      <th>City</th>\n",
       "      <th>Cuisine Style</th>\n",
       "      <th>Ranking</th>\n",
       "      <th>Rating</th>\n",
       "      <th>Price Range</th>\n",
       "      <th>Number of Reviews</th>\n",
       "      <th>Reviews</th>\n",
       "      <th>URL_TA</th>\n",
       "      <th>ID_TA</th>\n",
       "    </tr>\n",
       "  </thead>\n",
       "  <tbody>\n",
       "    <tr>\n",
       "      <th>0</th>\n",
       "      <td>id_5569</td>\n",
       "      <td>Paris</td>\n",
       "      <td>['European', 'French', 'International']</td>\n",
       "      <td>5570.0</td>\n",
       "      <td>3.5</td>\n",
       "      <td>$$ - $$$</td>\n",
       "      <td>194.0</td>\n",
       "      <td>[['Good food at your doorstep', 'A good hotel ...</td>\n",
       "      <td>/Restaurant_Review-g187147-d1912643-Reviews-R_...</td>\n",
       "      <td>d1912643</td>\n",
       "    </tr>\n",
       "    <tr>\n",
       "      <th>1</th>\n",
       "      <td>id_1535</td>\n",
       "      <td>Stockholm</td>\n",
       "      <td>NaN</td>\n",
       "      <td>1537.0</td>\n",
       "      <td>4.0</td>\n",
       "      <td>NaN</td>\n",
       "      <td>10.0</td>\n",
       "      <td>[['Unique cuisine', 'Delicious Nepalese food']...</td>\n",
       "      <td>/Restaurant_Review-g189852-d7992032-Reviews-Bu...</td>\n",
       "      <td>d7992032</td>\n",
       "    </tr>\n",
       "    <tr>\n",
       "      <th>2</th>\n",
       "      <td>id_352</td>\n",
       "      <td>London</td>\n",
       "      <td>['Japanese', 'Sushi', 'Asian', 'Grill', 'Veget...</td>\n",
       "      <td>353.0</td>\n",
       "      <td>4.5</td>\n",
       "      <td>$$$$</td>\n",
       "      <td>688.0</td>\n",
       "      <td>[['Catch up with friends', 'Not exceptional'],...</td>\n",
       "      <td>/Restaurant_Review-g186338-d8632781-Reviews-RO...</td>\n",
       "      <td>d8632781</td>\n",
       "    </tr>\n",
       "    <tr>\n",
       "      <th>3</th>\n",
       "      <td>id_3456</td>\n",
       "      <td>Berlin</td>\n",
       "      <td>NaN</td>\n",
       "      <td>3458.0</td>\n",
       "      <td>5.0</td>\n",
       "      <td>NaN</td>\n",
       "      <td>3.0</td>\n",
       "      <td>[[], []]</td>\n",
       "      <td>/Restaurant_Review-g187323-d1358776-Reviews-Es...</td>\n",
       "      <td>d1358776</td>\n",
       "    </tr>\n",
       "    <tr>\n",
       "      <th>4</th>\n",
       "      <td>id_615</td>\n",
       "      <td>Munich</td>\n",
       "      <td>['German', 'Central European', 'Vegetarian Fri...</td>\n",
       "      <td>621.0</td>\n",
       "      <td>4.0</td>\n",
       "      <td>$$ - $$$</td>\n",
       "      <td>84.0</td>\n",
       "      <td>[['Best place to try a Bavarian food', 'Nice b...</td>\n",
       "      <td>/Restaurant_Review-g187309-d6864963-Reviews-Au...</td>\n",
       "      <td>d6864963</td>\n",
       "    </tr>\n",
       "  </tbody>\n",
       "</table>\n",
       "</div>"
      ],
      "text/plain": [
       "  Restaurant_id       City                                      Cuisine Style  \\\n",
       "0       id_5569      Paris            ['European', 'French', 'International']   \n",
       "1       id_1535  Stockholm                                                NaN   \n",
       "2        id_352     London  ['Japanese', 'Sushi', 'Asian', 'Grill', 'Veget...   \n",
       "3       id_3456     Berlin                                                NaN   \n",
       "4        id_615     Munich  ['German', 'Central European', 'Vegetarian Fri...   \n",
       "\n",
       "   Ranking  Rating Price Range  Number of Reviews  \\\n",
       "0   5570.0     3.5    $$ - $$$              194.0   \n",
       "1   1537.0     4.0         NaN               10.0   \n",
       "2    353.0     4.5        $$$$              688.0   \n",
       "3   3458.0     5.0         NaN                3.0   \n",
       "4    621.0     4.0    $$ - $$$               84.0   \n",
       "\n",
       "                                             Reviews  \\\n",
       "0  [['Good food at your doorstep', 'A good hotel ...   \n",
       "1  [['Unique cuisine', 'Delicious Nepalese food']...   \n",
       "2  [['Catch up with friends', 'Not exceptional'],...   \n",
       "3                                           [[], []]   \n",
       "4  [['Best place to try a Bavarian food', 'Nice b...   \n",
       "\n",
       "                                              URL_TA     ID_TA  \n",
       "0  /Restaurant_Review-g187147-d1912643-Reviews-R_...  d1912643  \n",
       "1  /Restaurant_Review-g189852-d7992032-Reviews-Bu...  d7992032  \n",
       "2  /Restaurant_Review-g186338-d8632781-Reviews-RO...  d8632781  \n",
       "3  /Restaurant_Review-g187323-d1358776-Reviews-Es...  d1358776  \n",
       "4  /Restaurant_Review-g187309-d6864963-Reviews-Au...  d6864963  "
      ]
     },
     "execution_count": 6,
     "metadata": {},
     "output_type": "execute_result"
    }
   ],
   "source": [
    "df_train.head(5)"
   ]
  },
  {
   "cell_type": "code",
   "execution_count": 7,
   "metadata": {},
   "outputs": [
    {
     "name": "stdout",
     "output_type": "stream",
     "text": [
      "<class 'pandas.core.frame.DataFrame'>\n",
      "RangeIndex: 10000 entries, 0 to 9999\n",
      "Data columns (total 9 columns):\n",
      "Restaurant_id        10000 non-null object\n",
      "City                 10000 non-null object\n",
      "Cuisine Style        7693 non-null object\n",
      "Ranking              10000 non-null float64\n",
      "Price Range          6525 non-null object\n",
      "Number of Reviews    9343 non-null float64\n",
      "Reviews              9998 non-null object\n",
      "URL_TA               10000 non-null object\n",
      "ID_TA                10000 non-null object\n",
      "dtypes: float64(2), object(7)\n",
      "memory usage: 703.2+ KB\n"
     ]
    }
   ],
   "source": [
    "df_test.info()\n"
   ]
  },
  {
   "cell_type": "code",
   "execution_count": 8,
   "metadata": {},
   "outputs": [
    {
     "data": {
      "text/html": [
       "<div>\n",
       "<style scoped>\n",
       "    .dataframe tbody tr th:only-of-type {\n",
       "        vertical-align: middle;\n",
       "    }\n",
       "\n",
       "    .dataframe tbody tr th {\n",
       "        vertical-align: top;\n",
       "    }\n",
       "\n",
       "    .dataframe thead th {\n",
       "        text-align: right;\n",
       "    }\n",
       "</style>\n",
       "<table border=\"1\" class=\"dataframe\">\n",
       "  <thead>\n",
       "    <tr style=\"text-align: right;\">\n",
       "      <th></th>\n",
       "      <th>Restaurant_id</th>\n",
       "      <th>City</th>\n",
       "      <th>Cuisine Style</th>\n",
       "      <th>Ranking</th>\n",
       "      <th>Price Range</th>\n",
       "      <th>Number of Reviews</th>\n",
       "      <th>Reviews</th>\n",
       "      <th>URL_TA</th>\n",
       "      <th>ID_TA</th>\n",
       "    </tr>\n",
       "  </thead>\n",
       "  <tbody>\n",
       "    <tr>\n",
       "      <th>0</th>\n",
       "      <td>id_0</td>\n",
       "      <td>Paris</td>\n",
       "      <td>['Bar', 'Pub']</td>\n",
       "      <td>12963.0</td>\n",
       "      <td>$$ - $$$</td>\n",
       "      <td>4.0</td>\n",
       "      <td>[[], []]</td>\n",
       "      <td>/Restaurant_Review-g187147-d10746918-Reviews-L...</td>\n",
       "      <td>d10746918</td>\n",
       "    </tr>\n",
       "    <tr>\n",
       "      <th>1</th>\n",
       "      <td>id_1</td>\n",
       "      <td>Helsinki</td>\n",
       "      <td>['European', 'Scandinavian', 'Gluten Free Opti...</td>\n",
       "      <td>106.0</td>\n",
       "      <td>$$ - $$$</td>\n",
       "      <td>97.0</td>\n",
       "      <td>[['Very good reviews!', 'Fine dining in Hakani...</td>\n",
       "      <td>/Restaurant_Review-g189934-d6674944-Reviews-Ra...</td>\n",
       "      <td>d6674944</td>\n",
       "    </tr>\n",
       "    <tr>\n",
       "      <th>2</th>\n",
       "      <td>id_2</td>\n",
       "      <td>Edinburgh</td>\n",
       "      <td>['Vegetarian Friendly']</td>\n",
       "      <td>810.0</td>\n",
       "      <td>$$ - $$$</td>\n",
       "      <td>28.0</td>\n",
       "      <td>[['Better than the Links', 'Ivy Black'], ['12/...</td>\n",
       "      <td>/Restaurant_Review-g186525-d13129638-Reviews-B...</td>\n",
       "      <td>d13129638</td>\n",
       "    </tr>\n",
       "    <tr>\n",
       "      <th>3</th>\n",
       "      <td>id_3</td>\n",
       "      <td>London</td>\n",
       "      <td>['Italian', 'Mediterranean', 'European', 'Vege...</td>\n",
       "      <td>1669.0</td>\n",
       "      <td>$$$$</td>\n",
       "      <td>202.0</td>\n",
       "      <td>[['Most exquisite', 'Delicious and authentic']...</td>\n",
       "      <td>/Restaurant_Review-g186338-d680417-Reviews-Qui...</td>\n",
       "      <td>d680417</td>\n",
       "    </tr>\n",
       "    <tr>\n",
       "      <th>4</th>\n",
       "      <td>id_4</td>\n",
       "      <td>Bratislava</td>\n",
       "      <td>['Italian', 'Mediterranean', 'European', 'Seaf...</td>\n",
       "      <td>37.0</td>\n",
       "      <td>$$$$</td>\n",
       "      <td>162.0</td>\n",
       "      <td>[['Always the best in bratislava', 'Very good ...</td>\n",
       "      <td>/Restaurant_Review-g274924-d1112354-Reviews-Ma...</td>\n",
       "      <td>d1112354</td>\n",
       "    </tr>\n",
       "  </tbody>\n",
       "</table>\n",
       "</div>"
      ],
      "text/plain": [
       "  Restaurant_id        City  \\\n",
       "0          id_0       Paris   \n",
       "1          id_1    Helsinki   \n",
       "2          id_2   Edinburgh   \n",
       "3          id_3      London   \n",
       "4          id_4  Bratislava   \n",
       "\n",
       "                                       Cuisine Style  Ranking Price Range  \\\n",
       "0                                     ['Bar', 'Pub']  12963.0    $$ - $$$   \n",
       "1  ['European', 'Scandinavian', 'Gluten Free Opti...    106.0    $$ - $$$   \n",
       "2                            ['Vegetarian Friendly']    810.0    $$ - $$$   \n",
       "3  ['Italian', 'Mediterranean', 'European', 'Vege...   1669.0        $$$$   \n",
       "4  ['Italian', 'Mediterranean', 'European', 'Seaf...     37.0        $$$$   \n",
       "\n",
       "   Number of Reviews                                            Reviews  \\\n",
       "0                4.0                                           [[], []]   \n",
       "1               97.0  [['Very good reviews!', 'Fine dining in Hakani...   \n",
       "2               28.0  [['Better than the Links', 'Ivy Black'], ['12/...   \n",
       "3              202.0  [['Most exquisite', 'Delicious and authentic']...   \n",
       "4              162.0  [['Always the best in bratislava', 'Very good ...   \n",
       "\n",
       "                                              URL_TA      ID_TA  \n",
       "0  /Restaurant_Review-g187147-d10746918-Reviews-L...  d10746918  \n",
       "1  /Restaurant_Review-g189934-d6674944-Reviews-Ra...   d6674944  \n",
       "2  /Restaurant_Review-g186525-d13129638-Reviews-B...  d13129638  \n",
       "3  /Restaurant_Review-g186338-d680417-Reviews-Qui...    d680417  \n",
       "4  /Restaurant_Review-g274924-d1112354-Reviews-Ma...   d1112354  "
      ]
     },
     "execution_count": 8,
     "metadata": {},
     "output_type": "execute_result"
    }
   ],
   "source": [
    "df_test.head(5)"
   ]
  },
  {
   "cell_type": "code",
   "execution_count": 9,
   "metadata": {},
   "outputs": [
    {
     "data": {
      "text/html": [
       "<div>\n",
       "<style scoped>\n",
       "    .dataframe tbody tr th:only-of-type {\n",
       "        vertical-align: middle;\n",
       "    }\n",
       "\n",
       "    .dataframe tbody tr th {\n",
       "        vertical-align: top;\n",
       "    }\n",
       "\n",
       "    .dataframe thead th {\n",
       "        text-align: right;\n",
       "    }\n",
       "</style>\n",
       "<table border=\"1\" class=\"dataframe\">\n",
       "  <thead>\n",
       "    <tr style=\"text-align: right;\">\n",
       "      <th></th>\n",
       "      <th>Restaurant_id</th>\n",
       "      <th>Rating</th>\n",
       "    </tr>\n",
       "  </thead>\n",
       "  <tbody>\n",
       "    <tr>\n",
       "      <th>0</th>\n",
       "      <td>id_0</td>\n",
       "      <td>2.0</td>\n",
       "    </tr>\n",
       "    <tr>\n",
       "      <th>1</th>\n",
       "      <td>id_1</td>\n",
       "      <td>2.5</td>\n",
       "    </tr>\n",
       "    <tr>\n",
       "      <th>2</th>\n",
       "      <td>id_2</td>\n",
       "      <td>4.0</td>\n",
       "    </tr>\n",
       "    <tr>\n",
       "      <th>3</th>\n",
       "      <td>id_3</td>\n",
       "      <td>1.0</td>\n",
       "    </tr>\n",
       "    <tr>\n",
       "      <th>4</th>\n",
       "      <td>id_4</td>\n",
       "      <td>4.0</td>\n",
       "    </tr>\n",
       "  </tbody>\n",
       "</table>\n",
       "</div>"
      ],
      "text/plain": [
       "  Restaurant_id  Rating\n",
       "0          id_0     2.0\n",
       "1          id_1     2.5\n",
       "2          id_2     4.0\n",
       "3          id_3     1.0\n",
       "4          id_4     4.0"
      ]
     },
     "execution_count": 9,
     "metadata": {},
     "output_type": "execute_result"
    }
   ],
   "source": [
    "sample_submission.head(5)"
   ]
  },
  {
   "cell_type": "code",
   "execution_count": 10,
   "metadata": {},
   "outputs": [
    {
     "name": "stdout",
     "output_type": "stream",
     "text": [
      "<class 'pandas.core.frame.DataFrame'>\n",
      "RangeIndex: 10000 entries, 0 to 9999\n",
      "Data columns (total 2 columns):\n",
      "Restaurant_id    10000 non-null object\n",
      "Rating           10000 non-null float64\n",
      "dtypes: float64(1), object(1)\n",
      "memory usage: 156.4+ KB\n"
     ]
    }
   ],
   "source": [
    "sample_submission.info()"
   ]
  },
  {
   "cell_type": "code",
   "execution_count": 11,
   "metadata": {},
   "outputs": [],
   "source": [
    "# ВАЖНО! дря корректной обработки признаков объединяем трейн и тест в один датасет\n",
    "df_train['sample_kaggle'] = 1 # помечаем где у нас трейн\n",
    "df_test['sample_kaggle'] = 0 # помечаем где у нас тест\n",
    "df_test['Rating'] = 0 # в тесте у нас нет значения Rating, мы его должны предсказать, по этому пока просто заполняем нулями\n",
    "\n",
    "data = df_test.append(df_train, sort=False).reset_index(drop=True) # объединяем\n"
   ]
  },
  {
   "cell_type": "code",
   "execution_count": 12,
   "metadata": {},
   "outputs": [
    {
     "name": "stdout",
     "output_type": "stream",
     "text": [
      "<class 'pandas.core.frame.DataFrame'>\n",
      "RangeIndex: 50000 entries, 0 to 49999\n",
      "Data columns (total 11 columns):\n",
      "Restaurant_id        50000 non-null object\n",
      "City                 50000 non-null object\n",
      "Cuisine Style        38410 non-null object\n",
      "Ranking              50000 non-null float64\n",
      "Price Range          32639 non-null object\n",
      "Number of Reviews    46800 non-null float64\n",
      "Reviews              49998 non-null object\n",
      "URL_TA               50000 non-null object\n",
      "ID_TA                50000 non-null object\n",
      "sample_kaggle        50000 non-null int64\n",
      "Rating               50000 non-null float64\n",
      "dtypes: float64(3), int64(1), object(7)\n",
      "memory usage: 4.2+ MB\n"
     ]
    }
   ],
   "source": [
    "data.info()"
   ]
  },
  {
   "cell_type": "markdown",
   "metadata": {},
   "source": [
    "Подробнее по признакам:\n",
    "* City: Город \n",
    "* Cuisine Style: Кухня\n",
    "* Ranking: Ранг ресторана относительно других ресторанов в этом городе\n",
    "* Price Range: Цены в ресторане в 3 категориях\n",
    "* Number of Reviews: Количество отзывов\n",
    "* Reviews: 2 последних отзыва и даты этих отзывов\n",
    "* URL_TA: страница ресторана на 'www.tripadvisor.com' \n",
    "* ID_TA: ID ресторана в TripAdvisor\n",
    "* Rating: Рейтинг ресторана"
   ]
  },
  {
   "cell_type": "code",
   "execution_count": 13,
   "metadata": {},
   "outputs": [
    {
     "data": {
      "text/html": [
       "<div>\n",
       "<style scoped>\n",
       "    .dataframe tbody tr th:only-of-type {\n",
       "        vertical-align: middle;\n",
       "    }\n",
       "\n",
       "    .dataframe tbody tr th {\n",
       "        vertical-align: top;\n",
       "    }\n",
       "\n",
       "    .dataframe thead th {\n",
       "        text-align: right;\n",
       "    }\n",
       "</style>\n",
       "<table border=\"1\" class=\"dataframe\">\n",
       "  <thead>\n",
       "    <tr style=\"text-align: right;\">\n",
       "      <th></th>\n",
       "      <th>Restaurant_id</th>\n",
       "      <th>City</th>\n",
       "      <th>Cuisine Style</th>\n",
       "      <th>Ranking</th>\n",
       "      <th>Price Range</th>\n",
       "      <th>Number of Reviews</th>\n",
       "      <th>Reviews</th>\n",
       "      <th>URL_TA</th>\n",
       "      <th>ID_TA</th>\n",
       "      <th>sample_kaggle</th>\n",
       "      <th>Rating</th>\n",
       "    </tr>\n",
       "  </thead>\n",
       "  <tbody>\n",
       "    <tr>\n",
       "      <th>9554</th>\n",
       "      <td>id_9554</td>\n",
       "      <td>Lisbon</td>\n",
       "      <td>['Fast Food', 'European', 'Portuguese']</td>\n",
       "      <td>514.0</td>\n",
       "      <td>$</td>\n",
       "      <td>163.0</td>\n",
       "      <td>[['Very nice Bifana', 'Good Bifana'], ['02/04/...</td>\n",
       "      <td>/Restaurant_Review-g189158-d5568997-Reviews-O_...</td>\n",
       "      <td>d5568997</td>\n",
       "      <td>0</td>\n",
       "      <td>0.0</td>\n",
       "    </tr>\n",
       "    <tr>\n",
       "      <th>31075</th>\n",
       "      <td>id_2395</td>\n",
       "      <td>Barcelona</td>\n",
       "      <td>['Mediterranean', 'Bar', 'European', 'Spanish'...</td>\n",
       "      <td>2396.0</td>\n",
       "      <td>$$ - $$$</td>\n",
       "      <td>77.0</td>\n",
       "      <td>[['Nice spot in the Gracia', 'Good Tapas'], ['...</td>\n",
       "      <td>/Restaurant_Review-g187497-d6419313-Reviews-So...</td>\n",
       "      <td>d6419313</td>\n",
       "      <td>1</td>\n",
       "      <td>4.0</td>\n",
       "    </tr>\n",
       "    <tr>\n",
       "      <th>11590</th>\n",
       "      <td>id_48</td>\n",
       "      <td>Luxembourg</td>\n",
       "      <td>['Japanese', 'Sushi', 'Asian', 'Vegetarian Fri...</td>\n",
       "      <td>49.0</td>\n",
       "      <td>$$ - $$$</td>\n",
       "      <td>355.0</td>\n",
       "      <td>[['Sushi Lovers', 'Fantastic sushi, one of the...</td>\n",
       "      <td>/Restaurant_Review-g190356-d1750451-Reviews-Ak...</td>\n",
       "      <td>d1750451</td>\n",
       "      <td>1</td>\n",
       "      <td>4.0</td>\n",
       "    </tr>\n",
       "    <tr>\n",
       "      <th>39314</th>\n",
       "      <td>id_255</td>\n",
       "      <td>Berlin</td>\n",
       "      <td>['Vegetarian Friendly']</td>\n",
       "      <td>256.0</td>\n",
       "      <td>$$$$</td>\n",
       "      <td>55.0</td>\n",
       "      <td>[['Wow! What an experience!', 'Find your happi...</td>\n",
       "      <td>/Restaurant_Review-g187323-d8829808-Reviews-Tu...</td>\n",
       "      <td>d8829808</td>\n",
       "      <td>1</td>\n",
       "      <td>5.0</td>\n",
       "    </tr>\n",
       "    <tr>\n",
       "      <th>29982</th>\n",
       "      <td>id_3083</td>\n",
       "      <td>Barcelona</td>\n",
       "      <td>['Seafood']</td>\n",
       "      <td>3084.0</td>\n",
       "      <td>$$ - $$$</td>\n",
       "      <td>25.0</td>\n",
       "      <td>[[\"Oysters Marennes d'Oleron in Barcelona\", 'V...</td>\n",
       "      <td>/Restaurant_Review-g187497-d10880444-Reviews-H...</td>\n",
       "      <td>d10880444</td>\n",
       "      <td>1</td>\n",
       "      <td>4.0</td>\n",
       "    </tr>\n",
       "  </tbody>\n",
       "</table>\n",
       "</div>"
      ],
      "text/plain": [
       "      Restaurant_id        City  \\\n",
       "9554        id_9554      Lisbon   \n",
       "31075       id_2395   Barcelona   \n",
       "11590         id_48  Luxembourg   \n",
       "39314        id_255      Berlin   \n",
       "29982       id_3083   Barcelona   \n",
       "\n",
       "                                           Cuisine Style  Ranking Price Range  \\\n",
       "9554             ['Fast Food', 'European', 'Portuguese']    514.0           $   \n",
       "31075  ['Mediterranean', 'Bar', 'European', 'Spanish'...   2396.0    $$ - $$$   \n",
       "11590  ['Japanese', 'Sushi', 'Asian', 'Vegetarian Fri...     49.0    $$ - $$$   \n",
       "39314                            ['Vegetarian Friendly']    256.0        $$$$   \n",
       "29982                                        ['Seafood']   3084.0    $$ - $$$   \n",
       "\n",
       "       Number of Reviews                                            Reviews  \\\n",
       "9554               163.0  [['Very nice Bifana', 'Good Bifana'], ['02/04/...   \n",
       "31075               77.0  [['Nice spot in the Gracia', 'Good Tapas'], ['...   \n",
       "11590              355.0  [['Sushi Lovers', 'Fantastic sushi, one of the...   \n",
       "39314               55.0  [['Wow! What an experience!', 'Find your happi...   \n",
       "29982               25.0  [[\"Oysters Marennes d'Oleron in Barcelona\", 'V...   \n",
       "\n",
       "                                                  URL_TA      ID_TA  \\\n",
       "9554   /Restaurant_Review-g189158-d5568997-Reviews-O_...   d5568997   \n",
       "31075  /Restaurant_Review-g187497-d6419313-Reviews-So...   d6419313   \n",
       "11590  /Restaurant_Review-g190356-d1750451-Reviews-Ak...   d1750451   \n",
       "39314  /Restaurant_Review-g187323-d8829808-Reviews-Tu...   d8829808   \n",
       "29982  /Restaurant_Review-g187497-d10880444-Reviews-H...  d10880444   \n",
       "\n",
       "       sample_kaggle  Rating  \n",
       "9554               0     0.0  \n",
       "31075              1     4.0  \n",
       "11590              1     4.0  \n",
       "39314              1     5.0  \n",
       "29982              1     4.0  "
      ]
     },
     "execution_count": 13,
     "metadata": {},
     "output_type": "execute_result"
    }
   ],
   "source": [
    "data.sample(5)"
   ]
  },
  {
   "cell_type": "code",
   "execution_count": 14,
   "metadata": {},
   "outputs": [
    {
     "data": {
      "text/plain": [
       "\"[['Very good reviews!', 'Fine dining in Hakaniemi'], ['12/05/2017', '10/29/2017']]\""
      ]
     },
     "execution_count": 14,
     "metadata": {},
     "output_type": "execute_result"
    }
   ],
   "source": [
    "data.Reviews[1]"
   ]
  },
  {
   "cell_type": "code",
   "execution_count": 15,
   "metadata": {},
   "outputs": [],
   "source": [
    "data.columns = ['Restaurant_id', 'City', 'Cuisine', 'Ranking',  'Price', 'Num_of_reviews', 'Reviews', 'Url', 'Id_ta', 'Sample', 'Rating']\n"
   ]
  },
  {
   "cell_type": "markdown",
   "metadata": {},
   "source": [
    "Как видим, большинство признаков у нас требует очистки и предварительной обработки."
   ]
  },
  {
   "cell_type": "markdown",
   "metadata": {},
   "source": [
    "# Cleaning and Prepping Data\n",
    "Обычно данные содержат в себе кучу мусора, который необходимо почистить, для того чтобы привести их в приемлемый формат. Чистка данных — это необходимый этап решения почти любой реальной задачи.   \n",
    "![](https://analyticsindiamag.com/wp-content/uploads/2018/01/data-cleaning.png)"
   ]
  },
  {
   "cell_type": "markdown",
   "metadata": {},
   "source": [
    "## 1. Обработка NAN \n",
    "У наличия пропусков могут быть разные причины, но пропуски нужно либо заполнить, либо исключить из набора полностью. Но с пропусками нужно быть внимательным, **даже отсутствие информации может быть важным признаком!**   \n",
    "По этому перед обработкой NAN лучше вынести информацию о наличии пропуска как отдельный признак "
   ]
  },
  {
   "cell_type": "code",
   "execution_count": 16,
   "metadata": {},
   "outputs": [],
   "source": [
    "# 1) exp_with kaggle \n",
    "\n",
    "\n",
    "\n",
    "# Напишу пару функций чтоб было удобней работать с многочислеными данными из таблицы Math\n",
    "\n",
    "# Функция ниже выдает важную статистику по столбцу и график хистограммы\n",
    "# для числовых переменных\n",
    "\n",
    "import pickle\n",
    "import zlib\n",
    "import base64 as b64\n",
    "\n",
    "\n",
    "\n",
    "\n",
    "def column_stats(table, column, num_bins=5):\n",
    "        \n",
    "    display(table[column].value_counts())\n",
    "    display(table[column].describe())\n",
    "    table[column].hist(bins=num_bins)\n",
    "\n",
    "\n",
    "# Функция ниже зачищает столбик от выбрасов если такии есть\n",
    "# заполняя их места медианой.\n",
    "\n",
    "def del_outliers(row):\n",
    "    if pd.notna(row['Num_of_reviews']):\n",
    "        city = row['City']\n",
    "        \n",
    "        value = row['Num_of_reviews']\n",
    "        perc25 = data[data.City == city].Num_of_reviews.quantile(0.25)\n",
    "        perc75 = data[data.City == city].Num_of_reviews.quantile(0.75)\n",
    "        perc50 = data[data.City == city].Num_of_reviews.quantile(0.5)\n",
    "\n",
    "\n",
    "\n",
    "        low_bound = perc25 - 1.5 * (perc75 - perc25)\n",
    "        top_bound = perc75 + 1.5 * (perc75 - perc25)\n",
    "\n",
    "        if (value >= low_bound) & (value <= top_bound):\n",
    "            return value\n",
    "        elif value > top_bound:\n",
    "            return top_bound\n",
    "\n",
    "        else:\n",
    "            return low_bound\n",
    "\n",
    "    else:\n",
    "        return row['Num_of_reviews']\n",
    "\n",
    "    \n",
    "\n",
    "\n",
    "\n",
    "# функция ниже чтоб посмотреть статистику по номинальной колонки\n",
    "\n",
    "def column_stats_nom(table, column):\n",
    "    display(table[column].value_counts())\n",
    "    display(table[column].describe())\n",
    "    display(table.loc[:, [column]].info())\n",
    "\n",
    "\n",
    "# Функция выбора самого близкого числа из списка    \n",
    "def closest(num_list, K):\n",
    "    lst = np.asarray(num_list) \n",
    "    idx = (np.abs(lst - K)).argmin() \n",
    "    return idx\n",
    "      \n",
    "\n",
    "    \n",
    "def serializeAndCompress(value, verbose=True):\n",
    "    serializedValue = pickle.dumps(value)\n",
    "    if verbose:\n",
    "        print('Lenght of serialized object:', len(serializedValue))\n",
    "    c_data =  zlib.compress(serializedValue, 9)\n",
    "    if verbose:\n",
    "        print('Lenght of compressed and serialized object:', len(c_data))\n",
    "    return b64.b64encode(c_data)\n",
    "\n",
    "def decompressAndDeserialize(compresseData):\n",
    "  d_data_byte = b64.b64decode(compresseData)\n",
    "  data_byte = zlib.decompress(d_data_byte)\n",
    "  value = pickle.loads(data_byte)\n",
    "  return value   "
   ]
  },
  {
   "cell_type": "code",
   "execution_count": 17,
   "metadata": {},
   "outputs": [
    {
     "data": {
      "text/plain": [
       "$$ - $$$    23041\n",
       "$            7816\n",
       "$$$$         1782\n",
       "Name: Price, dtype: int64"
      ]
     },
     "metadata": {},
     "output_type": "display_data"
    },
    {
     "data": {
      "text/plain": [
       "count        32639\n",
       "unique           3\n",
       "top       $$ - $$$\n",
       "freq         23041\n",
       "Name: Price, dtype: object"
      ]
     },
     "metadata": {},
     "output_type": "display_data"
    },
    {
     "name": "stdout",
     "output_type": "stream",
     "text": [
      "<class 'pandas.core.frame.DataFrame'>\n",
      "RangeIndex: 50000 entries, 0 to 49999\n",
      "Data columns (total 1 columns):\n",
      "Price    32639 non-null object\n",
      "dtypes: object(1)\n",
      "memory usage: 390.8+ KB\n"
     ]
    },
    {
     "data": {
      "text/plain": [
       "None"
      ]
     },
     "metadata": {},
     "output_type": "display_data"
    }
   ],
   "source": [
    "# Столбик Price\n",
    "\n",
    "# создам колонку обозначающую не известные и известные значения в Price\n",
    "\n",
    "data['price_range_nan'] = pd.isna(data['Price']).astype('uint8')\n",
    "\n",
    "column_stats_nom(data, 'Price')"
   ]
  },
  {
   "cell_type": "code",
   "execution_count": 18,
   "metadata": {},
   "outputs": [
    {
     "name": "stderr",
     "output_type": "stream",
     "text": [
      "/opt/conda/lib/python3.6/site-packages/ipykernel_launcher.py:11: UserWarning: Boolean Series key will be reindexed to match DataFrame index.\n",
      "  # This is added back by InteractiveShellApp.init_path()\n"
     ]
    }
   ],
   "source": [
    "# VERY EXPERIMENTAL\n",
    "\n",
    "# В начале  заполним одним методом колонку Price для трэйн и тест частей\n",
    "\n",
    "def fill_price_ranges(row):\n",
    "    if pd.isnull(row['Price']) or '$' not in row['Price']:\n",
    "        city = row['City']\n",
    "        ranking = row['Ranking']\n",
    "        reviws = row['Num_of_reviews']\n",
    "        city_ranges = data[data.Ranking <= ranking * 1.3][data.Ranking >=\n",
    "                                                          ranking * 0.7].groupby(['City', 'Price']).Num_of_reviews.median()[city].values\n",
    "\n",
    "        result = closest(city_ranges, reviws)\n",
    "\n",
    "        if result == 0:\n",
    "            return '$'\n",
    "        elif result == 1:\n",
    "            return '$$ - $$$'\n",
    "        elif result == 2:\n",
    "            return '$$$$'\n",
    "\n",
    "    else:\n",
    "        return row['Price']\n",
    "\n",
    "\n",
    "data['price_range'] = data.apply(fill_price_ranges, axis=1)"
   ]
  },
  {
   "cell_type": "code",
   "execution_count": 19,
   "metadata": {},
   "outputs": [
    {
     "data": {
      "text/plain": [
       "\"\\n# Еще один способ как заполнить Price чтоб было с чем сравнить или оба использовать\\ncity_ranges = data.groupby(['City', 'Rating', 'Price']).Ranking.mean()\\ncity_ranges2 = data.groupby(['City', 'Price']).Ranking.mean()\\n\\n\\ndef fill_price_ranges_version2(row):\\n    if (pd.isnull(row['Price']) or '$' not in row['Price']):\\n        city = row['City']\\n        ranking = row['Ranking']\\n\\n        if row['Sample'] == 1:\\n            rating = row['Rating']\\n            try:\\n                city_ranges = city_ranges[city][rating].values\\n            except:\\n                city_ranges = city_ranges2[city].values\\n\\n        else:\\n            city_ranges = data[data.Ranking <= ranking * 1.2][data.Ranking >=\\n                                                              ranking * 0.8].groupby(['City', 'Price']).Ranking.mean()[city].values\\n\\n        result = closest(city_ranges, ranking)\\n\\n        if result == 0:\\n            return '$'\\n        elif result == 1:\\n            return '$$ - $$$'\\n        elif result == 2:\\n            return '$$$$'\\n\\n    else:\\n        return row['Price']\\n\\n\\ndata['price_range_v2'] = data.apply(fill_price_ranges_version2, axis=1)\\n\""
      ]
     },
     "execution_count": 19,
     "metadata": {},
     "output_type": "execute_result"
    }
   ],
   "source": [
    "'''\n",
    "# Еще один способ как заполнить Price чтоб было с чем сравнить или оба использовать\n",
    "city_ranges = data.groupby(['City', 'Rating', 'Price']).Ranking.mean()\n",
    "city_ranges2 = data.groupby(['City', 'Price']).Ranking.mean()\n",
    "\n",
    "\n",
    "def fill_price_ranges_version2(row):\n",
    "    if (pd.isnull(row['Price']) or '$' not in row['Price']):\n",
    "        city = row['City']\n",
    "        ranking = row['Ranking']\n",
    "\n",
    "        if row['Sample'] == 1:\n",
    "            rating = row['Rating']\n",
    "            try:\n",
    "                city_ranges = city_ranges[city][rating].values\n",
    "            except:\n",
    "                city_ranges = city_ranges2[city].values\n",
    "\n",
    "        else:\n",
    "            city_ranges = data[data.Ranking <= ranking * 1.2][data.Ranking >=\n",
    "                                                              ranking * 0.8].groupby(['City', 'Price']).Ranking.mean()[city].values\n",
    "\n",
    "        result = closest(city_ranges, ranking)\n",
    "\n",
    "        if result == 0:\n",
    "            return '$'\n",
    "        elif result == 1:\n",
    "            return '$$ - $$$'\n",
    "        elif result == 2:\n",
    "            return '$$$$'\n",
    "\n",
    "    else:\n",
    "        return row['Price']\n",
    "\n",
    "\n",
    "data['price_range_v2'] = data.apply(fill_price_ranges_version2, axis=1)\n",
    "'''"
   ]
  },
  {
   "cell_type": "code",
   "execution_count": 20,
   "metadata": {},
   "outputs": [],
   "source": [
    "# Теперь превратим price ranges в численые значения\n",
    "\n",
    "def convert_pr_range(range):\n",
    "    if range == '$$ - $$$':\n",
    "        return 2\n",
    "    elif range == '$':\n",
    "        return 1\n",
    "    elif range == '$$$$':\n",
    "        return 3\n",
    "    else:\n",
    "        return range\n",
    "    \n",
    "\n",
    "data['conv_price_range'] = data['price_range'].apply(convert_pr_range)\n",
    "#data['conv_price_range_V2'] = data['price_range_v2'].apply(convert_pr_range)\n"
   ]
  },
  {
   "cell_type": "code",
   "execution_count": 21,
   "metadata": {},
   "outputs": [
    {
     "data": {
      "text/html": [
       "<div>\n",
       "<style scoped>\n",
       "    .dataframe tbody tr th:only-of-type {\n",
       "        vertical-align: middle;\n",
       "    }\n",
       "\n",
       "    .dataframe tbody tr th {\n",
       "        vertical-align: top;\n",
       "    }\n",
       "\n",
       "    .dataframe thead th {\n",
       "        text-align: right;\n",
       "    }\n",
       "</style>\n",
       "<table border=\"1\" class=\"dataframe\">\n",
       "  <thead>\n",
       "    <tr style=\"text-align: right;\">\n",
       "      <th></th>\n",
       "      <th>Ranking</th>\n",
       "      <th>Num_of_reviews</th>\n",
       "      <th>Sample</th>\n",
       "      <th>Rating</th>\n",
       "      <th>price_range_nan</th>\n",
       "      <th>conv_price_range</th>\n",
       "    </tr>\n",
       "  </thead>\n",
       "  <tbody>\n",
       "    <tr>\n",
       "      <th>Ranking</th>\n",
       "      <td>1.000000</td>\n",
       "      <td>-0.223775</td>\n",
       "      <td>0.006271</td>\n",
       "      <td>-0.109897</td>\n",
       "      <td>0.233946</td>\n",
       "      <td>0.143998</td>\n",
       "    </tr>\n",
       "    <tr>\n",
       "      <th>Num_of_reviews</th>\n",
       "      <td>-0.223775</td>\n",
       "      <td>1.000000</td>\n",
       "      <td>0.002412</td>\n",
       "      <td>0.011472</td>\n",
       "      <td>-0.254281</td>\n",
       "      <td>0.073168</td>\n",
       "    </tr>\n",
       "    <tr>\n",
       "      <th>Sample</th>\n",
       "      <td>0.006271</td>\n",
       "      <td>0.002412</td>\n",
       "      <td>1.000000</td>\n",
       "      <td>0.936543</td>\n",
       "      <td>-0.000294</td>\n",
       "      <td>-0.000300</td>\n",
       "    </tr>\n",
       "    <tr>\n",
       "      <th>Rating</th>\n",
       "      <td>-0.109897</td>\n",
       "      <td>0.011472</td>\n",
       "      <td>0.936543</td>\n",
       "      <td>1.000000</td>\n",
       "      <td>-0.020519</td>\n",
       "      <td>-0.032344</td>\n",
       "    </tr>\n",
       "    <tr>\n",
       "      <th>price_range_nan</th>\n",
       "      <td>0.233946</td>\n",
       "      <td>-0.254281</td>\n",
       "      <td>-0.000294</td>\n",
       "      <td>-0.020519</td>\n",
       "      <td>1.000000</td>\n",
       "      <td>0.005197</td>\n",
       "    </tr>\n",
       "    <tr>\n",
       "      <th>conv_price_range</th>\n",
       "      <td>0.143998</td>\n",
       "      <td>0.073168</td>\n",
       "      <td>-0.000300</td>\n",
       "      <td>-0.032344</td>\n",
       "      <td>0.005197</td>\n",
       "      <td>1.000000</td>\n",
       "    </tr>\n",
       "  </tbody>\n",
       "</table>\n",
       "</div>"
      ],
      "text/plain": [
       "                   Ranking  Num_of_reviews    Sample    Rating  \\\n",
       "Ranking           1.000000       -0.223775  0.006271 -0.109897   \n",
       "Num_of_reviews   -0.223775        1.000000  0.002412  0.011472   \n",
       "Sample            0.006271        0.002412  1.000000  0.936543   \n",
       "Rating           -0.109897        0.011472  0.936543  1.000000   \n",
       "price_range_nan   0.233946       -0.254281 -0.000294 -0.020519   \n",
       "conv_price_range  0.143998        0.073168 -0.000300 -0.032344   \n",
       "\n",
       "                  price_range_nan  conv_price_range  \n",
       "Ranking                  0.233946          0.143998  \n",
       "Num_of_reviews          -0.254281          0.073168  \n",
       "Sample                  -0.000294         -0.000300  \n",
       "Rating                  -0.020519         -0.032344  \n",
       "price_range_nan          1.000000          0.005197  \n",
       "conv_price_range         0.005197          1.000000  "
      ]
     },
     "execution_count": 21,
     "metadata": {},
     "output_type": "execute_result"
    }
   ],
   "source": [
    "data.corr()"
   ]
  },
  {
   "cell_type": "code",
   "execution_count": 22,
   "metadata": {},
   "outputs": [
    {
     "data": {
      "text/plain": [
       "2.0       2403\n",
       "3.0       2042\n",
       "4.0       1707\n",
       "5.0       1471\n",
       "6.0       1258\n",
       "          ... \n",
       "5216.0       1\n",
       "1932.0       1\n",
       "1050.0       1\n",
       "1145.0       1\n",
       "1471.0       1\n",
       "Name: Num_of_reviews, Length: 1573, dtype: int64"
      ]
     },
     "metadata": {},
     "output_type": "display_data"
    },
    {
     "data": {
      "text/plain": [
       "count    46800.000000\n",
       "mean       124.471197\n",
       "std        294.114345\n",
       "min          2.000000\n",
       "25%          9.000000\n",
       "50%         33.000000\n",
       "75%        115.000000\n",
       "max       9660.000000\n",
       "Name: Num_of_reviews, dtype: float64"
      ]
     },
     "metadata": {},
     "output_type": "display_data"
    },
    {
     "data": {
      "image/png": "[encoded data removed]",
      "text/plain": [
       "<Figure size 432x288 with 1 Axes>"
      ]
     },
     "metadata": {
      "needs_background": "light"
     },
     "output_type": "display_data"
    }
   ],
   "source": [
    "# Столбик Num_of_reviews\n",
    "\n",
    "data['review_nan'] = pd.isna(data['Num_of_reviews']).astype('uint8')\n",
    "\n",
    "column_stats(data, 'Num_of_reviews', num_bins=15)\n"
   ]
  },
  {
   "cell_type": "code",
   "execution_count": 23,
   "metadata": {},
   "outputs": [],
   "source": [
    "# Вначале заполним этот столбик игнорируя выбросы\n",
    "\n",
    "result = data[data.price_range_nan == 0].groupby(['City', 'price_range']).Num_of_reviews.median()\n",
    "\n",
    "def fill_in_num_of_reviews(row):\n",
    "    if pd.isnull(row['Num_of_reviews']):\n",
    "        \n",
    "        city = row['City']\n",
    "        price = row['price_range']\n",
    "    \n",
    "        resultt = result[city][price]\n",
    "        \n",
    "        return resultt\n",
    "    else:\n",
    "        return row['Num_of_reviews']\n",
    "\n",
    "data['number_of_reviews'] = data.apply(fill_in_num_of_reviews, axis = 1)"
   ]
  },
  {
   "cell_type": "code",
   "execution_count": 24,
   "metadata": {},
   "outputs": [],
   "source": [
    "# Еще один способ заполнить столбик количество отзывов\n",
    "\n",
    "def fill_in_num_of_reviews_v2(row):\n",
    "    if pd.isnull(row['Num_of_reviews']):\n",
    "\n",
    "        city = row['City']\n",
    "        price = row['price_range']\n",
    "\n",
    "        if row['Sample'] != 1:\n",
    "            result = data[data.price_range_nan == 0].groupby(\n",
    "                ['City', 'price_range']).Num_of_reviews.median()[city][price]\n",
    "            return result\n",
    "\n",
    "        else:\n",
    "\n",
    "            rating = row['Rating']\n",
    "            try:\n",
    "                result = data[data.price_range_nan == 0].groupby(\n",
    "                    ['City', 'Rating', 'price_range']).Num_of_reviews.median()[city][rating][price]\n",
    "                if pd.isnull(result):\n",
    "                    result = data[data.price_range_nan == 0].groupby(\n",
    "                        ['City', 'price_range']).Num_of_reviews.median()[city][price]\n",
    "                return result\n",
    "            except:\n",
    "                result = data[data.price_range_nan == 0].groupby(\n",
    "                    ['City', 'price_range']).Num_of_reviews.median()[city][price]\n",
    "                return result\n",
    "\n",
    "    else:\n",
    "        return row['Num_of_reviews']\n",
    "\n",
    "\n",
    "data['number_of_reviews_v2'] = data.apply(fill_in_num_of_reviews_v2, axis=1)"
   ]
  },
  {
   "cell_type": "code",
   "execution_count": 25,
   "metadata": {},
   "outputs": [
    {
     "data": {
      "text/plain": [
       "2    23879\n",
       "1    17616\n",
       "3     8505\n",
       "Name: conv_price_range, dtype: int64"
      ]
     },
     "metadata": {},
     "output_type": "display_data"
    },
    {
     "ename": "AttributeError",
     "evalue": "'DataFrame' object has no attribute 'conv_price_rangedd'",
     "output_type": "error",
     "traceback": [
      "\u001b[0;31m---------------------------------------------------------------------------\u001b[0m",
      "\u001b[0;31mAttributeError\u001b[0m                            Traceback (most recent call last)",
      "\u001b[0;32m<ipython-input-25-a9baec3fd23a>\u001b[0m in \u001b[0;36m<module>\u001b[0;34m\u001b[0m\n\u001b[1;32m      1\u001b[0m \u001b[0mdisplay\u001b[0m\u001b[0;34m(\u001b[0m\u001b[0mdata\u001b[0m\u001b[0;34m.\u001b[0m\u001b[0mconv_price_range\u001b[0m\u001b[0;34m.\u001b[0m\u001b[0mvalue_counts\u001b[0m\u001b[0;34m(\u001b[0m\u001b[0;34m)\u001b[0m\u001b[0;34m)\u001b[0m\u001b[0;34m\u001b[0m\u001b[0m\n\u001b[0;32m----> 2\u001b[0;31m \u001b[0mdisplay\u001b[0m\u001b[0;34m(\u001b[0m\u001b[0mdata\u001b[0m\u001b[0;34m.\u001b[0m\u001b[0mconv_price_rangedd\u001b[0m\u001b[0;34m.\u001b[0m\u001b[0mvalue_counts\u001b[0m\u001b[0;34m(\u001b[0m\u001b[0;34m)\u001b[0m\u001b[0;34m)\u001b[0m\u001b[0;34m\u001b[0m\u001b[0m\n\u001b[0m",
      "\u001b[0;32m/opt/conda/lib/python3.6/site-packages/pandas/core/generic.py\u001b[0m in \u001b[0;36m__getattr__\u001b[0;34m(self, name)\u001b[0m\n\u001b[1;32m   5177\u001b[0m             \u001b[0;32mif\u001b[0m \u001b[0mself\u001b[0m\u001b[0;34m.\u001b[0m\u001b[0m_info_axis\u001b[0m\u001b[0;34m.\u001b[0m\u001b[0m_can_hold_identifiers_and_holds_name\u001b[0m\u001b[0;34m(\u001b[0m\u001b[0mname\u001b[0m\u001b[0;34m)\u001b[0m\u001b[0;34m:\u001b[0m\u001b[0;34m\u001b[0m\u001b[0m\n\u001b[1;32m   5178\u001b[0m                 \u001b[0;32mreturn\u001b[0m \u001b[0mself\u001b[0m\u001b[0;34m[\u001b[0m\u001b[0mname\u001b[0m\u001b[0;34m]\u001b[0m\u001b[0;34m\u001b[0m\u001b[0m\n\u001b[0;32m-> 5179\u001b[0;31m             \u001b[0;32mreturn\u001b[0m \u001b[0mobject\u001b[0m\u001b[0;34m.\u001b[0m\u001b[0m__getattribute__\u001b[0m\u001b[0;34m(\u001b[0m\u001b[0mself\u001b[0m\u001b[0;34m,\u001b[0m \u001b[0mname\u001b[0m\u001b[0;34m)\u001b[0m\u001b[0;34m\u001b[0m\u001b[0m\n\u001b[0m\u001b[1;32m   5180\u001b[0m \u001b[0;34m\u001b[0m\u001b[0m\n\u001b[1;32m   5181\u001b[0m     \u001b[0;32mdef\u001b[0m \u001b[0m__setattr__\u001b[0m\u001b[0;34m(\u001b[0m\u001b[0mself\u001b[0m\u001b[0;34m,\u001b[0m \u001b[0mname\u001b[0m\u001b[0;34m,\u001b[0m \u001b[0mvalue\u001b[0m\u001b[0;34m)\u001b[0m\u001b[0;34m:\u001b[0m\u001b[0;34m\u001b[0m\u001b[0m\n",
      "\u001b[0;31mAttributeError\u001b[0m: 'DataFrame' object has no attribute 'conv_price_rangedd'"
     ]
    }
   ],
   "source": [
    "display(data.conv_price_range.value_counts())\n",
    "display(data.conv_price_rangedd.value_counts())"
   ]
  },
  {
   "cell_type": "code",
   "execution_count": 26,
   "metadata": {},
   "outputs": [],
   "source": [
    "# почистим количество ревью от выбрасов\n",
    "\n",
    "perc_table = [[0]*3]*31\n",
    "\n",
    "city_list = list(data.City.value_counts().index)\n",
    "\n",
    "percentile = pd.DataFrame(perc_table)\n",
    "percentile.index = city_list\n",
    "percentile.columns = ['0.25', '0.5', '0.75']\n",
    "\n",
    "\n",
    "\n",
    "for city in city_list:\n",
    "    for value in [0.25,0.5,0.75]:    \n",
    "        percentile[str(value)][city] = data[data.City == city].Num_of_reviews.quantile(value)\n",
    "        \n",
    "    \n",
    "   \n",
    "\n",
    "    \n",
    "\n",
    "def del_outliers(row):\n",
    "    if pd.notna(row['Num_of_reviews']):\n",
    "        city = row['City']\n",
    "        \n",
    "        value = row['Num_of_reviews']\n",
    "        perc25 = percentile['0.25'][city]\n",
    "        perc75 = percentile['0.75'][city]\n",
    "        perc50 = percentile['0.5'][city]\n",
    "\n",
    "\n",
    "\n",
    "        low_bound = perc25 - 1.5 * (perc75 - perc25)\n",
    "        top_bound = perc75 + 1.5 * (perc75 - perc25)\n",
    "\n",
    "        if (value >= low_bound) & (value <= top_bound):\n",
    "            return value\n",
    "        elif value > top_bound:\n",
    "            return top_bound\n",
    "\n",
    "        else:\n",
    "            return low_bound\n",
    "\n",
    "    else:\n",
    "        return row['Num_of_reviews']\n",
    "\n",
    "\n",
    "data['Reviews_no_outliers'] = data.apply(del_outliers, axis = 1)\n",
    "\n"
   ]
  },
  {
   "cell_type": "code",
   "execution_count": 27,
   "metadata": {},
   "outputs": [],
   "source": [
    "reviews_table = data.groupby(['City', 'price_range']).Num_of_reviews.median()\n",
    "\n",
    "def fill_in_num_of_reviews(row):\n",
    "    if pd.isnull(row['Reviews_no_outliers']):\n",
    "        \n",
    "        city = row['City']\n",
    "        price = row['price_range']\n",
    "    \n",
    "        result = reviews_table[city][price]\n",
    "        \n",
    "        return result\n",
    "    else:\n",
    "        return row['Reviews_no_outliers']\n",
    "\n",
    "data['Reviews_no_outliers'] = data.apply(fill_in_num_of_reviews, axis = 1)"
   ]
  },
  {
   "cell_type": "code",
   "execution_count": 28,
   "metadata": {},
   "outputs": [
    {
     "name": "stdout",
     "output_type": "stream",
     "text": [
      "<class 'pandas.core.frame.DataFrame'>\n",
      "RangeIndex: 50000 entries, 0 to 49999\n",
      "Data columns (total 18 columns):\n",
      "Restaurant_id           50000 non-null object\n",
      "City                    50000 non-null object\n",
      "Cuisine                 38410 non-null object\n",
      "Ranking                 50000 non-null float64\n",
      "Price                   32639 non-null object\n",
      "Num_of_reviews          46800 non-null float64\n",
      "Reviews                 49998 non-null object\n",
      "Url                     50000 non-null object\n",
      "Id_ta                   50000 non-null object\n",
      "Sample                  50000 non-null int64\n",
      "Rating                  50000 non-null float64\n",
      "price_range_nan         50000 non-null uint8\n",
      "price_range             50000 non-null object\n",
      "conv_price_range        50000 non-null int64\n",
      "review_nan              50000 non-null uint8\n",
      "number_of_reviews       50000 non-null float64\n",
      "number_of_reviews_v2    50000 non-null float64\n",
      "Reviews_no_outliers     50000 non-null float64\n",
      "dtypes: float64(6), int64(2), object(8), uint8(2)\n",
      "memory usage: 6.2+ MB\n"
     ]
    }
   ],
   "source": [
    "data.info()"
   ]
  },
  {
   "cell_type": "code",
   "execution_count": 29,
   "metadata": {},
   "outputs": [],
   "source": [
    "#serialized_data = serializeAndCompress(data)"
   ]
  },
  {
   "cell_type": "code",
   "execution_count": 30,
   "metadata": {},
   "outputs": [],
   "source": [
    "#print(serialized_data)"
   ]
  },
  {
   "cell_type": "code",
   "execution_count": 31,
   "metadata": {},
   "outputs": [],
   "source": [
    "#data = decompressAndDeserialize(serialized_data)"
   ]
  },
  {
   "cell_type": "code",
   "execution_count": 32,
   "metadata": {},
   "outputs": [
    {
     "data": {
      "text/plain": [
       "['Italian']                                                                       1332\n",
       "['French']                                                                        1019\n",
       "['Spanish']                                                                        860\n",
       "['French', 'European']                                                             503\n",
       "['Cafe']                                                                           500\n",
       "                                                                                  ... \n",
       "['Cafe', 'Fast Food', 'European', 'British', 'Diner']                                1\n",
       "['Brew Pub', 'European', 'Pub', 'Portuguese', 'Wine Bar', 'Soups']                   1\n",
       "['Indian', 'Asian', 'Nepali', 'Vegetarian Friendly', 'Vegan Options', 'Halal']       1\n",
       "['Irish', 'Steakhouse', 'Bar', 'Pub']                                                1\n",
       "['German', 'International', 'Mediterranean']                                         1\n",
       "Name: Cuisine, Length: 10731, dtype: int64"
      ]
     },
     "metadata": {},
     "output_type": "display_data"
    },
    {
     "data": {
      "text/plain": [
       "count           38410\n",
       "unique          10731\n",
       "top       ['Italian']\n",
       "freq             1332\n",
       "Name: Cuisine, dtype: object"
      ]
     },
     "metadata": {},
     "output_type": "display_data"
    },
    {
     "name": "stdout",
     "output_type": "stream",
     "text": [
      "<class 'pandas.core.frame.DataFrame'>\n",
      "RangeIndex: 50000 entries, 0 to 49999\n",
      "Data columns (total 1 columns):\n",
      "Cuisine    38410 non-null object\n",
      "dtypes: object(1)\n",
      "memory usage: 390.8+ KB\n"
     ]
    },
    {
     "data": {
      "text/plain": [
       "None"
      ]
     },
     "metadata": {},
     "output_type": "display_data"
    }
   ],
   "source": [
    "# Заполнение пропусков кухонь\n",
    "data['cuisine_nan'] = pd.isna(data['Cuisine']).astype('uint8')\n",
    "column_stats_nom(data, 'Cuisine')"
   ]
  },
  {
   "cell_type": "code",
   "execution_count": 33,
   "metadata": {},
   "outputs": [],
   "source": [
    "# Эта функция создает словарь всех кухонь и создает списки кухонь для каждого ресторана\n",
    "# с не пустым значениям.\n",
    "all_cuisine = {}\n",
    "\n",
    "def build_cuisine_dictionary(cuisine):\n",
    "    if type(cuisine) == str and len(cuisine) > 5:\n",
    "        cuisine = cuisine.lower()\n",
    "        repl = [\"'\", \"[\", \"]\"]\n",
    "        for char in repl:\n",
    "            cuisine = cuisine.replace(char, '')\n",
    "        \n",
    "        sublist = cuisine.split(', ')\n",
    "        \n",
    "        for sub in sublist:\n",
    "            if sub not in all_cuisine:\n",
    "                all_cuisine[sub] = 1\n",
    "            else:\n",
    "                all_cuisine[sub] += 1\n",
    "        \n",
    "        return sublist\n",
    "    \n",
    "    else:\n",
    "        return cuisine\n",
    "\n",
    "\n",
    "data['cuisine_lists'] = data.Cuisine.apply(build_cuisine_dictionary)"
   ]
  },
  {
   "cell_type": "code",
   "execution_count": 34,
   "metadata": {},
   "outputs": [
    {
     "name": "stdout",
     "output_type": "stream",
     "text": [
      "<class 'pandas.core.frame.DataFrame'>\n",
      "RangeIndex: 50000 entries, 0 to 49999\n",
      "Data columns (total 20 columns):\n",
      "Restaurant_id           50000 non-null object\n",
      "City                    50000 non-null object\n",
      "Cuisine                 38410 non-null object\n",
      "Ranking                 50000 non-null float64\n",
      "Price                   32639 non-null object\n",
      "Num_of_reviews          46800 non-null float64\n",
      "Reviews                 49998 non-null object\n",
      "Url                     50000 non-null object\n",
      "Id_ta                   50000 non-null object\n",
      "Sample                  50000 non-null int64\n",
      "Rating                  50000 non-null float64\n",
      "price_range_nan         50000 non-null uint8\n",
      "price_range             50000 non-null object\n",
      "conv_price_range        50000 non-null int64\n",
      "review_nan              50000 non-null uint8\n",
      "number_of_reviews       50000 non-null float64\n",
      "number_of_reviews_v2    50000 non-null float64\n",
      "Reviews_no_outliers     50000 non-null float64\n",
      "cuisine_nan             50000 non-null uint8\n",
      "cuisine_lists           40244 non-null object\n",
      "dtypes: float64(6), int64(2), object(9), uint8(3)\n",
      "memory usage: 6.6+ MB\n"
     ]
    }
   ],
   "source": [
    "# Эта функция заполняет некоторые недостающии пропуски кохонь из отызвов если там упоменались кухни\n",
    "\n",
    "\n",
    "def fill_in_cuisines(row):\n",
    "    if type(row['cuisine_lists']) != list or len(row['cuisine_lists']) == 0:\n",
    "        \n",
    "        sub_list = []\n",
    "        \n",
    "        if (type(row['Reviews']) == str and len(row['Reviews']) > 15):\n",
    "        \n",
    "            for word in all_cuisine:\n",
    "                if word in row['Reviews'].lower():\n",
    "                    if word != 'european' or ('eastern european' not in row['Reviews'] and 'western european' not in row['Reviews'] and 'south european' not in row['Reviews']):\n",
    "                        sub_list.append(word)\n",
    "            \n",
    "                elif 'hot dog' in row['Reviews'] or 'burger' in row['Reviews'] or 'snack' in row['Reviews']:\n",
    "                    sub_list.append('fast food')\n",
    "    \n",
    "            if len(sub_list) > 0:\n",
    "                return sub_list\n",
    "            \n",
    "            else:\n",
    "                return row['cuisine_lists']\n",
    "    \n",
    "        else:\n",
    "            return row['cuisine_lists']\n",
    "    \n",
    "    \n",
    "    else:\n",
    "        return row['cuisine_lists']\n",
    "    \n",
    "    \n",
    "    \n",
    "data['cuisine_lists'] = data.apply(fill_in_cuisines, axis = 1)\n",
    "\n",
    "data.info()\n"
   ]
  },
  {
   "cell_type": "code",
   "execution_count": 35,
   "metadata": {},
   "outputs": [
    {
     "data": {
      "text/plain": [
       "\"\\ndef check_more_feedbacks(row):\\n    if type(row['cuisine_lists']) != list or len(row['cuisine_lists']) == 0:\\n        link = row['Url']\\n        if row['Sample'] == 1:\\n            text = str(feeds[feeds.url == link].feedbacks.values)\\n\\n        if row['Sample'] == 0:\\n            text = str(kaggle_rests[kaggle_rests.url == link].feedbacks.values)\\n\\n        if len(text) >= 25:\\n            text = text.lower()\\n            sub_list = []\\n            for word in all_cuisine:\\n                if word in text:\\n                    sub_list.append(word)\\n\\n            if 'hot dog' in text or 'burger' in text or 'snack' in text:\\n                sub_list.append('fast food')\\n\\n            if len(sub_list) > 0:\\n\\n                return sub_list\\n\\n            else:\\n                return row['cuisine_lists']\\n\\n        else:\\n            return row['cuisine_lists']\\n\\n    else:\\n        return row['cuisine_lists']\\n\\n\\ndata['cuisine_lists'] = data.apply(check_more_feedbacks, axis=1)\\n\\ndata.info()\\n\\n\""
      ]
     },
     "execution_count": 35,
     "metadata": {},
     "output_type": "execute_result"
    }
   ],
   "source": [
    "# Эта функция просматривает дополнительные отзывы, которые я собрал с трипэдвайсера\n",
    "# для заполнения кухонь\n",
    "'''\n",
    "def check_more_feedbacks(row):\n",
    "    if type(row['cuisine_lists']) != list or len(row['cuisine_lists']) == 0:\n",
    "        link = row['Url']\n",
    "        if row['Sample'] == 1:\n",
    "            text = str(feeds[feeds.url == link].feedbacks.values)\n",
    "\n",
    "        if row['Sample'] == 0:\n",
    "            text = str(kaggle_rests[kaggle_rests.url == link].feedbacks.values)\n",
    "\n",
    "        if len(text) >= 25:\n",
    "            text = text.lower()\n",
    "            sub_list = []\n",
    "            for word in all_cuisine:\n",
    "                if word in text:\n",
    "                    sub_list.append(word)\n",
    "\n",
    "            if 'hot dog' in text or 'burger' in text or 'snack' in text:\n",
    "                sub_list.append('fast food')\n",
    "\n",
    "            if len(sub_list) > 0:\n",
    "\n",
    "                return sub_list\n",
    "\n",
    "            else:\n",
    "                return row['cuisine_lists']\n",
    "\n",
    "        else:\n",
    "            return row['cuisine_lists']\n",
    "\n",
    "    else:\n",
    "        return row['cuisine_lists']\n",
    "\n",
    "\n",
    "data['cuisine_lists'] = data.apply(check_more_feedbacks, axis=1)\n",
    "\n",
    "data.info()\n",
    "\n",
    "'''"
   ]
  },
  {
   "cell_type": "code",
   "execution_count": 36,
   "metadata": {},
   "outputs": [
    {
     "data": {
      "text/plain": [
       "\"rest_list = data[pd.notna(data.cuisine_lists)][data.price_range_nan == 0] \\n\\ndef get_cuisines_from_rests(row):\\n    \\n    if type(row['cuisine_lists']) != list or len(row['cuisine_lists']) == 0:\\n        city = row['City']\\n        price = row['conv_price_range']\\n        ranking = row['Ranking']\\n        sub_part = rest_list[rest_list.City == city][rest_list.conv_price_range == price]\\n        \\n        idx = closest(sub_part.Ranking.values, ranking)\\n        \\n        result = sub_part.cuisine_lists.values[idx]\\n        \\n        return result\\n        \\n    else:\\n        return row['cuisine_lists']\\n\\n    \\ndata['cuisine_lists'] = data.apply(get_cuisines_from_rests, axis = 1)\\n\""
      ]
     },
     "execution_count": 36,
     "metadata": {},
     "output_type": "execute_result"
    }
   ],
   "source": [
    "'''rest_list = data[pd.notna(data.cuisine_lists)][data.price_range_nan == 0] \n",
    "\n",
    "def get_cuisines_from_rests(row):\n",
    "    \n",
    "    if type(row['cuisine_lists']) != list or len(row['cuisine_lists']) == 0:\n",
    "        city = row['City']\n",
    "        price = row['conv_price_range']\n",
    "        ranking = row['Ranking']\n",
    "        sub_part = rest_list[rest_list.City == city][rest_list.conv_price_range == price]\n",
    "        \n",
    "        idx = closest(sub_part.Ranking.values, ranking)\n",
    "        \n",
    "        result = sub_part.cuisine_lists.values[idx]\n",
    "        \n",
    "        return result\n",
    "        \n",
    "    else:\n",
    "        return row['cuisine_lists']\n",
    "\n",
    "    \n",
    "data['cuisine_lists'] = data.apply(get_cuisines_from_rests, axis = 1)\n",
    "'''"
   ]
  },
  {
   "cell_type": "code",
   "execution_count": 37,
   "metadata": {},
   "outputs": [
    {
     "name": "stdout",
     "output_type": "stream",
     "text": [
      "<class 'pandas.core.frame.DataFrame'>\n",
      "RangeIndex: 50000 entries, 0 to 49999\n",
      "Data columns (total 20 columns):\n",
      "Restaurant_id           50000 non-null object\n",
      "City                    50000 non-null object\n",
      "Cuisine                 38410 non-null object\n",
      "Ranking                 50000 non-null float64\n",
      "Price                   32639 non-null object\n",
      "Num_of_reviews          46800 non-null float64\n",
      "Reviews                 49998 non-null object\n",
      "Url                     50000 non-null object\n",
      "Id_ta                   50000 non-null object\n",
      "Sample                  50000 non-null int64\n",
      "Rating                  50000 non-null float64\n",
      "price_range_nan         50000 non-null uint8\n",
      "price_range             50000 non-null object\n",
      "conv_price_range        50000 non-null int64\n",
      "review_nan              50000 non-null uint8\n",
      "number_of_reviews       50000 non-null float64\n",
      "number_of_reviews_v2    50000 non-null float64\n",
      "Reviews_no_outliers     50000 non-null float64\n",
      "cuisine_nan             50000 non-null uint8\n",
      "cuisine_lists           40244 non-null object\n",
      "dtypes: float64(6), int64(2), object(9), uint8(3)\n",
      "memory usage: 6.6+ MB\n"
     ]
    }
   ],
   "source": [
    "data.info()"
   ]
  },
  {
   "cell_type": "markdown",
   "metadata": {},
   "source": [
    "Какие признаки можно считать категориальными?"
   ]
  },
  {
   "cell_type": "markdown",
   "metadata": {},
   "source": [
    "Для кодирования категориальных признаков есть множество подходов:\n",
    "* Label Encoding\n",
    "* One-Hot Encoding\n",
    "* Target Encoding\n",
    "* Hashing\n",
    "\n",
    "Выбор кодирования зависит от признака и выбраной модели.\n",
    "Не будем сейчас сильно погружаться в эту тематику, давайте посмотрим лучше пример с One-Hot Encoding:\n",
    "![](https://i.imgur.com/mtimFxh.png)"
   ]
  },
  {
   "cell_type": "code",
   "execution_count": 38,
   "metadata": {},
   "outputs": [],
   "source": [
    "# Перед тем как создать колонки по городам\n",
    "# Создаю копию колонки всех городов\n",
    "data['cities'] = data['City']"
   ]
  },
  {
   "cell_type": "code",
   "execution_count": 39,
   "metadata": {},
   "outputs": [],
   "source": [
    "# для One-Hot Encoding в pandas есть готовая функция - get_dummies. Особенно радует параметр dummy_na\n",
    "data = pd.get_dummies(data, columns=[ 'City',], dummy_na=True)"
   ]
  },
  {
   "cell_type": "markdown",
   "metadata": {},
   "source": [
    "#### Возьмем следующий признак \"Price Range\"."
   ]
  },
  {
   "cell_type": "markdown",
   "metadata": {},
   "source": [
    "По описанию 'Price Range' это - Цены в ресторане.  \n",
    "Их можно поставить по возрастанию (значит это не категориальный признак). А это значит, что их можно заменить последовательными числами, например 1,2,3  \n",
    "*Попробуйте сделать обработку этого признака уже самостоятельно!*"
   ]
  },
  {
   "cell_type": "markdown",
   "metadata": {},
   "source": [
    "### Обработать другие признаки вы должны самостоятельно!\n",
    "Для обработки других признаков вам возможно придется даже написать свою функцию, а может даже и не одну, но в этом и есть ваша практика в этом модуле!     \n",
    "Следуя подсказкам в модуле вы сможете более подробно узнать, как сделать эти приобразования."
   ]
  },
  {
   "cell_type": "markdown",
   "metadata": {},
   "source": [
    "![](https://cs10.pikabu.ru/post_img/2018/09/06/11/1536261023140110012.jpg)"
   ]
  },
  {
   "cell_type": "code",
   "execution_count": null,
   "metadata": {},
   "outputs": [],
   "source": []
  },
  {
   "cell_type": "markdown",
   "metadata": {},
   "source": [
    "# EDA \n",
    "[Exploratory Data Analysis](https://ru.wikipedia.org/wiki/Разведочный_анализ_данных) - Анализ данных\n",
    "На этом этапе мы строим графики, ищем закономерности, аномалии, выбросы или связи между признаками.\n",
    "В общем цель этого этапа понять, что эти данные могут нам дать и как признаки могут быть взаимосвязаны между собой.\n",
    "Понимание изначальных признаков позволит сгенерировать новые, более сильные и, тем самым, сделать нашу модель лучше.\n",
    "![](https://miro.medium.com/max/2598/1*RXdMb7Uk6mGqWqPguHULaQ.png)"
   ]
  },
  {
   "cell_type": "markdown",
   "metadata": {},
   "source": [
    "### Посмотрим распределение признака"
   ]
  },
  {
   "cell_type": "code",
   "execution_count": 40,
   "metadata": {},
   "outputs": [
    {
     "name": "stderr",
     "output_type": "stream",
     "text": [
      "/opt/conda/lib/python3.6/site-packages/ipykernel_launcher.py:3: UserWarning: Boolean Series key will be reindexed to match DataFrame index.\n",
      "  This is separate from the ipykernel package so we can avoid doing imports until\n",
      "/opt/conda/lib/python3.6/site-packages/ipykernel_launcher.py:3: UserWarning: Boolean Series key will be reindexed to match DataFrame index.\n",
      "  This is separate from the ipykernel package so we can avoid doing imports until\n",
      "/opt/conda/lib/python3.6/site-packages/ipykernel_launcher.py:3: UserWarning: Boolean Series key will be reindexed to match DataFrame index.\n",
      "  This is separate from the ipykernel package so we can avoid doing imports until\n",
      "/opt/conda/lib/python3.6/site-packages/ipykernel_launcher.py:3: UserWarning: Boolean Series key will be reindexed to match DataFrame index.\n",
      "  This is separate from the ipykernel package so we can avoid doing imports until\n",
      "/opt/conda/lib/python3.6/site-packages/ipykernel_launcher.py:3: UserWarning: Boolean Series key will be reindexed to match DataFrame index.\n",
      "  This is separate from the ipykernel package so we can avoid doing imports until\n",
      "/opt/conda/lib/python3.6/site-packages/ipykernel_launcher.py:3: UserWarning: Boolean Series key will be reindexed to match DataFrame index.\n",
      "  This is separate from the ipykernel package so we can avoid doing imports until\n",
      "/opt/conda/lib/python3.6/site-packages/ipykernel_launcher.py:3: UserWarning: Boolean Series key will be reindexed to match DataFrame index.\n",
      "  This is separate from the ipykernel package so we can avoid doing imports until\n",
      "/opt/conda/lib/python3.6/site-packages/ipykernel_launcher.py:3: UserWarning: Boolean Series key will be reindexed to match DataFrame index.\n",
      "  This is separate from the ipykernel package so we can avoid doing imports until\n",
      "/opt/conda/lib/python3.6/site-packages/ipykernel_launcher.py:3: UserWarning: Boolean Series key will be reindexed to match DataFrame index.\n",
      "  This is separate from the ipykernel package so we can avoid doing imports until\n"
     ]
    },
    {
     "data": {
      "image/png": "[encoded data removed]",
      "text/plain": [
       "<Figure size 432x288 with 1 Axes>"
      ]
     },
     "metadata": {
      "needs_background": "light"
     },
     "output_type": "display_data"
    }
   ],
   "source": [
    "for city in data.cities.value_counts().index[:10]:\n",
    "\n",
    "    data[data.Sample == 1][data.price_range_nan == 0].groupby(['cities', 'conv_price_range']).Rating.mean()[city].plot()"
   ]
  },
  {
   "cell_type": "code",
   "execution_count": 41,
   "metadata": {},
   "outputs": [],
   "source": [
    "# В разных городах наблюдается снижение рэйтинга (во второй категории цен) в соотнешение между категорией цены и рейтингом.\n"
   ]
  },
  {
   "cell_type": "code",
   "execution_count": 42,
   "metadata": {},
   "outputs": [
    {
     "data": {
      "text/plain": [
       "'London'"
      ]
     },
     "metadata": {},
     "output_type": "display_data"
    },
    {
     "name": "stderr",
     "output_type": "stream",
     "text": [
      "/opt/conda/lib/python3.6/site-packages/ipykernel_launcher.py:5: UserWarning: Boolean Series key will be reindexed to match DataFrame index.\n",
      "  \"\"\"\n"
     ]
    },
    {
     "data": {
      "text/html": [
       "<div>\n",
       "<style scoped>\n",
       "    .dataframe tbody tr th:only-of-type {\n",
       "        vertical-align: middle;\n",
       "    }\n",
       "\n",
       "    .dataframe tbody tr th {\n",
       "        vertical-align: top;\n",
       "    }\n",
       "\n",
       "    .dataframe thead th {\n",
       "        text-align: right;\n",
       "    }\n",
       "</style>\n",
       "<table border=\"1\" class=\"dataframe\">\n",
       "  <thead>\n",
       "    <tr style=\"text-align: right;\">\n",
       "      <th></th>\n",
       "      <th>conv_price_range</th>\n",
       "      <th>Rating</th>\n",
       "    </tr>\n",
       "  </thead>\n",
       "  <tbody>\n",
       "    <tr>\n",
       "      <th>conv_price_range</th>\n",
       "      <td>1.000000</td>\n",
       "      <td>0.006546</td>\n",
       "    </tr>\n",
       "    <tr>\n",
       "      <th>Rating</th>\n",
       "      <td>0.006546</td>\n",
       "      <td>1.000000</td>\n",
       "    </tr>\n",
       "  </tbody>\n",
       "</table>\n",
       "</div>"
      ],
      "text/plain": [
       "                  conv_price_range    Rating\n",
       "conv_price_range          1.000000  0.006546\n",
       "Rating                    0.006546  1.000000"
      ]
     },
     "metadata": {},
     "output_type": "display_data"
    },
    {
     "data": {
      "text/plain": [
       "'Paris'"
      ]
     },
     "metadata": {},
     "output_type": "display_data"
    },
    {
     "data": {
      "text/html": [
       "<div>\n",
       "<style scoped>\n",
       "    .dataframe tbody tr th:only-of-type {\n",
       "        vertical-align: middle;\n",
       "    }\n",
       "\n",
       "    .dataframe tbody tr th {\n",
       "        vertical-align: top;\n",
       "    }\n",
       "\n",
       "    .dataframe thead th {\n",
       "        text-align: right;\n",
       "    }\n",
       "</style>\n",
       "<table border=\"1\" class=\"dataframe\">\n",
       "  <thead>\n",
       "    <tr style=\"text-align: right;\">\n",
       "      <th></th>\n",
       "      <th>conv_price_range</th>\n",
       "      <th>Rating</th>\n",
       "    </tr>\n",
       "  </thead>\n",
       "  <tbody>\n",
       "    <tr>\n",
       "      <th>conv_price_range</th>\n",
       "      <td>1.000000</td>\n",
       "      <td>0.005141</td>\n",
       "    </tr>\n",
       "    <tr>\n",
       "      <th>Rating</th>\n",
       "      <td>0.005141</td>\n",
       "      <td>1.000000</td>\n",
       "    </tr>\n",
       "  </tbody>\n",
       "</table>\n",
       "</div>"
      ],
      "text/plain": [
       "                  conv_price_range    Rating\n",
       "conv_price_range          1.000000  0.005141\n",
       "Rating                    0.005141  1.000000"
      ]
     },
     "metadata": {},
     "output_type": "display_data"
    },
    {
     "data": {
      "text/plain": [
       "'Madrid'"
      ]
     },
     "metadata": {},
     "output_type": "display_data"
    },
    {
     "data": {
      "text/html": [
       "<div>\n",
       "<style scoped>\n",
       "    .dataframe tbody tr th:only-of-type {\n",
       "        vertical-align: middle;\n",
       "    }\n",
       "\n",
       "    .dataframe tbody tr th {\n",
       "        vertical-align: top;\n",
       "    }\n",
       "\n",
       "    .dataframe thead th {\n",
       "        text-align: right;\n",
       "    }\n",
       "</style>\n",
       "<table border=\"1\" class=\"dataframe\">\n",
       "  <thead>\n",
       "    <tr style=\"text-align: right;\">\n",
       "      <th></th>\n",
       "      <th>conv_price_range</th>\n",
       "      <th>Rating</th>\n",
       "    </tr>\n",
       "  </thead>\n",
       "  <tbody>\n",
       "    <tr>\n",
       "      <th>conv_price_range</th>\n",
       "      <td>1.000000</td>\n",
       "      <td>0.065306</td>\n",
       "    </tr>\n",
       "    <tr>\n",
       "      <th>Rating</th>\n",
       "      <td>0.065306</td>\n",
       "      <td>1.000000</td>\n",
       "    </tr>\n",
       "  </tbody>\n",
       "</table>\n",
       "</div>"
      ],
      "text/plain": [
       "                  conv_price_range    Rating\n",
       "conv_price_range          1.000000  0.065306\n",
       "Rating                    0.065306  1.000000"
      ]
     },
     "metadata": {},
     "output_type": "display_data"
    },
    {
     "data": {
      "text/plain": [
       "'Barcelona'"
      ]
     },
     "metadata": {},
     "output_type": "display_data"
    },
    {
     "data": {
      "text/html": [
       "<div>\n",
       "<style scoped>\n",
       "    .dataframe tbody tr th:only-of-type {\n",
       "        vertical-align: middle;\n",
       "    }\n",
       "\n",
       "    .dataframe tbody tr th {\n",
       "        vertical-align: top;\n",
       "    }\n",
       "\n",
       "    .dataframe thead th {\n",
       "        text-align: right;\n",
       "    }\n",
       "</style>\n",
       "<table border=\"1\" class=\"dataframe\">\n",
       "  <thead>\n",
       "    <tr style=\"text-align: right;\">\n",
       "      <th></th>\n",
       "      <th>conv_price_range</th>\n",
       "      <th>Rating</th>\n",
       "    </tr>\n",
       "  </thead>\n",
       "  <tbody>\n",
       "    <tr>\n",
       "      <th>conv_price_range</th>\n",
       "      <td>1.000000</td>\n",
       "      <td>0.020449</td>\n",
       "    </tr>\n",
       "    <tr>\n",
       "      <th>Rating</th>\n",
       "      <td>0.020449</td>\n",
       "      <td>1.000000</td>\n",
       "    </tr>\n",
       "  </tbody>\n",
       "</table>\n",
       "</div>"
      ],
      "text/plain": [
       "                  conv_price_range    Rating\n",
       "conv_price_range          1.000000  0.020449\n",
       "Rating                    0.020449  1.000000"
      ]
     },
     "metadata": {},
     "output_type": "display_data"
    },
    {
     "data": {
      "text/plain": [
       "'Berlin'"
      ]
     },
     "metadata": {},
     "output_type": "display_data"
    },
    {
     "data": {
      "text/html": [
       "<div>\n",
       "<style scoped>\n",
       "    .dataframe tbody tr th:only-of-type {\n",
       "        vertical-align: middle;\n",
       "    }\n",
       "\n",
       "    .dataframe tbody tr th {\n",
       "        vertical-align: top;\n",
       "    }\n",
       "\n",
       "    .dataframe thead th {\n",
       "        text-align: right;\n",
       "    }\n",
       "</style>\n",
       "<table border=\"1\" class=\"dataframe\">\n",
       "  <thead>\n",
       "    <tr style=\"text-align: right;\">\n",
       "      <th></th>\n",
       "      <th>conv_price_range</th>\n",
       "      <th>Rating</th>\n",
       "    </tr>\n",
       "  </thead>\n",
       "  <tbody>\n",
       "    <tr>\n",
       "      <th>conv_price_range</th>\n",
       "      <td>1.000000</td>\n",
       "      <td>-0.106162</td>\n",
       "    </tr>\n",
       "    <tr>\n",
       "      <th>Rating</th>\n",
       "      <td>-0.106162</td>\n",
       "      <td>1.000000</td>\n",
       "    </tr>\n",
       "  </tbody>\n",
       "</table>\n",
       "</div>"
      ],
      "text/plain": [
       "                  conv_price_range    Rating\n",
       "conv_price_range          1.000000 -0.106162\n",
       "Rating                   -0.106162  1.000000"
      ]
     },
     "metadata": {},
     "output_type": "display_data"
    },
    {
     "data": {
      "text/plain": [
       "'Milan'"
      ]
     },
     "metadata": {},
     "output_type": "display_data"
    },
    {
     "data": {
      "text/html": [
       "<div>\n",
       "<style scoped>\n",
       "    .dataframe tbody tr th:only-of-type {\n",
       "        vertical-align: middle;\n",
       "    }\n",
       "\n",
       "    .dataframe tbody tr th {\n",
       "        vertical-align: top;\n",
       "    }\n",
       "\n",
       "    .dataframe thead th {\n",
       "        text-align: right;\n",
       "    }\n",
       "</style>\n",
       "<table border=\"1\" class=\"dataframe\">\n",
       "  <thead>\n",
       "    <tr style=\"text-align: right;\">\n",
       "      <th></th>\n",
       "      <th>conv_price_range</th>\n",
       "      <th>Rating</th>\n",
       "    </tr>\n",
       "  </thead>\n",
       "  <tbody>\n",
       "    <tr>\n",
       "      <th>conv_price_range</th>\n",
       "      <td>1.000000</td>\n",
       "      <td>0.019092</td>\n",
       "    </tr>\n",
       "    <tr>\n",
       "      <th>Rating</th>\n",
       "      <td>0.019092</td>\n",
       "      <td>1.000000</td>\n",
       "    </tr>\n",
       "  </tbody>\n",
       "</table>\n",
       "</div>"
      ],
      "text/plain": [
       "                  conv_price_range    Rating\n",
       "conv_price_range          1.000000  0.019092\n",
       "Rating                    0.019092  1.000000"
      ]
     },
     "metadata": {},
     "output_type": "display_data"
    }
   ],
   "source": [
    "# посмотрю если по разным городам какая-то корреляция проглядывается\n",
    "for city in data.cities.value_counts().index[:6]:\n",
    "    display(city)\n",
    "\n",
    "    display(data[data.Sample == 1][data.price_range_nan == 0][data.cities == city][['conv_price_range', 'Rating']].corr())"
   ]
  },
  {
   "cell_type": "code",
   "execution_count": 43,
   "metadata": {},
   "outputs": [
    {
     "name": "stderr",
     "output_type": "stream",
     "text": [
      "/opt/conda/lib/python3.6/site-packages/ipykernel_launcher.py:1: UserWarning: Boolean Series key will be reindexed to match DataFrame index.\n",
      "  \"\"\"Entry point for launching an IPython kernel.\n"
     ]
    },
    {
     "data": {
      "text/plain": [
       "<matplotlib.axes._subplots.AxesSubplot at 0x7f6063467940>"
      ]
     },
     "execution_count": 43,
     "metadata": {},
     "output_type": "execute_result"
    },
    {
     "data": {
      "image/png": "[encoded data removed]",
      "text/plain": [
       "<Figure size 432x288 with 1 Axes>"
      ]
     },
     "metadata": {
      "needs_background": "light"
     },
     "output_type": "display_data"
    }
   ],
   "source": [
    "\n",
    "\n",
    "data[data.Sample == 1][data.price_range_nan == 0].groupby('Rating').number_of_reviews.mean().plot()\n",
    "\n"
   ]
  },
  {
   "cell_type": "code",
   "execution_count": 44,
   "metadata": {},
   "outputs": [
    {
     "data": {
      "text/plain": [
       "'London'"
      ]
     },
     "metadata": {},
     "output_type": "display_data"
    },
    {
     "name": "stderr",
     "output_type": "stream",
     "text": [
      "/opt/conda/lib/python3.6/site-packages/ipykernel_launcher.py:3: UserWarning: Boolean Series key will be reindexed to match DataFrame index.\n",
      "  This is separate from the ipykernel package so we can avoid doing imports until\n"
     ]
    },
    {
     "data": {
      "text/html": [
       "<div>\n",
       "<style scoped>\n",
       "    .dataframe tbody tr th:only-of-type {\n",
       "        vertical-align: middle;\n",
       "    }\n",
       "\n",
       "    .dataframe tbody tr th {\n",
       "        vertical-align: top;\n",
       "    }\n",
       "\n",
       "    .dataframe thead th {\n",
       "        text-align: right;\n",
       "    }\n",
       "</style>\n",
       "<table border=\"1\" class=\"dataframe\">\n",
       "  <thead>\n",
       "    <tr style=\"text-align: right;\">\n",
       "      <th></th>\n",
       "      <th>number_of_reviews</th>\n",
       "      <th>Rating</th>\n",
       "    </tr>\n",
       "  </thead>\n",
       "  <tbody>\n",
       "    <tr>\n",
       "      <th>number_of_reviews</th>\n",
       "      <td>1.000000</td>\n",
       "      <td>0.037339</td>\n",
       "    </tr>\n",
       "    <tr>\n",
       "      <th>Rating</th>\n",
       "      <td>0.037339</td>\n",
       "      <td>1.000000</td>\n",
       "    </tr>\n",
       "  </tbody>\n",
       "</table>\n",
       "</div>"
      ],
      "text/plain": [
       "                   number_of_reviews    Rating\n",
       "number_of_reviews           1.000000  0.037339\n",
       "Rating                      0.037339  1.000000"
      ]
     },
     "metadata": {},
     "output_type": "display_data"
    },
    {
     "data": {
      "text/plain": [
       "'Paris'"
      ]
     },
     "metadata": {},
     "output_type": "display_data"
    },
    {
     "data": {
      "text/html": [
       "<div>\n",
       "<style scoped>\n",
       "    .dataframe tbody tr th:only-of-type {\n",
       "        vertical-align: middle;\n",
       "    }\n",
       "\n",
       "    .dataframe tbody tr th {\n",
       "        vertical-align: top;\n",
       "    }\n",
       "\n",
       "    .dataframe thead th {\n",
       "        text-align: right;\n",
       "    }\n",
       "</style>\n",
       "<table border=\"1\" class=\"dataframe\">\n",
       "  <thead>\n",
       "    <tr style=\"text-align: right;\">\n",
       "      <th></th>\n",
       "      <th>number_of_reviews</th>\n",
       "      <th>Rating</th>\n",
       "    </tr>\n",
       "  </thead>\n",
       "  <tbody>\n",
       "    <tr>\n",
       "      <th>number_of_reviews</th>\n",
       "      <td>1.000000</td>\n",
       "      <td>-0.012222</td>\n",
       "    </tr>\n",
       "    <tr>\n",
       "      <th>Rating</th>\n",
       "      <td>-0.012222</td>\n",
       "      <td>1.000000</td>\n",
       "    </tr>\n",
       "  </tbody>\n",
       "</table>\n",
       "</div>"
      ],
      "text/plain": [
       "                   number_of_reviews    Rating\n",
       "number_of_reviews           1.000000 -0.012222\n",
       "Rating                     -0.012222  1.000000"
      ]
     },
     "metadata": {},
     "output_type": "display_data"
    },
    {
     "data": {
      "text/plain": [
       "'Madrid'"
      ]
     },
     "metadata": {},
     "output_type": "display_data"
    },
    {
     "data": {
      "text/html": [
       "<div>\n",
       "<style scoped>\n",
       "    .dataframe tbody tr th:only-of-type {\n",
       "        vertical-align: middle;\n",
       "    }\n",
       "\n",
       "    .dataframe tbody tr th {\n",
       "        vertical-align: top;\n",
       "    }\n",
       "\n",
       "    .dataframe thead th {\n",
       "        text-align: right;\n",
       "    }\n",
       "</style>\n",
       "<table border=\"1\" class=\"dataframe\">\n",
       "  <thead>\n",
       "    <tr style=\"text-align: right;\">\n",
       "      <th></th>\n",
       "      <th>number_of_reviews</th>\n",
       "      <th>Rating</th>\n",
       "    </tr>\n",
       "  </thead>\n",
       "  <tbody>\n",
       "    <tr>\n",
       "      <th>number_of_reviews</th>\n",
       "      <td>1.000000</td>\n",
       "      <td>0.061428</td>\n",
       "    </tr>\n",
       "    <tr>\n",
       "      <th>Rating</th>\n",
       "      <td>0.061428</td>\n",
       "      <td>1.000000</td>\n",
       "    </tr>\n",
       "  </tbody>\n",
       "</table>\n",
       "</div>"
      ],
      "text/plain": [
       "                   number_of_reviews    Rating\n",
       "number_of_reviews           1.000000  0.061428\n",
       "Rating                      0.061428  1.000000"
      ]
     },
     "metadata": {},
     "output_type": "display_data"
    },
    {
     "data": {
      "text/plain": [
       "'Barcelona'"
      ]
     },
     "metadata": {},
     "output_type": "display_data"
    },
    {
     "data": {
      "text/html": [
       "<div>\n",
       "<style scoped>\n",
       "    .dataframe tbody tr th:only-of-type {\n",
       "        vertical-align: middle;\n",
       "    }\n",
       "\n",
       "    .dataframe tbody tr th {\n",
       "        vertical-align: top;\n",
       "    }\n",
       "\n",
       "    .dataframe thead th {\n",
       "        text-align: right;\n",
       "    }\n",
       "</style>\n",
       "<table border=\"1\" class=\"dataframe\">\n",
       "  <thead>\n",
       "    <tr style=\"text-align: right;\">\n",
       "      <th></th>\n",
       "      <th>number_of_reviews</th>\n",
       "      <th>Rating</th>\n",
       "    </tr>\n",
       "  </thead>\n",
       "  <tbody>\n",
       "    <tr>\n",
       "      <th>number_of_reviews</th>\n",
       "      <td>1.00000</td>\n",
       "      <td>0.03263</td>\n",
       "    </tr>\n",
       "    <tr>\n",
       "      <th>Rating</th>\n",
       "      <td>0.03263</td>\n",
       "      <td>1.00000</td>\n",
       "    </tr>\n",
       "  </tbody>\n",
       "</table>\n",
       "</div>"
      ],
      "text/plain": [
       "                   number_of_reviews   Rating\n",
       "number_of_reviews            1.00000  0.03263\n",
       "Rating                       0.03263  1.00000"
      ]
     },
     "metadata": {},
     "output_type": "display_data"
    },
    {
     "data": {
      "text/plain": [
       "'Berlin'"
      ]
     },
     "metadata": {},
     "output_type": "display_data"
    },
    {
     "data": {
      "text/html": [
       "<div>\n",
       "<style scoped>\n",
       "    .dataframe tbody tr th:only-of-type {\n",
       "        vertical-align: middle;\n",
       "    }\n",
       "\n",
       "    .dataframe tbody tr th {\n",
       "        vertical-align: top;\n",
       "    }\n",
       "\n",
       "    .dataframe thead th {\n",
       "        text-align: right;\n",
       "    }\n",
       "</style>\n",
       "<table border=\"1\" class=\"dataframe\">\n",
       "  <thead>\n",
       "    <tr style=\"text-align: right;\">\n",
       "      <th></th>\n",
       "      <th>number_of_reviews</th>\n",
       "      <th>Rating</th>\n",
       "    </tr>\n",
       "  </thead>\n",
       "  <tbody>\n",
       "    <tr>\n",
       "      <th>number_of_reviews</th>\n",
       "      <td>1.000000</td>\n",
       "      <td>-0.062676</td>\n",
       "    </tr>\n",
       "    <tr>\n",
       "      <th>Rating</th>\n",
       "      <td>-0.062676</td>\n",
       "      <td>1.000000</td>\n",
       "    </tr>\n",
       "  </tbody>\n",
       "</table>\n",
       "</div>"
      ],
      "text/plain": [
       "                   number_of_reviews    Rating\n",
       "number_of_reviews           1.000000 -0.062676\n",
       "Rating                     -0.062676  1.000000"
      ]
     },
     "metadata": {},
     "output_type": "display_data"
    },
    {
     "data": {
      "text/plain": [
       "'Milan'"
      ]
     },
     "metadata": {},
     "output_type": "display_data"
    },
    {
     "data": {
      "text/html": [
       "<div>\n",
       "<style scoped>\n",
       "    .dataframe tbody tr th:only-of-type {\n",
       "        vertical-align: middle;\n",
       "    }\n",
       "\n",
       "    .dataframe tbody tr th {\n",
       "        vertical-align: top;\n",
       "    }\n",
       "\n",
       "    .dataframe thead th {\n",
       "        text-align: right;\n",
       "    }\n",
       "</style>\n",
       "<table border=\"1\" class=\"dataframe\">\n",
       "  <thead>\n",
       "    <tr style=\"text-align: right;\">\n",
       "      <th></th>\n",
       "      <th>number_of_reviews</th>\n",
       "      <th>Rating</th>\n",
       "    </tr>\n",
       "  </thead>\n",
       "  <tbody>\n",
       "    <tr>\n",
       "      <th>number_of_reviews</th>\n",
       "      <td>1.000000</td>\n",
       "      <td>-0.005281</td>\n",
       "    </tr>\n",
       "    <tr>\n",
       "      <th>Rating</th>\n",
       "      <td>-0.005281</td>\n",
       "      <td>1.000000</td>\n",
       "    </tr>\n",
       "  </tbody>\n",
       "</table>\n",
       "</div>"
      ],
      "text/plain": [
       "                   number_of_reviews    Rating\n",
       "number_of_reviews           1.000000 -0.005281\n",
       "Rating                     -0.005281  1.000000"
      ]
     },
     "metadata": {},
     "output_type": "display_data"
    }
   ],
   "source": [
    "for city in data.cities.value_counts().index[:6]:\n",
    "    display(city)\n",
    "    display(data[data.Sample == 1][data.price_range_nan == 0][data.cities == city][['number_of_reviews', 'Rating']].corr())"
   ]
  },
  {
   "cell_type": "code",
   "execution_count": 45,
   "metadata": {},
   "outputs": [
    {
     "name": "stderr",
     "output_type": "stream",
     "text": [
      "/opt/conda/lib/python3.6/site-packages/ipykernel_launcher.py:1: UserWarning: Boolean Series key will be reindexed to match DataFrame index.\n",
      "  \"\"\"Entry point for launching an IPython kernel.\n"
     ]
    },
    {
     "data": {
      "text/html": [
       "<div>\n",
       "<style scoped>\n",
       "    .dataframe tbody tr th:only-of-type {\n",
       "        vertical-align: middle;\n",
       "    }\n",
       "\n",
       "    .dataframe tbody tr th {\n",
       "        vertical-align: top;\n",
       "    }\n",
       "\n",
       "    .dataframe thead th {\n",
       "        text-align: right;\n",
       "    }\n",
       "</style>\n",
       "<table border=\"1\" class=\"dataframe\">\n",
       "  <thead>\n",
       "    <tr style=\"text-align: right;\">\n",
       "      <th></th>\n",
       "      <th>conv_price_range</th>\n",
       "      <th>Ranking</th>\n",
       "    </tr>\n",
       "  </thead>\n",
       "  <tbody>\n",
       "    <tr>\n",
       "      <th>conv_price_range</th>\n",
       "      <td>1.000000</td>\n",
       "      <td>-0.103883</td>\n",
       "    </tr>\n",
       "    <tr>\n",
       "      <th>Ranking</th>\n",
       "      <td>-0.103883</td>\n",
       "      <td>1.000000</td>\n",
       "    </tr>\n",
       "  </tbody>\n",
       "</table>\n",
       "</div>"
      ],
      "text/plain": [
       "                  conv_price_range   Ranking\n",
       "conv_price_range          1.000000 -0.103883\n",
       "Ranking                  -0.103883  1.000000"
      ]
     },
     "metadata": {},
     "output_type": "display_data"
    },
    {
     "name": "stderr",
     "output_type": "stream",
     "text": [
      "/opt/conda/lib/python3.6/site-packages/ipykernel_launcher.py:5: UserWarning: Boolean Series key will be reindexed to match DataFrame index.\n",
      "  \"\"\"\n",
      "/opt/conda/lib/python3.6/site-packages/ipykernel_launcher.py:5: UserWarning: Boolean Series key will be reindexed to match DataFrame index.\n",
      "  \"\"\"\n",
      "/opt/conda/lib/python3.6/site-packages/ipykernel_launcher.py:5: UserWarning: Boolean Series key will be reindexed to match DataFrame index.\n",
      "  \"\"\"\n",
      "/opt/conda/lib/python3.6/site-packages/ipykernel_launcher.py:5: UserWarning: Boolean Series key will be reindexed to match DataFrame index.\n",
      "  \"\"\"\n"
     ]
    },
    {
     "data": {
      "image/png": "[encoded data removed]",
      "text/plain": [
       "<Figure size 432x288 with 1 Axes>"
      ]
     },
     "metadata": {
      "needs_background": "light"
     },
     "output_type": "display_data"
    }
   ],
   "source": [
    "display(data[data.Sample == 1][data.price_range_nan == 0][['conv_price_range', 'Ranking']].corr())\n",
    "\n",
    "for city in data.cities.value_counts().index[:5]:\n",
    "\n",
    "    data[data.Sample == 1][data.price_range_nan == 0].groupby(['cities', 'conv_price_range']).Ranking.mean()[city].plot()"
   ]
  },
  {
   "cell_type": "code",
   "execution_count": 46,
   "metadata": {},
   "outputs": [
    {
     "data": {
      "text/plain": [
       "'London'"
      ]
     },
     "metadata": {},
     "output_type": "display_data"
    },
    {
     "name": "stderr",
     "output_type": "stream",
     "text": [
      "/opt/conda/lib/python3.6/site-packages/ipykernel_launcher.py:6: UserWarning: Boolean Series key will be reindexed to match DataFrame index.\n",
      "  \n"
     ]
    },
    {
     "data": {
      "text/html": [
       "<div>\n",
       "<style scoped>\n",
       "    .dataframe tbody tr th:only-of-type {\n",
       "        vertical-align: middle;\n",
       "    }\n",
       "\n",
       "    .dataframe tbody tr th {\n",
       "        vertical-align: top;\n",
       "    }\n",
       "\n",
       "    .dataframe thead th {\n",
       "        text-align: right;\n",
       "    }\n",
       "</style>\n",
       "<table border=\"1\" class=\"dataframe\">\n",
       "  <thead>\n",
       "    <tr style=\"text-align: right;\">\n",
       "      <th></th>\n",
       "      <th>conv_price_range</th>\n",
       "      <th>Ranking</th>\n",
       "    </tr>\n",
       "  </thead>\n",
       "  <tbody>\n",
       "    <tr>\n",
       "      <th>conv_price_range</th>\n",
       "      <td>1.000000</td>\n",
       "      <td>-0.210661</td>\n",
       "    </tr>\n",
       "    <tr>\n",
       "      <th>Ranking</th>\n",
       "      <td>-0.210661</td>\n",
       "      <td>1.000000</td>\n",
       "    </tr>\n",
       "  </tbody>\n",
       "</table>\n",
       "</div>"
      ],
      "text/plain": [
       "                  conv_price_range   Ranking\n",
       "conv_price_range          1.000000 -0.210661\n",
       "Ranking                  -0.210661  1.000000"
      ]
     },
     "metadata": {},
     "output_type": "display_data"
    },
    {
     "data": {
      "text/plain": [
       "'Paris'"
      ]
     },
     "metadata": {},
     "output_type": "display_data"
    },
    {
     "data": {
      "text/html": [
       "<div>\n",
       "<style scoped>\n",
       "    .dataframe tbody tr th:only-of-type {\n",
       "        vertical-align: middle;\n",
       "    }\n",
       "\n",
       "    .dataframe tbody tr th {\n",
       "        vertical-align: top;\n",
       "    }\n",
       "\n",
       "    .dataframe thead th {\n",
       "        text-align: right;\n",
       "    }\n",
       "</style>\n",
       "<table border=\"1\" class=\"dataframe\">\n",
       "  <thead>\n",
       "    <tr style=\"text-align: right;\">\n",
       "      <th></th>\n",
       "      <th>conv_price_range</th>\n",
       "      <th>Ranking</th>\n",
       "    </tr>\n",
       "  </thead>\n",
       "  <tbody>\n",
       "    <tr>\n",
       "      <th>conv_price_range</th>\n",
       "      <td>1.000000</td>\n",
       "      <td>-0.168427</td>\n",
       "    </tr>\n",
       "    <tr>\n",
       "      <th>Ranking</th>\n",
       "      <td>-0.168427</td>\n",
       "      <td>1.000000</td>\n",
       "    </tr>\n",
       "  </tbody>\n",
       "</table>\n",
       "</div>"
      ],
      "text/plain": [
       "                  conv_price_range   Ranking\n",
       "conv_price_range          1.000000 -0.168427\n",
       "Ranking                  -0.168427  1.000000"
      ]
     },
     "metadata": {},
     "output_type": "display_data"
    },
    {
     "data": {
      "text/plain": [
       "'Madrid'"
      ]
     },
     "metadata": {},
     "output_type": "display_data"
    },
    {
     "data": {
      "text/html": [
       "<div>\n",
       "<style scoped>\n",
       "    .dataframe tbody tr th:only-of-type {\n",
       "        vertical-align: middle;\n",
       "    }\n",
       "\n",
       "    .dataframe tbody tr th {\n",
       "        vertical-align: top;\n",
       "    }\n",
       "\n",
       "    .dataframe thead th {\n",
       "        text-align: right;\n",
       "    }\n",
       "</style>\n",
       "<table border=\"1\" class=\"dataframe\">\n",
       "  <thead>\n",
       "    <tr style=\"text-align: right;\">\n",
       "      <th></th>\n",
       "      <th>conv_price_range</th>\n",
       "      <th>Ranking</th>\n",
       "    </tr>\n",
       "  </thead>\n",
       "  <tbody>\n",
       "    <tr>\n",
       "      <th>conv_price_range</th>\n",
       "      <td>1.000000</td>\n",
       "      <td>-0.216915</td>\n",
       "    </tr>\n",
       "    <tr>\n",
       "      <th>Ranking</th>\n",
       "      <td>-0.216915</td>\n",
       "      <td>1.000000</td>\n",
       "    </tr>\n",
       "  </tbody>\n",
       "</table>\n",
       "</div>"
      ],
      "text/plain": [
       "                  conv_price_range   Ranking\n",
       "conv_price_range          1.000000 -0.216915\n",
       "Ranking                  -0.216915  1.000000"
      ]
     },
     "metadata": {},
     "output_type": "display_data"
    },
    {
     "data": {
      "text/plain": [
       "'Barcelona'"
      ]
     },
     "metadata": {},
     "output_type": "display_data"
    },
    {
     "data": {
      "text/html": [
       "<div>\n",
       "<style scoped>\n",
       "    .dataframe tbody tr th:only-of-type {\n",
       "        vertical-align: middle;\n",
       "    }\n",
       "\n",
       "    .dataframe tbody tr th {\n",
       "        vertical-align: top;\n",
       "    }\n",
       "\n",
       "    .dataframe thead th {\n",
       "        text-align: right;\n",
       "    }\n",
       "</style>\n",
       "<table border=\"1\" class=\"dataframe\">\n",
       "  <thead>\n",
       "    <tr style=\"text-align: right;\">\n",
       "      <th></th>\n",
       "      <th>conv_price_range</th>\n",
       "      <th>Ranking</th>\n",
       "    </tr>\n",
       "  </thead>\n",
       "  <tbody>\n",
       "    <tr>\n",
       "      <th>conv_price_range</th>\n",
       "      <td>1.000000</td>\n",
       "      <td>-0.171059</td>\n",
       "    </tr>\n",
       "    <tr>\n",
       "      <th>Ranking</th>\n",
       "      <td>-0.171059</td>\n",
       "      <td>1.000000</td>\n",
       "    </tr>\n",
       "  </tbody>\n",
       "</table>\n",
       "</div>"
      ],
      "text/plain": [
       "                  conv_price_range   Ranking\n",
       "conv_price_range          1.000000 -0.171059\n",
       "Ranking                  -0.171059  1.000000"
      ]
     },
     "metadata": {},
     "output_type": "display_data"
    },
    {
     "data": {
      "text/plain": [
       "'Berlin'"
      ]
     },
     "metadata": {},
     "output_type": "display_data"
    },
    {
     "data": {
      "text/html": [
       "<div>\n",
       "<style scoped>\n",
       "    .dataframe tbody tr th:only-of-type {\n",
       "        vertical-align: middle;\n",
       "    }\n",
       "\n",
       "    .dataframe tbody tr th {\n",
       "        vertical-align: top;\n",
       "    }\n",
       "\n",
       "    .dataframe thead th {\n",
       "        text-align: right;\n",
       "    }\n",
       "</style>\n",
       "<table border=\"1\" class=\"dataframe\">\n",
       "  <thead>\n",
       "    <tr style=\"text-align: right;\">\n",
       "      <th></th>\n",
       "      <th>conv_price_range</th>\n",
       "      <th>Ranking</th>\n",
       "    </tr>\n",
       "  </thead>\n",
       "  <tbody>\n",
       "    <tr>\n",
       "      <th>conv_price_range</th>\n",
       "      <td>1.000000</td>\n",
       "      <td>-0.123829</td>\n",
       "    </tr>\n",
       "    <tr>\n",
       "      <th>Ranking</th>\n",
       "      <td>-0.123829</td>\n",
       "      <td>1.000000</td>\n",
       "    </tr>\n",
       "  </tbody>\n",
       "</table>\n",
       "</div>"
      ],
      "text/plain": [
       "                  conv_price_range   Ranking\n",
       "conv_price_range          1.000000 -0.123829\n",
       "Ranking                  -0.123829  1.000000"
      ]
     },
     "metadata": {},
     "output_type": "display_data"
    },
    {
     "data": {
      "text/plain": [
       "'Milan'"
      ]
     },
     "metadata": {},
     "output_type": "display_data"
    },
    {
     "data": {
      "text/html": [
       "<div>\n",
       "<style scoped>\n",
       "    .dataframe tbody tr th:only-of-type {\n",
       "        vertical-align: middle;\n",
       "    }\n",
       "\n",
       "    .dataframe tbody tr th {\n",
       "        vertical-align: top;\n",
       "    }\n",
       "\n",
       "    .dataframe thead th {\n",
       "        text-align: right;\n",
       "    }\n",
       "</style>\n",
       "<table border=\"1\" class=\"dataframe\">\n",
       "  <thead>\n",
       "    <tr style=\"text-align: right;\">\n",
       "      <th></th>\n",
       "      <th>conv_price_range</th>\n",
       "      <th>Ranking</th>\n",
       "    </tr>\n",
       "  </thead>\n",
       "  <tbody>\n",
       "    <tr>\n",
       "      <th>conv_price_range</th>\n",
       "      <td>1.000000</td>\n",
       "      <td>-0.202275</td>\n",
       "    </tr>\n",
       "    <tr>\n",
       "      <th>Ranking</th>\n",
       "      <td>-0.202275</td>\n",
       "      <td>1.000000</td>\n",
       "    </tr>\n",
       "  </tbody>\n",
       "</table>\n",
       "</div>"
      ],
      "text/plain": [
       "                  conv_price_range   Ranking\n",
       "conv_price_range          1.000000 -0.202275\n",
       "Ranking                  -0.202275  1.000000"
      ]
     },
     "metadata": {},
     "output_type": "display_data"
    }
   ],
   "source": [
    "# посмотрю если по разным городам какая-то корреляция проглядывается между ценами и Рэнкингом\n",
    "\n",
    "for city in data.cities.value_counts().index[:6]:\n",
    "    display(city)\n",
    "\n",
    "    display(data[data.Sample == 1][data.price_range_nan == 0][data.cities == city][['conv_price_range', 'Ranking']].corr())"
   ]
  },
  {
   "cell_type": "code",
   "execution_count": 47,
   "metadata": {},
   "outputs": [],
   "source": [
    "# не большая корреляция проглядывается"
   ]
  },
  {
   "cell_type": "code",
   "execution_count": 48,
   "metadata": {},
   "outputs": [
    {
     "data": {
      "image/png": "[encoded data removed]",
      "text/plain": [
       "<Figure size 432x288 with 1 Axes>"
      ]
     },
     "metadata": {
      "needs_background": "light"
     },
     "output_type": "display_data"
    }
   ],
   "source": [
    "for x in (df_train['Rating'].value_counts()).index:\n",
    "    df_train['Ranking'][df_train['Rating'] == x].hist(bins=100)\n",
    "    \n",
    "plt.show()"
   ]
  },
  {
   "cell_type": "code",
   "execution_count": 49,
   "metadata": {},
   "outputs": [
    {
     "data": {
      "image/png": "[encoded data removed]",
      "text/plain": [
       "<Figure size 432x288 with 1 Axes>"
      ]
     },
     "metadata": {
      "needs_background": "light"
     },
     "output_type": "display_data"
    }
   ],
   "source": [
    "for x in (df_train['Rating'].value_counts()).index:\n",
    "    df_train['Number of Reviews'][df_train['Rating'] == x].hist(bins=100)\n",
    "    \n",
    "plt.show()\n",
    "\n"
   ]
  },
  {
   "cell_type": "code",
   "execution_count": 50,
   "metadata": {},
   "outputs": [
    {
     "name": "stderr",
     "output_type": "stream",
     "text": [
      "/opt/conda/lib/python3.6/site-packages/ipykernel_launcher.py:11: UserWarning: Boolean Series key will be reindexed to match DataFrame index.\n",
      "  # This is added back by InteractiveShellApp.init_path()\n"
     ]
    },
    {
     "name": "stdout",
     "output_type": "stream",
     "text": [
      "<class 'pandas.core.frame.DataFrame'>\n",
      "Index: 31 entries, Amsterdam to Zurich\n",
      "Columns: 125 entries, bar to latvian\n",
      "dtypes: float64(125)\n",
      "memory usage: 30.5+ KB\n"
     ]
    },
    {
     "data": {
      "text/plain": [
       "None"
      ]
     },
     "metadata": {},
     "output_type": "display_data"
    }
   ],
   "source": [
    "# Эта программа составит таблицу как хит мэп.\n",
    "# Эта таблица показывает средне статистический рэйтинг конкретной еды по городу\n",
    "# Рэйтинги ресторанов с конкретной едой по городу дают среднее значение\n",
    "\n",
    "heat = pd.DataFrame(index=sorted(list(data.cities.value_counts().index)))\n",
    "\n",
    "\n",
    "def build_dframe_hmap():\n",
    "    for cus in all_cuisine:\n",
    "        sub_frame = data[data.Sample == 1][data.cuisine_lists.str.contains(\n",
    "            cus, regex=False) == True]\n",
    "        mean = sub_frame.groupby('cities')['Rating'].mean()\n",
    "\n",
    "        for city in mean.index:\n",
    "\n",
    "            if len(sub_frame[sub_frame['cities'] == city]) < 1:\n",
    "                mean[city] = None\n",
    "\n",
    "        if len(mean) != len(heat):\n",
    "            paded_list = []\n",
    "            cities = heat.index\n",
    "\n",
    "            for city in cities:\n",
    "                if city not in mean.index:\n",
    "                    paded_list.append(None)\n",
    "                else:\n",
    "                    paded_list.append(mean[city])\n",
    "\n",
    "            heat[cus] = paded_list\n",
    "        else:\n",
    "            heat[cus] = mean.values\n",
    "\n",
    "\n",
    "build_dframe_hmap()\n",
    "display(heat.info())"
   ]
  },
  {
   "cell_type": "code",
   "execution_count": 51,
   "metadata": {},
   "outputs": [
    {
     "data": {
      "text/plain": [
       "<matplotlib.axes._subplots.AxesSubplot at 0x7f6062f0a908>"
      ]
     },
     "execution_count": 51,
     "metadata": {},
     "output_type": "execute_result"
    },
    {
     "data": {
      "image/png": "[encoded data removed]",
      "text/plain": [
       "<Figure size 1440x1440 with 2 Axes>"
      ]
     },
     "metadata": {
      "needs_background": "light"
     },
     "output_type": "display_data"
    }
   ],
   "source": [
    "# Визуализация программы выше\n",
    "\n",
    "import matplotlib.pyplot as plt\n",
    "import seaborn as sns\n",
    "%matplotlib inline\n",
    "\n",
    "fig, ax = plt.subplots(figsize=(20, 20))\n",
    "sns.heatmap(heat.iloc[:, 30:45:], annot=True, linewidths=.8, ax=ax)"
   ]
  },
  {
   "cell_type": "code",
   "execution_count": 52,
   "metadata": {},
   "outputs": [
    {
     "ename": "NameError",
     "evalue": "name 'heat_length' is not defined",
     "output_type": "error",
     "traceback": [
      "\u001b[0;31m---------------------------------------------------------------------------\u001b[0m",
      "\u001b[0;31mNameError\u001b[0m                                 Traceback (most recent call last)",
      "\u001b[0;32m<ipython-input-52-8689c390d88f>\u001b[0m in \u001b[0;36m<module>\u001b[0;34m\u001b[0m\n\u001b[0;32m----> 1\u001b[0;31m \u001b[0mheat_length\u001b[0m\u001b[0;34m.\u001b[0m\u001b[0mhead\u001b[0m\u001b[0;34m(\u001b[0m\u001b[0;36m31\u001b[0m\u001b[0;34m)\u001b[0m\u001b[0;34m\u001b[0m\u001b[0m\n\u001b[0m",
      "\u001b[0;31mNameError\u001b[0m: name 'heat_length' is not defined"
     ]
    }
   ],
   "source": [
    "heat_length.head(31)"
   ]
  },
  {
   "cell_type": "code",
   "execution_count": 53,
   "metadata": {},
   "outputs": [
    {
     "data": {
      "text/plain": [
       "<matplotlib.axes._subplots.AxesSubplot at 0x7f6062ca5cf8>"
      ]
     },
     "execution_count": 53,
     "metadata": {},
     "output_type": "execute_result"
    },
    {
     "data": {
      "image/png": "[encoded data removed]",
      "text/plain": [
       "<Figure size 720x504 with 1 Axes>"
      ]
     },
     "metadata": {
      "needs_background": "light"
     },
     "output_type": "display_data"
    }
   ],
   "source": [
    "plt.rcParams['figure.figsize'] = (10,7)\n",
    "df_train['Ranking'].hist(bins=100)"
   ]
  },
  {
   "cell_type": "markdown",
   "metadata": {},
   "source": [
    "У нас много ресторанов, которые не дотягивают и до 2500 места в своем городе, а что там по городам?"
   ]
  },
  {
   "cell_type": "code",
   "execution_count": 54,
   "metadata": {},
   "outputs": [
    {
     "data": {
      "text/plain": [
       "<matplotlib.axes._subplots.AxesSubplot at 0x7f60630ed8d0>"
      ]
     },
     "execution_count": 54,
     "metadata": {},
     "output_type": "execute_result"
    },
    {
     "data": {
      "image/png": "[encoded data removed]",
      "text/plain": [
       "<Figure size 720x504 with 1 Axes>"
      ]
     },
     "metadata": {
      "needs_background": "light"
     },
     "output_type": "display_data"
    }
   ],
   "source": [
    "df_train['City'].value_counts(ascending=True).plot(kind='barh')"
   ]
  },
  {
   "cell_type": "markdown",
   "metadata": {},
   "source": [
    "А кто-то говорил, что французы любят поесть=) Посмотрим, как изменится распределение в большом городе:"
   ]
  },
  {
   "cell_type": "code",
   "execution_count": 55,
   "metadata": {},
   "outputs": [
    {
     "data": {
      "text/plain": [
       "<matplotlib.axes._subplots.AxesSubplot at 0x7f60633a2278>"
      ]
     },
     "execution_count": 55,
     "metadata": {},
     "output_type": "execute_result"
    },
    {
     "data": {
      "image/png": "[encoded data removed]",
      "text/plain": [
       "<Figure size 720x504 with 1 Axes>"
      ]
     },
     "metadata": {
      "needs_background": "light"
     },
     "output_type": "display_data"
    }
   ],
   "source": [
    "df_train['Ranking'][df_train['City'] =='London'].hist(bins=100)"
   ]
  },
  {
   "cell_type": "code",
   "execution_count": 56,
   "metadata": {},
   "outputs": [
    {
     "data": {
      "image/png": "[encoded data removed]",
      "text/plain": [
       "<Figure size 720x504 with 1 Axes>"
      ]
     },
     "metadata": {
      "needs_background": "light"
     },
     "output_type": "display_data"
    }
   ],
   "source": [
    "# посмотрим на топ 10 городов\n",
    "for x in (df_train['City'].value_counts())[0:10].index:\n",
    "    df_train['Ranking'][df_train['City'] == x].hist(bins=100)\n",
    "plt.show()"
   ]
  },
  {
   "cell_type": "markdown",
   "metadata": {},
   "source": [
    "Получается, что Ranking имеет нормальное распределение, просто в больших городах больше ресторанов, из-за мы этого имеем смещение.\n",
    "\n",
    ">Подумайте как из этого можно сделать признак для вашей модели. Я покажу вам пример, как визуализация помогает находить взаимосвязи. А далее действуйте без подсказок =) \n"
   ]
  },
  {
   "cell_type": "markdown",
   "metadata": {},
   "source": [
    "### Посмотрим распределение целевой переменной"
   ]
  },
  {
   "cell_type": "code",
   "execution_count": 57,
   "metadata": {},
   "outputs": [
    {
     "data": {
      "text/plain": [
       "<matplotlib.axes._subplots.AxesSubplot at 0x7f6062e077b8>"
      ]
     },
     "execution_count": 57,
     "metadata": {},
     "output_type": "execute_result"
    },
    {
     "data": {
      "image/png": "[encoded data removed]",
      "text/plain": [
       "<Figure size 720x504 with 1 Axes>"
      ]
     },
     "metadata": {
      "needs_background": "light"
     },
     "output_type": "display_data"
    }
   ],
   "source": [
    "df_train['Rating'].value_counts(ascending=True).plot(kind='barh')"
   ]
  },
  {
   "cell_type": "markdown",
   "metadata": {},
   "source": [
    "### Посмотрим распределение целевой переменной относительно признака"
   ]
  },
  {
   "cell_type": "code",
   "execution_count": 58,
   "metadata": {},
   "outputs": [
    {
     "data": {
      "text/plain": [
       "<matplotlib.axes._subplots.AxesSubplot at 0x7f605862a978>"
      ]
     },
     "execution_count": 58,
     "metadata": {},
     "output_type": "execute_result"
    },
    {
     "data": {
      "image/png": "[encoded data removed]",
      "text/plain": [
       "<Figure size 720x504 with 1 Axes>"
      ]
     },
     "metadata": {
      "needs_background": "light"
     },
     "output_type": "display_data"
    }
   ],
   "source": [
    "df_train['Ranking'][df_train['Rating'] == 5].hist(bins=100)"
   ]
  },
  {
   "cell_type": "code",
   "execution_count": 59,
   "metadata": {},
   "outputs": [
    {
     "data": {
      "text/plain": [
       "<matplotlib.axes._subplots.AxesSubplot at 0x7f60585494a8>"
      ]
     },
     "execution_count": 59,
     "metadata": {},
     "output_type": "execute_result"
    },
    {
     "data": {
      "image/png": "[encoded data removed]",
      "text/plain": [
       "<Figure size 720x504 with 1 Axes>"
      ]
     },
     "metadata": {
      "needs_background": "light"
     },
     "output_type": "display_data"
    }
   ],
   "source": [
    "df_train['Ranking'][df_train['Rating'] < 4].hist(bins=100)"
   ]
  },
  {
   "cell_type": "markdown",
   "metadata": {},
   "source": [
    "### И один из моих любимых - [корреляция признаков](https://ru.wikipedia.org/wiki/Корреляция)\n",
    "На этом графике уже сейчас вы сможете заметить, как признаки связаны между собой и с целевой переменной."
   ]
  },
  {
   "cell_type": "code",
   "execution_count": 60,
   "metadata": {},
   "outputs": [
    {
     "data": {
      "text/plain": [
       "<matplotlib.axes._subplots.AxesSubplot at 0x7f60584a3748>"
      ]
     },
     "execution_count": 60,
     "metadata": {},
     "output_type": "execute_result"
    },
    {
     "data": {
      "image/png": "[encoded data removed]",
      "text/plain": [
       "<Figure size 1080x720 with 2 Axes>"
      ]
     },
     "metadata": {
      "needs_background": "light"
     },
     "output_type": "display_data"
    }
   ],
   "source": [
    "plt.rcParams['figure.figsize'] = (15,10)\n",
    "sns.heatmap(data.drop(['Sample'], axis=1).corr(),)"
   ]
  },
  {
   "cell_type": "markdown",
   "metadata": {},
   "source": [
    "Вообще благодаря визуализации в этом датасете можно узнать много интересных фактов, например:\n",
    "* где больше Пицерий в Мадриде или Лондоне?\n",
    "* в каком городе кухня ресторанов более разнообразна?\n",
    "\n",
    "придумайте свои вопрос и найдите на него ответ в данных)"
   ]
  },
  {
   "cell_type": "markdown",
   "metadata": {},
   "source": [
    "# Дополнительные Признаки"
   ]
  },
  {
   "cell_type": "code",
   "execution_count": 61,
   "metadata": {},
   "outputs": [],
   "source": [
    "# График показывает что колонка Рэнкинг самая важная в моделе\n",
    "# следовательно эта функция создает признак опираясь на Рэнкинг\n",
    "# Значение Рэнкинг по каждому ресторану делится на максимальное значение\n",
    "# в своем городе\n",
    "\n",
    "cities_dic = {}\n",
    "city_list = list(data.cities.value_counts().index)\n",
    "\n",
    "\n",
    "for city in city_list:\n",
    "    cities_dic[city] = data[data.cities == city].Ranking.max()\n",
    "\n",
    "\n",
    "def standard_ranking(row):\n",
    "\n",
    "    city = row['cities']\n",
    "\n",
    "    return row['Ranking'] / cities_dic[city]\n",
    "\n",
    "\n",
    "data['st_ranking'] = data.apply(standard_ranking, axis=1)"
   ]
  },
  {
   "cell_type": "code",
   "execution_count": 62,
   "metadata": {},
   "outputs": [],
   "source": [
    "# Эта функция создает похожий признак на признак созданый выше,\n",
    "# но делит на минимальное значения рэнкинга по каждому городу\n",
    "\n",
    "cities_dict = {}\n",
    "citi_list = list(data.cities.value_counts().index)\n",
    "\n",
    "\n",
    "for city in citi_list:\n",
    "    cities_dict[city] = data[data.cities == city].Ranking.min()\n",
    "\n",
    "\n",
    "def standard_ranking_v2(row):\n",
    "\n",
    "    city = row['cities']\n",
    "\n",
    "    return cities_dict[city] / row['Ranking']\n",
    "\n",
    "\n",
    "data['st_ranking_v2'] = data.apply(standard_ranking_v2, axis=1)\n",
    "\n",
    "\n",
    "\n"
   ]
  },
  {
   "cell_type": "markdown",
   "metadata": {},
   "source": [
    "city_rate = [[0]*3]*31\n",
    "city_list = list(data.cities.value_counts().index)\n",
    "ratings = list( data[data.Sample == 1].Rating.value_counts().index)\n",
    "\n",
    "rate_data = pd.DataFrame(city_rate)\n",
    "rate_data.index = city_list\n",
    "rate_data.columns = ratings\n",
    "\n",
    "for city in city_list:\n",
    "    for rate in ratings:\n",
    "        rate_data[str(rate)][city] = data[data.cities == city][data.Rating == rate].Ranking.max()\n",
    "\n",
    "\n",
    "def standard_ranking(row):\n",
    "    \n",
    "    city = row['cities']\n",
    "    \n",
    "    \n",
    "    return row['Ranking'] / cities_dic[city]\n",
    "\n",
    "\n",
    "data['st_ranking'] = data.apply(standard_ranking, axis = 1)\n",
    "\n"
   ]
  },
  {
   "cell_type": "code",
   "execution_count": 63,
   "metadata": {},
   "outputs": [],
   "source": [
    "\n",
    "# Эта функция создает фальшивый рэйтинг для каждого ресторана\n",
    "# опираясь на групировку по городам, ценам и рэйтингу из 26000 ресторанов\n",
    "# по которым был известен price range\n",
    "\n",
    "sort_table = data[data.Sample == 1].groupby(\n",
    "    ['cities', 'conv_price_range', 'Rating']).st_ranking.median()\n",
    "\n",
    "\n",
    "def fake_rating(row):\n",
    "    price = row['conv_price_range']\n",
    "    city = row['cities']\n",
    "    ranking = row['st_ranking']\n",
    "    range_list = sort_table[city][price].values\n",
    "    ind = closest(range_list, ranking)\n",
    "\n",
    "    result = sort_table[city][price].index[ind]\n",
    "\n",
    "    return result\n",
    "\n",
    "\n",
    "data['fake_rating'] = data.apply(fake_rating, axis=1)\n"
   ]
  },
  {
   "cell_type": "code",
   "execution_count": 64,
   "metadata": {},
   "outputs": [
    {
     "data": {
      "text/html": [
       "<div>\n",
       "<style scoped>\n",
       "    .dataframe tbody tr th:only-of-type {\n",
       "        vertical-align: middle;\n",
       "    }\n",
       "\n",
       "    .dataframe tbody tr th {\n",
       "        vertical-align: top;\n",
       "    }\n",
       "\n",
       "    .dataframe thead th {\n",
       "        text-align: right;\n",
       "    }\n",
       "</style>\n",
       "<table border=\"1\" class=\"dataframe\">\n",
       "  <thead>\n",
       "    <tr style=\"text-align: right;\">\n",
       "      <th></th>\n",
       "      <th>Rating</th>\n",
       "      <th>fake_rating</th>\n",
       "    </tr>\n",
       "  </thead>\n",
       "  <tbody>\n",
       "    <tr>\n",
       "      <th>Rating</th>\n",
       "      <td>1.000000</td>\n",
       "      <td>0.712734</td>\n",
       "    </tr>\n",
       "    <tr>\n",
       "      <th>fake_rating</th>\n",
       "      <td>0.712734</td>\n",
       "      <td>1.000000</td>\n",
       "    </tr>\n",
       "  </tbody>\n",
       "</table>\n",
       "</div>"
      ],
      "text/plain": [
       "               Rating  fake_rating\n",
       "Rating       1.000000     0.712734\n",
       "fake_rating  0.712734     1.000000"
      ]
     },
     "execution_count": 64,
     "metadata": {},
     "output_type": "execute_result"
    }
   ],
   "source": [
    "data[data.Sample == 1][['Rating', 'fake_rating']].corr()"
   ]
  },
  {
   "cell_type": "code",
   "execution_count": 65,
   "metadata": {},
   "outputs": [
    {
     "name": "stderr",
     "output_type": "stream",
     "text": [
      "/opt/conda/lib/python3.6/site-packages/ipykernel_launcher.py:15: UserWarning: Boolean Series key will be reindexed to match DataFrame index.\n",
      "  from ipykernel import kernelapp as app\n"
     ]
    },
    {
     "name": "stdout",
     "output_type": "stream",
     "text": [
      "-0.3731434378124753\n",
      "-0.4391512852591836\n",
      "-0.5216218892142419\n",
      "-0.26602147387703584\n",
      "-0.3896881641176434\n",
      "-0.5116476388614744\n",
      "-0.18374907971332996\n",
      "-0.3547645065210031\n",
      "-0.6195613488468944\n",
      "-0.4217067477247815\n",
      "-0.3666219282402012\n",
      "-0.5393678782890928\n",
      "-0.3787134893552492\n",
      "-0.3523198884550111\n",
      "-0.5981635465103381\n",
      "-0.2759815404680654\n",
      "-0.3869527770993164\n",
      "-0.5604451520440945\n",
      "-0.4394137983428754\n",
      "-0.4426202473115471\n",
      "-0.7094417564881491\n",
      "-0.38941518737192227\n",
      "-0.3316769259317208\n",
      "-0.4720068195498063\n",
      "-0.43233860647091354\n",
      "-0.3915724531188661\n",
      "-0.6103289987079071\n",
      "-0.3632746585767587\n",
      "-0.3133940295508131\n",
      "-0.8096640107450442\n",
      "-0.4921684237855052\n",
      "-0.3899672232849002\n",
      "-0.5208851478919122\n",
      "-0.3130868220148927\n",
      "-0.29954176501926894\n",
      "-0.7437318581434887\n",
      "-0.39103267951217835\n",
      "-0.3928847696390423\n",
      "-0.6166589446038742\n",
      "-0.37019764334135585\n",
      "-0.294650827185091\n",
      "-0.6074012001270142\n",
      "-0.3294589054025569\n",
      "-0.3390021532300951\n",
      "-0.5969000801719666\n",
      "-0.3389881237944328\n",
      "-0.3977465432813422\n",
      "-0.7333091517690185\n",
      "-0.4728828907383974\n",
      "-0.3736064838197859\n",
      "-0.5951584606882967\n",
      "-0.2899416827801961\n",
      "-0.41804032094623844\n",
      "-0.4390037456714666\n",
      "-0.5672209471341632\n",
      "-0.496440948763764\n",
      "-0.6474258583162393\n",
      "-0.3639249882864797\n",
      "-0.4942985250893528\n",
      "-0.6795959536239057\n",
      "-0.37206702385602974\n",
      "-0.3597390420278452\n",
      "-0.6384110679924107\n",
      "-0.4623485991825519\n",
      "-0.5296832378979695\n",
      "-0.6765858454648874\n",
      "-0.41486947832837784\n",
      "-0.3787091430621599\n",
      "-0.713201621641873\n",
      "-0.3796584984674019\n",
      "-0.4503257286480004\n",
      "-0.5338791009143143\n",
      "-0.40678279848188065\n",
      "-0.36713519721004567\n",
      "-0.710819284925793\n",
      "-0.5804276454384473\n",
      "-0.417588394626295\n",
      "-0.6901370814664867\n",
      "-0.5376247376133984\n",
      "-0.4268345741251286\n",
      "-0.5642054440895332\n",
      "-0.4896661118899212\n",
      "-0.4387137846657731\n",
      "-0.7504329070468385\n",
      "-0.245100319013399\n",
      "-0.3945336097218502\n",
      "-0.6759243453617683\n",
      "-0.6299475254373894\n",
      "-0.5329930919503759\n",
      "-0.5501648872626318\n",
      "-0.616440094557974\n",
      "-0.45176557985627985\n",
      "-0.6874765014303907\n"
     ]
    }
   ],
   "source": [
    "# Эта функция создает признак определяю корреляция между рэнкингам\n",
    "# и количеством отзывов по каждому городу и цене\n",
    "\n",
    "price_table = [[0]*3]*31\n",
    "\n",
    "city_list = list(data.cities.value_counts().index)\n",
    "\n",
    "city_price = pd.DataFrame(price_table)\n",
    "city_price.index = city_list\n",
    "city_price.columns = ['1', '2', '3']\n",
    "\n",
    "\n",
    "for city in city_list:\n",
    "    for price in [1, 2, 3]:\n",
    "        city_price.at[str(price), city] = data[data.conv_price_range == price][data.cities == city][[\n",
    "            'Num_of_reviews', 'Ranking']].corr().values[0][1]\n",
    "        print(city_price.at[str(price), city])\n",
    "\n",
    "\n",
    "def find_correlations(row):\n",
    "    price = row['conv_price_range']\n",
    "    city = row['cities']\n",
    "    result = city_price.at[str(price), city]\n",
    "    return result\n",
    "\n",
    "\n",
    "data['correlations'] = data.apply(find_correlations, axis=1)"
   ]
  },
  {
   "cell_type": "code",
   "execution_count": 66,
   "metadata": {},
   "outputs": [],
   "source": [
    "# Признак создающиеся на основе самых важных признаков из графика\n",
    "\n",
    "data['st_times_correlations'] = data['number_of_reviews'] * \\\n",
    "    data['st_ranking'] / (data['conv_price_range'] * data['correlations'])"
   ]
  },
  {
   "cell_type": "code",
   "execution_count": 67,
   "metadata": {},
   "outputs": [],
   "source": [
    "# Нашел не большую статистику по средним ценам ресторанов\n",
    "# в разных городах Европы и решил сделать признак\n",
    "\n",
    "def det_country(city):\n",
    "    if city in ['London', 'Edinburgh']:\n",
    "        return 'England'\n",
    "    elif city in ['Paris', 'Lyon']:\n",
    "        return 'France'\n",
    "    elif city in ['Madrid', 'Barcelona']:\n",
    "        return 'Spain'\n",
    "    elif city in ['Berlin', 'Hamburg', 'Munich']:\n",
    "        return 'Germany'\n",
    "    elif city in ['Rome', 'Milan']:\n",
    "        return 'Italy'\n",
    "    elif city == 'Prague':\n",
    "        return 'Czechia'\n",
    "    elif city in ['Lisbon', 'Oporto']:\n",
    "        return 'Portugal'\n",
    "    elif city == 'Vienna':\n",
    "        return 'Austria'\n",
    "    elif city == 'Amsterdam':\n",
    "        return 'Netherlands'\n",
    "    elif city == 'Brussels':\n",
    "        return 'Belgium'\n",
    "    elif city == 'Stockholm':\n",
    "        return 'Sweden'\n",
    "    elif city == 'Budapest':\n",
    "        return 'Hungary'\n",
    "    elif city in ['Warsaw', 'Krakow']:\n",
    "        return 'Poland'\n",
    "    elif city == 'Dublin':\n",
    "        return 'Ireland'\n",
    "    elif city == 'Copenhagen':\n",
    "        return 'Denmark'\n",
    "\n",
    "    elif city == 'Athens':\n",
    "        return 'Greece'\n",
    "    elif city in ['Geneva', 'Zurich']:\n",
    "        return 'Switzerland'\n",
    "    elif city == 'Oslo':\n",
    "        return 'Norway'\n",
    "    elif city == 'Helsinki':\n",
    "        return 'Finland'\n",
    "    elif city == 'Bratislava':\n",
    "        return 'Slovakia'\n",
    "    elif city == 'Luxembourg':\n",
    "        return 'Luxembourg'\n",
    "    elif city == 'Ljubljana':\n",
    "        return 'Slovenia'\n",
    "\n",
    "\n",
    "data['country'] = data.cities.apply(det_country)\n",
    "\n",
    "\n",
    "prices = {'Switzerland': 28.12, 'Luxembourg': 28.12, 'Norway': 21.47, 'Denmark': 20.40,\n",
    "          'Netherlands': 18.20, 'Italy': 18.20, 'Ireland': 18.20, 'Belgium': 18.20, 'England': 16.72,\n",
    "          'France': 16.38, 'Austria': 15.57, 'Finland': 13.35, 'Spain': 12.74, 'Greece': 12.14,\n",
    "          'Germany': 12.14, 'Sweden': 12.08, 'Slovenia': 10.32, 'Portugal': 9.70, 'Hungary': 6.79,\n",
    "          'Poland': 6.76, 'Czechia': 6.62, 'Slovakia': 6.07}\n",
    "\n",
    "\n",
    "def price_per_country(country):\n",
    "    price = prices[country]\n",
    "\n",
    "    return price\n",
    "\n",
    "\n",
    "data['prices'] = data.country.apply(price_per_country)"
   ]
  },
  {
   "cell_type": "code",
   "execution_count": 68,
   "metadata": {},
   "outputs": [],
   "source": [
    "# Признак создающиеся на основе самых важных признаков из графика\n",
    "data['price_stranking_over_rev'] = - 1 * data['prices'] * \\\n",
    "    data['st_ranking'] / data['number_of_reviews']"
   ]
  },
  {
   "cell_type": "code",
   "execution_count": 69,
   "metadata": {},
   "outputs": [],
   "source": [
    "# Признак основаный на Рэнкиге, который делит рэнкинг по каждому ресторану\n",
    "# на среднюю величину рэнкинга сгруппированую по каждому городу и цене\n",
    "\n",
    "rank_table = data.groupby(['cities', 'Price']).Ranking.mean()\n",
    "\n",
    "\n",
    "def from_ranking_mean(row):\n",
    "    city = row['cities']\n",
    "    price = row['price_range']\n",
    "\n",
    "    result = rank_table[city][price]\n",
    "    result = row['Ranking'] / result\n",
    "\n",
    "    return result\n",
    "\n",
    "\n",
    "data['from_ranking_mean'] = data.apply(from_ranking_mean, axis=1)"
   ]
  },
  {
   "cell_type": "code",
   "execution_count": 70,
   "metadata": {},
   "outputs": [],
   "source": [
    "strank_table = data.groupby(['cities', 'Price']).st_ranking.median()\n",
    "\n",
    "def from_st_ranking_median(row):\n",
    "    city = row['cities']\n",
    "    price = row['price_range']\n",
    "    \n",
    "    result = strank_table[city][price]\n",
    "    result = row['st_ranking'] / result\n",
    "    \n",
    "    return result\n",
    "\n",
    "data['from_st_ranking_median'] = data.apply(from_st_ranking_median, axis = 1)"
   ]
  },
  {
   "cell_type": "code",
   "execution_count": 71,
   "metadata": {},
   "outputs": [],
   "source": [
    "stranking_table = data.groupby(['cities', 'Price']).st_ranking.mean()\n",
    "\n",
    "def from_st_ranking_mean(row):\n",
    "    city = row['cities']\n",
    "    price = row['price_range']\n",
    "    \n",
    "    result = stranking_table[city][price]\n",
    "    result = row['st_ranking'] / result\n",
    "    \n",
    "    return result\n",
    "\n",
    "data['from_st_ranking_mean'] = data.apply(from_st_ranking_mean, axis = 1)"
   ]
  },
  {
   "cell_type": "code",
   "execution_count": 72,
   "metadata": {},
   "outputs": [],
   "source": [
    "# Признаки созданые на основе самых важных признаков из графика\n",
    "data['stranking_over_ranking'] = data['Ranking'] / data['from_st_ranking_mean']\n",
    "\n",
    "data['reviews_over_stranking_mean'] = data['number_of_reviews'] / \\\n",
    "    data['from_st_ranking_mean']\n",
    "\n",
    "data['correlation_stranking_mean'] = data['from_st_ranking_mean'] ** 2 / \\\n",
    "    data['correlations']\n",
    "\n",
    "data['reviews_st_over_range_correlations'] = data['number_of_reviews'] * \\\n",
    "    data['st_ranking'] / (data['conv_price_range'] * data['correlations'])"
   ]
  },
  {
   "cell_type": "code",
   "execution_count": 73,
   "metadata": {},
   "outputs": [
    {
     "name": "stdout",
     "output_type": "stream",
     "text": [
      "<class 'pandas.core.frame.DataFrame'>\n",
      "RangeIndex: 50000 entries, 0 to 49999\n",
      "Data columns (total 67 columns):\n",
      "Restaurant_id                         50000 non-null object\n",
      "Cuisine                               38410 non-null object\n",
      "Ranking                               50000 non-null float64\n",
      "Price                                 32639 non-null object\n",
      "Num_of_reviews                        46800 non-null float64\n",
      "Reviews                               49998 non-null object\n",
      "Url                                   50000 non-null object\n",
      "Id_ta                                 50000 non-null object\n",
      "Sample                                50000 non-null int64\n",
      "Rating                                50000 non-null float64\n",
      "price_range_nan                       50000 non-null uint8\n",
      "price_range                           50000 non-null object\n",
      "conv_price_range                      50000 non-null int64\n",
      "review_nan                            50000 non-null uint8\n",
      "number_of_reviews                     50000 non-null float64\n",
      "number_of_reviews_v2                  50000 non-null float64\n",
      "Reviews_no_outliers                   50000 non-null float64\n",
      "cuisine_nan                           50000 non-null uint8\n",
      "cuisine_lists                         40244 non-null object\n",
      "cities                                50000 non-null object\n",
      "City_Amsterdam                        50000 non-null uint8\n",
      "City_Athens                           50000 non-null uint8\n",
      "City_Barcelona                        50000 non-null uint8\n",
      "City_Berlin                           50000 non-null uint8\n",
      "City_Bratislava                       50000 non-null uint8\n",
      "City_Brussels                         50000 non-null uint8\n",
      "City_Budapest                         50000 non-null uint8\n",
      "City_Copenhagen                       50000 non-null uint8\n",
      "City_Dublin                           50000 non-null uint8\n",
      "City_Edinburgh                        50000 non-null uint8\n",
      "City_Geneva                           50000 non-null uint8\n",
      "City_Hamburg                          50000 non-null uint8\n",
      "City_Helsinki                         50000 non-null uint8\n",
      "City_Krakow                           50000 non-null uint8\n",
      "City_Lisbon                           50000 non-null uint8\n",
      "City_Ljubljana                        50000 non-null uint8\n",
      "City_London                           50000 non-null uint8\n",
      "City_Luxembourg                       50000 non-null uint8\n",
      "City_Lyon                             50000 non-null uint8\n",
      "City_Madrid                           50000 non-null uint8\n",
      "City_Milan                            50000 non-null uint8\n",
      "City_Munich                           50000 non-null uint8\n",
      "City_Oporto                           50000 non-null uint8\n",
      "City_Oslo                             50000 non-null uint8\n",
      "City_Paris                            50000 non-null uint8\n",
      "City_Prague                           50000 non-null uint8\n",
      "City_Rome                             50000 non-null uint8\n",
      "City_Stockholm                        50000 non-null uint8\n",
      "City_Vienna                           50000 non-null uint8\n",
      "City_Warsaw                           50000 non-null uint8\n",
      "City_Zurich                           50000 non-null uint8\n",
      "City_nan                              50000 non-null uint8\n",
      "st_ranking                            50000 non-null float64\n",
      "st_ranking_v2                         50000 non-null float64\n",
      "fake_rating                           50000 non-null float64\n",
      "correlations                          50000 non-null float64\n",
      "st_times_correlations                 50000 non-null float64\n",
      "country                               50000 non-null object\n",
      "prices                                50000 non-null float64\n",
      "price_stranking_over_rev              50000 non-null float64\n",
      "from_ranking_mean                     50000 non-null float64\n",
      "from_st_ranking_median                50000 non-null float64\n",
      "from_st_ranking_mean                  50000 non-null float64\n",
      "stranking_over_ranking                50000 non-null float64\n",
      "reviews_over_stranking_mean           50000 non-null float64\n",
      "correlation_stranking_mean            50000 non-null float64\n",
      "reviews_st_over_range_correlations    50000 non-null float64\n",
      "dtypes: float64(20), int64(2), object(10), uint8(35)\n",
      "memory usage: 13.9+ MB\n"
     ]
    }
   ],
   "source": [
    "data.info()"
   ]
  },
  {
   "cell_type": "code",
   "execution_count": 74,
   "metadata": {},
   "outputs": [],
   "source": [
    "# Эта функция создает признак соотншения по каждому городу между\n",
    "# ресторанами по которым мы изначально знали цену и по которым мы не знали\n",
    "\n",
    "ratio_table = data.groupby('cities').price_range_nan.value_counts()\n",
    "\n",
    "\n",
    "def price_range_ratio(city):\n",
    "\n",
    "    known = ratio_table[city][0]\n",
    "    unknown = ratio_table[city][1]\n",
    "\n",
    "    return known / unknown\n",
    "\n",
    "\n",
    "data['price_known_ratio'] = data.cities.apply(price_range_ratio)"
   ]
  },
  {
   "cell_type": "code",
   "execution_count": 75,
   "metadata": {},
   "outputs": [
    {
     "data": {
      "text/plain": [
       "0           NaN\n",
       "1          37.0\n",
       "2          22.0\n",
       "3          14.0\n",
       "4          15.0\n",
       "          ...  \n",
       "49995      34.0\n",
       "49996       9.0\n",
       "49997    3127.0\n",
       "49998      23.0\n",
       "49999    1306.0\n",
       "Name: day_difference, Length: 50000, dtype: float64"
      ]
     },
     "metadata": {},
     "output_type": "display_data"
    }
   ],
   "source": [
    "# Эта функция достает все даты из ревью и считает сколько дней между датами\n",
    "\n",
    "import re\n",
    "import datetime\n",
    "from datetime import datetime, timedelta\n",
    "\n",
    "from dateutil.relativedelta import relativedelta\n",
    "\n",
    "\n",
    "list_date = []\n",
    "max_dates = []\n",
    "\n",
    "\n",
    "def collect_dates(review):\n",
    "    if pd.notna(review):\n",
    "        sub_list = []\n",
    "        pattern = re.compile('\\d\\d\\W\\d\\d\\W\\d\\d\\d\\d')\n",
    "        dates = pattern.findall(review)\n",
    "        if len(dates) > 0:\n",
    "\n",
    "            for date in dates:\n",
    "                sep = date[2]\n",
    "                if sep == '.':\n",
    "                    date_form = datetime.strptime(\n",
    "                        date, '%d' + sep + '%m' + sep + '%Y')\n",
    "                else:\n",
    "                    date_form = datetime.strptime(\n",
    "                        date, '%m' + sep + '%d' + sep + '%Y')\n",
    "\n",
    "                sub_list.append(date_form)\n",
    "\n",
    "                list_date.append(date_form)\n",
    "\n",
    "                if len(sub_list) > 1:\n",
    "                    days = str(sub_list[0] - sub_list[1])\n",
    "                    max_dates.append(days)\n",
    "\n",
    "                    if 'None' in days:\n",
    "                        return 0\n",
    "\n",
    "                    else:\n",
    "                        days = days.split(',')[0]\n",
    "                        days = days.split(' ')[0]\n",
    "                        if '0:' in days:\n",
    "                            return 0\n",
    "                        else:\n",
    "                            return int(days)\n",
    "    else:\n",
    "        return 0\n",
    "\n",
    "\n",
    "data['day_difference'] = data.Reviews.apply(collect_dates)\n",
    "\n",
    "dat_list = np.array(list_date)\n",
    "max_dates = np.array(max_dates)\n",
    "display(data['day_difference'])"
   ]
  },
  {
   "cell_type": "code",
   "execution_count": 76,
   "metadata": {},
   "outputs": [],
   "source": [
    "def fix_days_difference(days):    \n",
    "    if pd.isnull(days):\n",
    "        return 0\n",
    "    else:\n",
    "        return days\n",
    "    \n",
    "    \n",
    "data['number_of_days'] = data.day_difference.apply(fix_days_difference)"
   ]
  },
  {
   "cell_type": "code",
   "execution_count": 77,
   "metadata": {},
   "outputs": [],
   "source": [
    "# Признаки созданые на основе самых важных признаков из графика\n",
    "data['days_times_reviews'] = data['number_of_days'] * data['number_of_reviews']\n",
    "# data['power'] = data['st_ranking'] ** data['fake_rating']\n",
    "data['strank_times_reviews'] = data['st_ranking'] * data['number_of_reviews']"
   ]
  },
  {
   "cell_type": "code",
   "execution_count": null,
   "metadata": {},
   "outputs": [],
   "source": []
  },
  {
   "cell_type": "code",
   "execution_count": 78,
   "metadata": {},
   "outputs": [],
   "source": [
    "# Функция очищает дополнительно скаченые ревью ресторанов.\n",
    "\n",
    "def clean_more_reviews(review):\n",
    "    if pd.isnull(review):\n",
    "        return review\n",
    "\n",
    "    else:\n",
    "        review = review.lower()\n",
    "        chars = ['.', ',', ':', '!', '?']\n",
    "\n",
    "        for char in chars:\n",
    "            review = review.replace(char, '')\n",
    "\n",
    "        return review\n",
    "\n",
    "\n",
    "feeds['fixed_reviews'] = feeds.feedbacks.apply(clean_more_reviews)"
   ]
  },
  {
   "cell_type": "code",
   "execution_count": 79,
   "metadata": {},
   "outputs": [],
   "source": [
    "def clean_more_reviews_test(review):\n",
    "    if pd.isnull(review):\n",
    "        return review\n",
    "\n",
    "    else:\n",
    "        review = review.lower()\n",
    "        chars = ['.', ',', ':', '!', '?']\n",
    "\n",
    "        for char in chars:\n",
    "            review = review.replace(char, '')\n",
    "\n",
    "        return review\n",
    "\n",
    "\n",
    "kaggle_rests['fixed_reviews'] = kaggle_rests.feedbacks.apply(\n",
    "    clean_more_reviews_test)"
   ]
  },
  {
   "cell_type": "code",
   "execution_count": 80,
   "metadata": {},
   "outputs": [],
   "source": [
    "# Функция перемещает дополнительные ревью в data.\n",
    "\n",
    "def transfer_feedbacks_train(link):\n",
    "    feedback = str(feeds[feeds.url == link].fixed_reviews.values)\n",
    "    # print(feedback)\n",
    "    return feedback\n",
    "\n",
    "\n",
    "data['more_reviews'] = data.Url.apply(transfer_feedbacks_train)"
   ]
  },
  {
   "cell_type": "code",
   "execution_count": 81,
   "metadata": {},
   "outputs": [],
   "source": [
    "def transfer_feedbacks_test(row):\n",
    "    if row['more_reviews'] != '[]':\n",
    "        return row['more_reviews']\n",
    "\n",
    "    else:\n",
    "\n",
    "        link = row['Url']\n",
    "\n",
    "        feedback = str(\n",
    "            kaggle_rests[kaggle_rests.url == link].fixed_reviews.values)\n",
    "\n",
    "        return feedback\n",
    "\n",
    "\n",
    "data['more_reviews'] = data.apply(transfer_feedbacks_test, axis=1)"
   ]
  },
  {
   "cell_type": "code",
   "execution_count": 82,
   "metadata": {},
   "outputs": [],
   "source": [
    "def combined_reviews(row):\n",
    "    if type(row['Reviews']) == str:\n",
    "        return row['Reviews'].lower() + ' ' + row['more_reviews']\n",
    "\n",
    "    else:\n",
    "        return row['more_reviews']\n",
    "\n",
    "\n",
    "data['comb_reviews'] = data.apply(combined_reviews, axis=1)"
   ]
  },
  {
   "cell_type": "code",
   "execution_count": 83,
   "metadata": {},
   "outputs": [],
   "source": [
    "# Эта функция используя негативные слова в отзовах сгруппировать рестораны\n",
    "\n",
    "bad_words = 'miserable rubbish disaster rotten disgusting terrible horrible \\\n",
    "nightmare beware expansive overpriced boring no-go  yuck mislead mediocre \\\n",
    "slow uncomfortable unfriendly poor shame unpleasant unprofessional mouse mice fail \\\n",
    "dirt unsanitary rude garbage stingy disappoint hate crap nasty waste awful scam worst'\n",
    "\n",
    "bad_w_list = bad_words.split()\n",
    "bad_w_list.append(\"don't go\")\n",
    "bad_w_list.append('rip off')\n",
    "bad_w_list.append('avoid this')\n",
    "bad_w_list.append('oh my')\n",
    "bad_w_list.append('run away')\n",
    "\n",
    "\n",
    "def find_bad_words(review):\n",
    "\n",
    "    review = review.lower()\n",
    "    score = 0\n",
    "    for word in bad_w_list:\n",
    "        if word in review and 'not ' + word not in review:\n",
    "            score += review.count(word)\n",
    "\n",
    "    return -1 * score\n",
    "\n",
    "\n",
    "data['bad_words'] = data.comb_reviews.apply(find_bad_words)"
   ]
  },
  {
   "cell_type": "code",
   "execution_count": 84,
   "metadata": {},
   "outputs": [
    {
     "data": {
      "text/plain": [
       "list"
      ]
     },
     "metadata": {},
     "output_type": "display_data"
    }
   ],
   "source": [
    "# Эта функция используя положительные слова в отзовах сгруппировать рестораны\n",
    "\n",
    "good_words = 'superb incredible epic freshest yammy heaven spectacular masterpiece coolest favorite brilliant\\\n",
    "wonderful amazing delicious perfect charming excellent fabulous fantastic'\n",
    "\n",
    "\n",
    "nice_word_list = good_words.split()\n",
    "display(type(nice_word_list))\n",
    "nice_word_list.append('hidden gem')\n",
    "nice_word_list.append('must go')\n",
    "nice_word_list.append('best food')\n",
    "nice_word_list.append('best_meal')\n",
    "nice_word_list.append('fine wine')\n",
    "nice_word_list.append('highly recommend')\n",
    "nice_word_list.append('great food')\n",
    "nice_word_list.append('absolute gem')\n",
    "nice_word_list.append('pleasant surprise')\n",
    "\n",
    "\n",
    "def find_good_words(row):\n",
    "    # if type(row['comb_reviews']) == str:\n",
    "    review = row['comb_reviews']\n",
    "    score = 0\n",
    "    for word in nice_word_list:\n",
    "        if word in review and 'not ' + word not in review:\n",
    "            score += review.count(word)\n",
    "\n",
    "    return score\n",
    "\n",
    "\n",
    "data['good_words'] = data.apply(find_good_words, axis=1)"
   ]
  },
  {
   "cell_type": "code",
   "execution_count": 85,
   "metadata": {},
   "outputs": [],
   "source": [
    "# Этот признак просто сумма оценки ресторанов по негативным и положительным отзовам.\n",
    "data['total_score'] = data['good_words'] + data['bad_words']"
   ]
  },
  {
   "cell_type": "code",
   "execution_count": 86,
   "metadata": {},
   "outputs": [],
   "source": [
    "# Используя выше таблицу хит, эта функция считает для каждого ресторана рэйтинг\n",
    "\n",
    "def heat_rating(row):\n",
    "    if type(row['cuisine_lists']) == list and len(row['cuisine_lists']) > 0:\n",
    "        menu = row['cuisine_lists']\n",
    "        city = row['cities']\n",
    "        total_value = 0\n",
    "        \n",
    "        number = len(row['cuisine_lists'])\n",
    "        sub_list = [] \n",
    "        for food in menu:\n",
    "            value = heat[food][city]\n",
    "            #length = heat_length[food][city]\n",
    "            if pd.isnull(value):\n",
    "                value = 0 \n",
    "                number -= 1\n",
    "            \n",
    "            total_value += value\n",
    "            \n",
    "            \n",
    "            \n",
    "        if number == 0:\n",
    "            return None\n",
    "        \n",
    "        \n",
    "\n",
    "        else:\n",
    "            \n",
    "\n",
    "            return total_value / number\n",
    "\n",
    "    else:\n",
    "        return None\n",
    "\n",
    "\n",
    "data['heat_rating'] = data.apply(heat_rating, axis=1)"
   ]
  },
  {
   "cell_type": "code",
   "execution_count": 87,
   "metadata": {},
   "outputs": [],
   "source": [
    "heat_chart = data[data.price_range_nan == 0].groupby(\n",
    "    ['cities', 'conv_price_range']).heat_rating.mean()\n",
    "\n",
    "\n",
    "def fill_in_heatmap(row):\n",
    "    if pd.isnull(row['heat_rating']):\n",
    "        price = row['conv_price_range']\n",
    "        city = row['cities']\n",
    "        result = heat_chart[city][price]\n",
    "\n",
    "        return result\n",
    "\n",
    "    else:\n",
    "        return row['heat_rating']\n",
    "\n",
    "\n",
    "data['heat_rating'] = data.apply(fill_in_heatmap, axis=1)"
   ]
  },
  {
   "cell_type": "code",
   "execution_count": 88,
   "metadata": {},
   "outputs": [],
   "source": [
    "# признак на основе хит рэйтинга и самых важных признаков в модели\n",
    "\n",
    "data['heat_fake'] = (data['fake_rating'] ** data['heat_rating']) * data['st_ranking']"
   ]
  },
  {
   "cell_type": "code",
   "execution_count": 89,
   "metadata": {},
   "outputs": [
    {
     "name": "stderr",
     "output_type": "stream",
     "text": [
      "/opt/conda/lib/python3.6/site-packages/ipykernel_launcher.py:1: UserWarning: Boolean Series key will be reindexed to match DataFrame index.\n",
      "  \"\"\"Entry point for launching an IPython kernel.\n"
     ]
    },
    {
     "ename": "KeyError",
     "evalue": "\"['power'] not in index\"",
     "output_type": "error",
     "traceback": [
      "\u001b[0;31m---------------------------------------------------------------------------\u001b[0m",
      "\u001b[0;31mKeyError\u001b[0m                                  Traceback (most recent call last)",
      "\u001b[0;32m<ipython-input-89-a55e67ba9d1c>\u001b[0m in \u001b[0;36m<module>\u001b[0;34m\u001b[0m\n\u001b[0;32m----> 1\u001b[0;31m \u001b[0mdata\u001b[0m\u001b[0;34m[\u001b[0m\u001b[0mdata\u001b[0m\u001b[0;34m.\u001b[0m\u001b[0mSample\u001b[0m \u001b[0;34m==\u001b[0m \u001b[0;36m1\u001b[0m\u001b[0;34m]\u001b[0m\u001b[0;34m[\u001b[0m\u001b[0mpd\u001b[0m\u001b[0;34m.\u001b[0m\u001b[0mnotna\u001b[0m\u001b[0;34m(\u001b[0m\u001b[0mdata\u001b[0m\u001b[0;34m[\u001b[0m\u001b[0;34m'heat_rating'\u001b[0m\u001b[0;34m]\u001b[0m\u001b[0;34m)\u001b[0m\u001b[0;34m]\u001b[0m\u001b[0;34m[\u001b[0m\u001b[0;34m[\u001b[0m\u001b[0;34m'heat_rating'\u001b[0m\u001b[0;34m,\u001b[0m \u001b[0;34m'fake_rating'\u001b[0m\u001b[0;34m,\u001b[0m \u001b[0;34m'st_ranking'\u001b[0m\u001b[0;34m,\u001b[0m \u001b[0;34m'heat_fake'\u001b[0m\u001b[0;34m,\u001b[0m \u001b[0;34m'power'\u001b[0m\u001b[0;34m,\u001b[0m \u001b[0;34m'Rating'\u001b[0m\u001b[0;34m]\u001b[0m\u001b[0;34m]\u001b[0m\u001b[0;34m.\u001b[0m\u001b[0mcorr\u001b[0m\u001b[0;34m(\u001b[0m\u001b[0;34m)\u001b[0m\u001b[0;34m\u001b[0m\u001b[0m\n\u001b[0m",
      "\u001b[0;32m/opt/conda/lib/python3.6/site-packages/pandas/core/frame.py\u001b[0m in \u001b[0;36m__getitem__\u001b[0;34m(self, key)\u001b[0m\n\u001b[1;32m   2999\u001b[0m             \u001b[0;32mif\u001b[0m \u001b[0mis_iterator\u001b[0m\u001b[0;34m(\u001b[0m\u001b[0mkey\u001b[0m\u001b[0;34m)\u001b[0m\u001b[0;34m:\u001b[0m\u001b[0;34m\u001b[0m\u001b[0m\n\u001b[1;32m   3000\u001b[0m                 \u001b[0mkey\u001b[0m \u001b[0;34m=\u001b[0m \u001b[0mlist\u001b[0m\u001b[0;34m(\u001b[0m\u001b[0mkey\u001b[0m\u001b[0;34m)\u001b[0m\u001b[0;34m\u001b[0m\u001b[0m\n\u001b[0;32m-> 3001\u001b[0;31m             \u001b[0mindexer\u001b[0m \u001b[0;34m=\u001b[0m \u001b[0mself\u001b[0m\u001b[0;34m.\u001b[0m\u001b[0mloc\u001b[0m\u001b[0;34m.\u001b[0m\u001b[0m_convert_to_indexer\u001b[0m\u001b[0;34m(\u001b[0m\u001b[0mkey\u001b[0m\u001b[0;34m,\u001b[0m \u001b[0maxis\u001b[0m\u001b[0;34m=\u001b[0m\u001b[0;36m1\u001b[0m\u001b[0;34m,\u001b[0m \u001b[0mraise_missing\u001b[0m\u001b[0;34m=\u001b[0m\u001b[0;32mTrue\u001b[0m\u001b[0;34m)\u001b[0m\u001b[0;34m\u001b[0m\u001b[0m\n\u001b[0m\u001b[1;32m   3002\u001b[0m \u001b[0;34m\u001b[0m\u001b[0m\n\u001b[1;32m   3003\u001b[0m         \u001b[0;31m# take() does not accept boolean indexers\u001b[0m\u001b[0;34m\u001b[0m\u001b[0;34m\u001b[0m\u001b[0m\n",
      "\u001b[0;32m/opt/conda/lib/python3.6/site-packages/pandas/core/indexing.py\u001b[0m in \u001b[0;36m_convert_to_indexer\u001b[0;34m(self, obj, axis, is_setter, raise_missing)\u001b[0m\n\u001b[1;32m   1283\u001b[0m                 \u001b[0;31m# When setting, missing keys are not allowed, even with .loc:\u001b[0m\u001b[0;34m\u001b[0m\u001b[0;34m\u001b[0m\u001b[0m\n\u001b[1;32m   1284\u001b[0m                 \u001b[0mkwargs\u001b[0m \u001b[0;34m=\u001b[0m \u001b[0;34m{\u001b[0m\u001b[0;34m\"raise_missing\"\u001b[0m\u001b[0;34m:\u001b[0m \u001b[0;32mTrue\u001b[0m \u001b[0;32mif\u001b[0m \u001b[0mis_setter\u001b[0m \u001b[0;32melse\u001b[0m \u001b[0mraise_missing\u001b[0m\u001b[0;34m}\u001b[0m\u001b[0;34m\u001b[0m\u001b[0m\n\u001b[0;32m-> 1285\u001b[0;31m                 \u001b[0;32mreturn\u001b[0m \u001b[0mself\u001b[0m\u001b[0;34m.\u001b[0m\u001b[0m_get_listlike_indexer\u001b[0m\u001b[0;34m(\u001b[0m\u001b[0mobj\u001b[0m\u001b[0;34m,\u001b[0m \u001b[0maxis\u001b[0m\u001b[0;34m,\u001b[0m \u001b[0;34m**\u001b[0m\u001b[0mkwargs\u001b[0m\u001b[0;34m)\u001b[0m\u001b[0;34m[\u001b[0m\u001b[0;36m1\u001b[0m\u001b[0;34m]\u001b[0m\u001b[0;34m\u001b[0m\u001b[0m\n\u001b[0m\u001b[1;32m   1286\u001b[0m         \u001b[0;32melse\u001b[0m\u001b[0;34m:\u001b[0m\u001b[0;34m\u001b[0m\u001b[0m\n\u001b[1;32m   1287\u001b[0m             \u001b[0;32mtry\u001b[0m\u001b[0;34m:\u001b[0m\u001b[0;34m\u001b[0m\u001b[0m\n",
      "\u001b[0;32m/opt/conda/lib/python3.6/site-packages/pandas/core/indexing.py\u001b[0m in \u001b[0;36m_get_listlike_indexer\u001b[0;34m(self, key, axis, raise_missing)\u001b[0m\n\u001b[1;32m   1090\u001b[0m \u001b[0;34m\u001b[0m\u001b[0m\n\u001b[1;32m   1091\u001b[0m         self._validate_read_indexer(\n\u001b[0;32m-> 1092\u001b[0;31m             \u001b[0mkeyarr\u001b[0m\u001b[0;34m,\u001b[0m \u001b[0mindexer\u001b[0m\u001b[0;34m,\u001b[0m \u001b[0mo\u001b[0m\u001b[0;34m.\u001b[0m\u001b[0m_get_axis_number\u001b[0m\u001b[0;34m(\u001b[0m\u001b[0maxis\u001b[0m\u001b[0;34m)\u001b[0m\u001b[0;34m,\u001b[0m \u001b[0mraise_missing\u001b[0m\u001b[0;34m=\u001b[0m\u001b[0mraise_missing\u001b[0m\u001b[0;34m\u001b[0m\u001b[0m\n\u001b[0m\u001b[1;32m   1093\u001b[0m         )\n\u001b[1;32m   1094\u001b[0m         \u001b[0;32mreturn\u001b[0m \u001b[0mkeyarr\u001b[0m\u001b[0;34m,\u001b[0m \u001b[0mindexer\u001b[0m\u001b[0;34m\u001b[0m\u001b[0m\n",
      "\u001b[0;32m/opt/conda/lib/python3.6/site-packages/pandas/core/indexing.py\u001b[0m in \u001b[0;36m_validate_read_indexer\u001b[0;34m(self, key, indexer, axis, raise_missing)\u001b[0m\n\u001b[1;32m   1183\u001b[0m             \u001b[0;32mif\u001b[0m \u001b[0;32mnot\u001b[0m \u001b[0;34m(\u001b[0m\u001b[0mself\u001b[0m\u001b[0;34m.\u001b[0m\u001b[0mname\u001b[0m \u001b[0;34m==\u001b[0m \u001b[0;34m\"loc\"\u001b[0m \u001b[0;32mand\u001b[0m \u001b[0;32mnot\u001b[0m \u001b[0mraise_missing\u001b[0m\u001b[0;34m)\u001b[0m\u001b[0;34m:\u001b[0m\u001b[0;34m\u001b[0m\u001b[0m\n\u001b[1;32m   1184\u001b[0m                 \u001b[0mnot_found\u001b[0m \u001b[0;34m=\u001b[0m \u001b[0mlist\u001b[0m\u001b[0;34m(\u001b[0m\u001b[0mset\u001b[0m\u001b[0;34m(\u001b[0m\u001b[0mkey\u001b[0m\u001b[0;34m)\u001b[0m \u001b[0;34m-\u001b[0m \u001b[0mset\u001b[0m\u001b[0;34m(\u001b[0m\u001b[0max\u001b[0m\u001b[0;34m)\u001b[0m\u001b[0;34m)\u001b[0m\u001b[0;34m\u001b[0m\u001b[0m\n\u001b[0;32m-> 1185\u001b[0;31m                 \u001b[0;32mraise\u001b[0m \u001b[0mKeyError\u001b[0m\u001b[0;34m(\u001b[0m\u001b[0;34m\"{} not in index\"\u001b[0m\u001b[0;34m.\u001b[0m\u001b[0mformat\u001b[0m\u001b[0;34m(\u001b[0m\u001b[0mnot_found\u001b[0m\u001b[0;34m)\u001b[0m\u001b[0;34m)\u001b[0m\u001b[0;34m\u001b[0m\u001b[0m\n\u001b[0m\u001b[1;32m   1186\u001b[0m \u001b[0;34m\u001b[0m\u001b[0m\n\u001b[1;32m   1187\u001b[0m             \u001b[0;31m# we skip the warning on Categorical/Interval\u001b[0m\u001b[0;34m\u001b[0m\u001b[0;34m\u001b[0m\u001b[0m\n",
      "\u001b[0;31mKeyError\u001b[0m: \"['power'] not in index\""
     ]
    }
   ],
   "source": [
    "data[data.Sample == 1][pd.notna(data['heat_rating'])][['heat_rating', 'fake_rating', 'st_ranking', 'heat_fake', 'power', 'Rating']].corr()"
   ]
  },
  {
   "cell_type": "code",
   "execution_count": null,
   "metadata": {},
   "outputs": [],
   "source": []
  },
  {
   "cell_type": "code",
   "execution_count": 90,
   "metadata": {},
   "outputs": [],
   "source": [
    "# Эта функция создает колонки с кухнями которые есть в ресторанах\n",
    "\n",
    "def variety_cuisines_cities(menu):\n",
    "\n",
    "    if type(menu) is list and len(menu) > 0:\n",
    "\n",
    "        if cuisine in menu or cuisine == menu:\n",
    "            return 1\n",
    "        else:\n",
    "\n",
    "            return 0\n",
    "\n",
    "    else:\n",
    "        return 0\n",
    "\n",
    "\n",
    "for cuisine in all_cuisine:\n",
    "    if all_cuisine[cuisine] >= 15:\n",
    "        data[cuisine +\n",
    "             '_kag'] = data.cuisine_lists.apply(variety_cuisines_cities)"
   ]
  },
  {
   "cell_type": "code",
   "execution_count": 91,
   "metadata": {},
   "outputs": [
    {
     "data": {
      "text/plain": [
       "19540"
      ]
     },
     "metadata": {},
     "output_type": "display_data"
    }
   ],
   "source": [
    "# Эта функция строит словарь уникальных слов из ревью ресторанов\n",
    "\n",
    "vocabulary = {}\n",
    "\n",
    "\n",
    "def build_vacab(row):\n",
    "    new_pattern = re.compile('[a-zA-Z]+')\n",
    "    if pd.notna(row['Reviews']):\n",
    "        review = row['Reviews']\n",
    "        voc = new_pattern.findall(review)\n",
    "\n",
    "        for word in voc:\n",
    "\n",
    "            if word not in vocabulary:\n",
    "                vocabulary[word] = 1\n",
    "            else:\n",
    "                vocabulary[word] += 1\n",
    "\n",
    "        return voc\n",
    "\n",
    "\n",
    "data['words_in_review'] = data.apply(build_vacab, axis=1)\n",
    "\n",
    "\n",
    "display(len(vocabulary))"
   ]
  },
  {
   "cell_type": "code",
   "execution_count": 92,
   "metadata": {},
   "outputs": [
    {
     "name": "stdout",
     "output_type": "stream",
     "text": [
      "1378\n"
     ]
    }
   ],
   "source": [
    "# Функция собирает словарь самых часто встречаемых слов в отзывах\n",
    "\n",
    "frequent_words = []\n",
    "\n",
    "\n",
    "for key in vocabulary:\n",
    "    if vocabulary[key] >= 19 and len(key) > 2:\n",
    "\n",
    "        frequent_words.append(key)\n",
    "\n",
    "print(len(frequent_words))\n"
   ]
  },
  {
   "cell_type": "code",
   "execution_count": 93,
   "metadata": {},
   "outputs": [
    {
     "data": {
      "text/plain": [
       "(50000, 1564)"
      ]
     },
     "metadata": {},
     "output_type": "display_data"
    }
   ],
   "source": [
    "# Эта функция создает столбики в data для самых встречаемых слов в отзывах\n",
    "\n",
    "def build_columns_for_words(review):\n",
    "\n",
    "    if type(review) != str or len(review) == 0:\n",
    "        return 0\n",
    "\n",
    "    return review.count(wordd)\n",
    "\n",
    "\n",
    "vocab = []\n",
    "for wordd in frequent_words:\n",
    "\n",
    "    if wordd + '__vocab' not in data.columns:\n",
    "        data[wordd + '__vocab'] = data.Reviews.apply(build_columns_for_words)\n",
    "\n",
    "\n",
    "display(data.shape)"
   ]
  },
  {
   "cell_type": "markdown",
   "metadata": {},
   "source": [
    "# Data Preprocessing\n",
    "Теперь, для удобства и воспроизводимости кода, завернем всю обработку в одну большую функцию."
   ]
  },
  {
   "cell_type": "code",
   "execution_count": 94,
   "metadata": {},
   "outputs": [],
   "source": [
    "# на всякий случай, заново подгружаем данные\n",
    "#df_train = pd.read_csv(DATA_DIR+'/main_task.csv')\n",
    "#df_test = pd.read_csv(DATA_DIR+'/kaggle_task.csv')\n",
    "#df_train['Sample'] = 1 # помечаем где у нас трейн\n",
    "#df_test['Sample'] = 0 # помечаем где у нас тест\n",
    "#df_test['Rating'] = 0 # в тесте у нас нет значения Rating, мы его должны предсказать, по этому пока просто заполняем нулями\n",
    "\n",
    "#data = df_test.append(df_train, sort=False).reset_index(drop=True) # объединяем\n",
    "#data.info()"
   ]
  },
  {
   "cell_type": "code",
   "execution_count": null,
   "metadata": {},
   "outputs": [],
   "source": []
  },
  {
   "cell_type": "code",
   "execution_count": null,
   "metadata": {},
   "outputs": [],
   "source": []
  },
  {
   "cell_type": "code",
   "execution_count": 95,
   "metadata": {},
   "outputs": [],
   "source": [
    "def preproc_data(df_input):\n",
    "    '''includes several functions to pre-process the predictor data.'''\n",
    "    \n",
    "    df_output = df_input.copy()\n",
    "    \n",
    "    # ################### 1. Предобработка ############################################################## \n",
    "    # убираем не нужные для модели признаки\n",
    "    df_output.drop(['Restaurant_id', 'Cuisine', 'Price', 'price_range', 'Reviews', 'Url', 'Id_ta', 'Num_of_reviews', 'cuisine_lists', 'number_of_reviews_v2', 'country', 'from_st_ranking_median', 'from_st_ranking_mean', 'cities', 'day_difference', 'more_reviews', 'comb_reviews',  'words_in_review', 'fake_rating'], axis = 1, inplace=True)\n",
    "    \n",
    "    \n",
    "    # ################### 2. NAN ############################################################## \n",
    "    # Далее заполняем пропуски, вы можете попробовать заполнением средним или средним по городу и тд...\n",
    "    # df_output['Number of Reviews'].fillna(0, inplace=True)\n",
    "    # тут ваш код по обработке NAN\n",
    "    # ....\n",
    "    \n",
    "    \n",
    "    # ################### 3. Encoding ############################################################## \n",
    "    # для One-Hot Encoding в pandas есть готовая функция - get_dummies. Особенно радует параметр dummy_na\n",
    "    # df_output = pd.get_dummies(df_output, columns=[ 'City',], dummy_na=True)\n",
    "    # тут ваш код не Encoding фитчей\n",
    "    # ....\n",
    "    \n",
    "    \n",
    "    # ################### 4. Feature Engineering ####################################################\n",
    "    # тут ваш код не генерацию новых фитчей\n",
    "    # ....\n",
    "    \n",
    "    \n",
    "    # ################### 5. Clean #################################################### \n",
    "    # убираем признаки которые еще не успели обработать, \n",
    "    # модель на признаках с dtypes \"object\" обучаться не будет, просто выберим их и удалим\n",
    "    # object_columns = [s for s in df_output.columns if df_output[s].dtypes == 'object']\n",
    "    # df_output.drop(object_columns, axis = 1, inplace=True)\n",
    "    \n",
    "    return df_output"
   ]
  },
  {
   "cell_type": "markdown",
   "metadata": {},
   "source": [
    "#### Запускаем и проверяем что получилось"
   ]
  },
  {
   "cell_type": "code",
   "execution_count": 96,
   "metadata": {},
   "outputs": [
    {
     "data": {
      "text/html": [
       "<div>\n",
       "<style scoped>\n",
       "    .dataframe tbody tr th:only-of-type {\n",
       "        vertical-align: middle;\n",
       "    }\n",
       "\n",
       "    .dataframe tbody tr th {\n",
       "        vertical-align: top;\n",
       "    }\n",
       "\n",
       "    .dataframe thead th {\n",
       "        text-align: right;\n",
       "    }\n",
       "</style>\n",
       "<table border=\"1\" class=\"dataframe\">\n",
       "  <thead>\n",
       "    <tr style=\"text-align: right;\">\n",
       "      <th></th>\n",
       "      <th>Ranking</th>\n",
       "      <th>Sample</th>\n",
       "      <th>Rating</th>\n",
       "      <th>price_range_nan</th>\n",
       "      <th>conv_price_range</th>\n",
       "      <th>review_nan</th>\n",
       "      <th>number_of_reviews</th>\n",
       "      <th>Reviews_no_outliers</th>\n",
       "      <th>cuisine_nan</th>\n",
       "      <th>City_Amsterdam</th>\n",
       "      <th>...</th>\n",
       "      <th>gourmet__vocab</th>\n",
       "      <th>Eats__vocab</th>\n",
       "      <th>flavour__vocab</th>\n",
       "      <th>filling__vocab</th>\n",
       "      <th>water__vocab</th>\n",
       "      <th>part__vocab</th>\n",
       "      <th>thing__vocab</th>\n",
       "      <th>Pizzas__vocab</th>\n",
       "      <th>bites__vocab</th>\n",
       "      <th>thin__vocab</th>\n",
       "    </tr>\n",
       "  </thead>\n",
       "  <tbody>\n",
       "    <tr>\n",
       "      <th>3606</th>\n",
       "      <td>2299.0</td>\n",
       "      <td>0</td>\n",
       "      <td>0.0</td>\n",
       "      <td>1</td>\n",
       "      <td>2</td>\n",
       "      <td>0</td>\n",
       "      <td>107.0</td>\n",
       "      <td>107.0</td>\n",
       "      <td>0</td>\n",
       "      <td>0</td>\n",
       "      <td>...</td>\n",
       "      <td>0</td>\n",
       "      <td>0</td>\n",
       "      <td>0</td>\n",
       "      <td>0</td>\n",
       "      <td>0</td>\n",
       "      <td>0</td>\n",
       "      <td>0</td>\n",
       "      <td>0</td>\n",
       "      <td>0</td>\n",
       "      <td>0</td>\n",
       "    </tr>\n",
       "    <tr>\n",
       "      <th>9582</th>\n",
       "      <td>2491.0</td>\n",
       "      <td>0</td>\n",
       "      <td>0.0</td>\n",
       "      <td>1</td>\n",
       "      <td>3</td>\n",
       "      <td>0</td>\n",
       "      <td>3.0</td>\n",
       "      <td>3.0</td>\n",
       "      <td>1</td>\n",
       "      <td>0</td>\n",
       "      <td>...</td>\n",
       "      <td>0</td>\n",
       "      <td>0</td>\n",
       "      <td>0</td>\n",
       "      <td>0</td>\n",
       "      <td>0</td>\n",
       "      <td>0</td>\n",
       "      <td>0</td>\n",
       "      <td>0</td>\n",
       "      <td>0</td>\n",
       "      <td>0</td>\n",
       "    </tr>\n",
       "    <tr>\n",
       "      <th>7873</th>\n",
       "      <td>9340.0</td>\n",
       "      <td>0</td>\n",
       "      <td>0.0</td>\n",
       "      <td>1</td>\n",
       "      <td>1</td>\n",
       "      <td>1</td>\n",
       "      <td>28.0</td>\n",
       "      <td>22.0</td>\n",
       "      <td>0</td>\n",
       "      <td>0</td>\n",
       "      <td>...</td>\n",
       "      <td>0</td>\n",
       "      <td>0</td>\n",
       "      <td>0</td>\n",
       "      <td>0</td>\n",
       "      <td>0</td>\n",
       "      <td>0</td>\n",
       "      <td>0</td>\n",
       "      <td>0</td>\n",
       "      <td>0</td>\n",
       "      <td>0</td>\n",
       "    </tr>\n",
       "    <tr>\n",
       "      <th>2621</th>\n",
       "      <td>6407.0</td>\n",
       "      <td>0</td>\n",
       "      <td>0.0</td>\n",
       "      <td>0</td>\n",
       "      <td>2</td>\n",
       "      <td>0</td>\n",
       "      <td>52.0</td>\n",
       "      <td>52.0</td>\n",
       "      <td>0</td>\n",
       "      <td>0</td>\n",
       "      <td>...</td>\n",
       "      <td>0</td>\n",
       "      <td>0</td>\n",
       "      <td>0</td>\n",
       "      <td>0</td>\n",
       "      <td>0</td>\n",
       "      <td>0</td>\n",
       "      <td>0</td>\n",
       "      <td>0</td>\n",
       "      <td>0</td>\n",
       "      <td>0</td>\n",
       "    </tr>\n",
       "    <tr>\n",
       "      <th>44327</th>\n",
       "      <td>7063.0</td>\n",
       "      <td>1</td>\n",
       "      <td>3.5</td>\n",
       "      <td>1</td>\n",
       "      <td>3</td>\n",
       "      <td>0</td>\n",
       "      <td>5.0</td>\n",
       "      <td>5.0</td>\n",
       "      <td>1</td>\n",
       "      <td>0</td>\n",
       "      <td>...</td>\n",
       "      <td>0</td>\n",
       "      <td>0</td>\n",
       "      <td>0</td>\n",
       "      <td>0</td>\n",
       "      <td>0</td>\n",
       "      <td>0</td>\n",
       "      <td>0</td>\n",
       "      <td>0</td>\n",
       "      <td>0</td>\n",
       "      <td>0</td>\n",
       "    </tr>\n",
       "    <tr>\n",
       "      <th>29226</th>\n",
       "      <td>6781.0</td>\n",
       "      <td>1</td>\n",
       "      <td>4.0</td>\n",
       "      <td>0</td>\n",
       "      <td>2</td>\n",
       "      <td>0</td>\n",
       "      <td>7.0</td>\n",
       "      <td>7.0</td>\n",
       "      <td>0</td>\n",
       "      <td>0</td>\n",
       "      <td>...</td>\n",
       "      <td>0</td>\n",
       "      <td>0</td>\n",
       "      <td>0</td>\n",
       "      <td>0</td>\n",
       "      <td>0</td>\n",
       "      <td>0</td>\n",
       "      <td>0</td>\n",
       "      <td>0</td>\n",
       "      <td>0</td>\n",
       "      <td>0</td>\n",
       "    </tr>\n",
       "    <tr>\n",
       "      <th>27568</th>\n",
       "      <td>10012.0</td>\n",
       "      <td>1</td>\n",
       "      <td>4.0</td>\n",
       "      <td>0</td>\n",
       "      <td>2</td>\n",
       "      <td>0</td>\n",
       "      <td>21.0</td>\n",
       "      <td>21.0</td>\n",
       "      <td>0</td>\n",
       "      <td>0</td>\n",
       "      <td>...</td>\n",
       "      <td>0</td>\n",
       "      <td>0</td>\n",
       "      <td>0</td>\n",
       "      <td>0</td>\n",
       "      <td>0</td>\n",
       "      <td>0</td>\n",
       "      <td>0</td>\n",
       "      <td>0</td>\n",
       "      <td>0</td>\n",
       "      <td>0</td>\n",
       "    </tr>\n",
       "    <tr>\n",
       "      <th>21880</th>\n",
       "      <td>2975.0</td>\n",
       "      <td>1</td>\n",
       "      <td>3.5</td>\n",
       "      <td>0</td>\n",
       "      <td>2</td>\n",
       "      <td>0</td>\n",
       "      <td>483.0</td>\n",
       "      <td>316.5</td>\n",
       "      <td>0</td>\n",
       "      <td>0</td>\n",
       "      <td>...</td>\n",
       "      <td>0</td>\n",
       "      <td>0</td>\n",
       "      <td>0</td>\n",
       "      <td>0</td>\n",
       "      <td>0</td>\n",
       "      <td>0</td>\n",
       "      <td>0</td>\n",
       "      <td>0</td>\n",
       "      <td>0</td>\n",
       "      <td>0</td>\n",
       "    </tr>\n",
       "    <tr>\n",
       "      <th>35703</th>\n",
       "      <td>5474.0</td>\n",
       "      <td>1</td>\n",
       "      <td>3.5</td>\n",
       "      <td>0</td>\n",
       "      <td>1</td>\n",
       "      <td>0</td>\n",
       "      <td>20.0</td>\n",
       "      <td>20.0</td>\n",
       "      <td>0</td>\n",
       "      <td>0</td>\n",
       "      <td>...</td>\n",
       "      <td>0</td>\n",
       "      <td>0</td>\n",
       "      <td>0</td>\n",
       "      <td>0</td>\n",
       "      <td>0</td>\n",
       "      <td>0</td>\n",
       "      <td>0</td>\n",
       "      <td>0</td>\n",
       "      <td>0</td>\n",
       "      <td>0</td>\n",
       "    </tr>\n",
       "    <tr>\n",
       "      <th>6898</th>\n",
       "      <td>138.0</td>\n",
       "      <td>0</td>\n",
       "      <td>0.0</td>\n",
       "      <td>0</td>\n",
       "      <td>2</td>\n",
       "      <td>0</td>\n",
       "      <td>320.0</td>\n",
       "      <td>249.0</td>\n",
       "      <td>0</td>\n",
       "      <td>0</td>\n",
       "      <td>...</td>\n",
       "      <td>0</td>\n",
       "      <td>0</td>\n",
       "      <td>0</td>\n",
       "      <td>0</td>\n",
       "      <td>0</td>\n",
       "      <td>0</td>\n",
       "      <td>0</td>\n",
       "      <td>0</td>\n",
       "      <td>0</td>\n",
       "      <td>0</td>\n",
       "    </tr>\n",
       "  </tbody>\n",
       "</table>\n",
       "<p>10 rows × 1545 columns</p>\n",
       "</div>"
      ],
      "text/plain": [
       "       Ranking  Sample  Rating  price_range_nan  conv_price_range  review_nan  \\\n",
       "3606    2299.0       0     0.0                1                 2           0   \n",
       "9582    2491.0       0     0.0                1                 3           0   \n",
       "7873    9340.0       0     0.0                1                 1           1   \n",
       "2621    6407.0       0     0.0                0                 2           0   \n",
       "44327   7063.0       1     3.5                1                 3           0   \n",
       "29226   6781.0       1     4.0                0                 2           0   \n",
       "27568  10012.0       1     4.0                0                 2           0   \n",
       "21880   2975.0       1     3.5                0                 2           0   \n",
       "35703   5474.0       1     3.5                0                 1           0   \n",
       "6898     138.0       0     0.0                0                 2           0   \n",
       "\n",
       "       number_of_reviews  Reviews_no_outliers  cuisine_nan  City_Amsterdam  \\\n",
       "3606               107.0                107.0            0               0   \n",
       "9582                 3.0                  3.0            1               0   \n",
       "7873                28.0                 22.0            0               0   \n",
       "2621                52.0                 52.0            0               0   \n",
       "44327                5.0                  5.0            1               0   \n",
       "29226                7.0                  7.0            0               0   \n",
       "27568               21.0                 21.0            0               0   \n",
       "21880              483.0                316.5            0               0   \n",
       "35703               20.0                 20.0            0               0   \n",
       "6898               320.0                249.0            0               0   \n",
       "\n",
       "       ...  gourmet__vocab  Eats__vocab  flavour__vocab  filling__vocab  \\\n",
       "3606   ...               0            0               0               0   \n",
       "9582   ...               0            0               0               0   \n",
       "7873   ...               0            0               0               0   \n",
       "2621   ...               0            0               0               0   \n",
       "44327  ...               0            0               0               0   \n",
       "29226  ...               0            0               0               0   \n",
       "27568  ...               0            0               0               0   \n",
       "21880  ...               0            0               0               0   \n",
       "35703  ...               0            0               0               0   \n",
       "6898   ...               0            0               0               0   \n",
       "\n",
       "       water__vocab  part__vocab  thing__vocab  Pizzas__vocab  bites__vocab  \\\n",
       "3606              0            0             0              0             0   \n",
       "9582              0            0             0              0             0   \n",
       "7873              0            0             0              0             0   \n",
       "2621              0            0             0              0             0   \n",
       "44327             0            0             0              0             0   \n",
       "29226             0            0             0              0             0   \n",
       "27568             0            0             0              0             0   \n",
       "21880             0            0             0              0             0   \n",
       "35703             0            0             0              0             0   \n",
       "6898              0            0             0              0             0   \n",
       "\n",
       "       thin__vocab  \n",
       "3606             0  \n",
       "9582             0  \n",
       "7873             0  \n",
       "2621             0  \n",
       "44327            0  \n",
       "29226            0  \n",
       "27568            0  \n",
       "21880            0  \n",
       "35703            0  \n",
       "6898             0  \n",
       "\n",
       "[10 rows x 1545 columns]"
      ]
     },
     "execution_count": 96,
     "metadata": {},
     "output_type": "execute_result"
    }
   ],
   "source": [
    "df_preproc = preproc_data(data)\n",
    "df_preproc.sample(10)"
   ]
  },
  {
   "cell_type": "code",
   "execution_count": 97,
   "metadata": {},
   "outputs": [
    {
     "name": "stdout",
     "output_type": "stream",
     "text": [
      "<class 'pandas.core.frame.DataFrame'>\n",
      "RangeIndex: 50000 entries, 0 to 49999\n",
      "Columns: 1545 entries, Ranking to thin__vocab\n",
      "dtypes: float64(21), int64(1489), uint8(35)\n",
      "memory usage: 577.7 MB\n"
     ]
    }
   ],
   "source": [
    "df_preproc.info()"
   ]
  },
  {
   "cell_type": "code",
   "execution_count": 98,
   "metadata": {},
   "outputs": [],
   "source": [
    "# Теперь выделим тестовую часть\n",
    "train_data = df_preproc.query('Sample == 1').drop(['Sample'], axis=1)\n",
    "test_data = df_preproc.query('Sample == 0').drop(['Sample'], axis=1)\n",
    "\n",
    "y = train_data.Rating.values            # наш таргет\n",
    "X = train_data.drop(['Rating'], axis=1)"
   ]
  },
  {
   "cell_type": "markdown",
   "metadata": {},
   "source": [
    "**Перед тем как отправлять наши данные на обучение, разделим данные на еще один тест и трейн, для валидации. \n",
    "Это поможет нам проверить, как хорошо наша модель работает, до отправки submissiona на kaggle.**"
   ]
  },
  {
   "cell_type": "code",
   "execution_count": 99,
   "metadata": {},
   "outputs": [],
   "source": [
    "# Воспользуемся специальной функцие train_test_split для разбивки тестовых данных\n",
    "# выделим 20% данных на валидацию (параметр test_size)\n",
    "X_train, X_test, y_train, y_test = train_test_split(X, y, test_size=0.2, random_state=RANDOM_SEED)"
   ]
  },
  {
   "cell_type": "code",
   "execution_count": 100,
   "metadata": {},
   "outputs": [
    {
     "data": {
      "text/plain": [
       "((10000, 1544), (40000, 1544), (40000, 1543), (32000, 1543), (8000, 1543))"
      ]
     },
     "execution_count": 100,
     "metadata": {},
     "output_type": "execute_result"
    }
   ],
   "source": [
    "# проверяем\n",
    "test_data.shape, train_data.shape, X.shape, X_train.shape, X_test.shape"
   ]
  },
  {
   "cell_type": "markdown",
   "metadata": {},
   "source": [
    "# Model \n",
    "Сам ML"
   ]
  },
  {
   "cell_type": "code",
   "execution_count": 101,
   "metadata": {},
   "outputs": [],
   "source": [
    "#X.corr()"
   ]
  },
  {
   "cell_type": "code",
   "execution_count": 102,
   "metadata": {},
   "outputs": [],
   "source": [
    "# Импортируем необходимые библиотеки:\n",
    "from sklearn.ensemble import RandomForestRegressor # инструмент для создания и обучения модели\n",
    "from sklearn import metrics # инструменты для оценки точности модели"
   ]
  },
  {
   "cell_type": "code",
   "execution_count": 103,
   "metadata": {},
   "outputs": [],
   "source": [
    "# Создаём модель (НАСТРОЙКИ НЕ ТРОГАЕМ)\n",
    "model = RandomForestRegressor(n_estimators=100, verbose=1, n_jobs=-1, random_state=RANDOM_SEED)"
   ]
  },
  {
   "cell_type": "code",
   "execution_count": 104,
   "metadata": {},
   "outputs": [
    {
     "name": "stderr",
     "output_type": "stream",
     "text": [
      "[Parallel(n_jobs=-1)]: Using backend ThreadingBackend with 4 concurrent workers.\n",
      "[Parallel(n_jobs=-1)]: Done  42 tasks      | elapsed:  1.2min\n",
      "[Parallel(n_jobs=-1)]: Done 100 out of 100 | elapsed:  2.7min finished\n",
      "[Parallel(n_jobs=4)]: Using backend ThreadingBackend with 4 concurrent workers.\n",
      "[Parallel(n_jobs=4)]: Done  42 tasks      | elapsed:    0.0s\n",
      "[Parallel(n_jobs=4)]: Done 100 out of 100 | elapsed:    0.1s finished\n"
     ]
    }
   ],
   "source": [
    "# Обучаем модель на тестовом наборе данных\n",
    "model.fit(X_train, y_train)\n",
    "\n",
    "# Используем обученную модель для предсказания рейтинга ресторанов в тестовой выборке.\n",
    "# Предсказанные значения записываем в переменную y_pred\n",
    "y_pred = model.predict(X_test)"
   ]
  },
  {
   "cell_type": "code",
   "execution_count": 105,
   "metadata": {},
   "outputs": [
    {
     "name": "stdout",
     "output_type": "stream",
     "text": [
      "MAE: 0.19389875\n"
     ]
    }
   ],
   "source": [
    "# Сравниваем предсказанные значения (y_pred) с реальными (y_test), и смотрим насколько они в среднем отличаются\n",
    "# Метрика называется Mean Absolute Error (MAE) и показывает среднее отклонение предсказанных значений от фактических.\n",
    "print('MAE:', metrics.mean_absolute_error(y_test, y_pred))"
   ]
  },
  {
   "cell_type": "code",
   "execution_count": 106,
   "metadata": {},
   "outputs": [
    {
     "data": {
      "text/plain": [
       "<matplotlib.axes._subplots.AxesSubplot at 0x7f6052942be0>"
      ]
     },
     "execution_count": 106,
     "metadata": {},
     "output_type": "execute_result"
    },
    {
     "data": {
      "image/png": "[encoded data removed]",
      "text/plain": [
       "<Figure size 720x720 with 1 Axes>"
      ]
     },
     "metadata": {
      "needs_background": "light"
     },
     "output_type": "display_data"
    }
   ],
   "source": [
    "# в RandomForestRegressor есть возможность вывести самые важные признаки для модели\n",
    "plt.rcParams['figure.figsize'] = (10,10)\n",
    "feat_importances = pd.Series(model.feature_importances_, index=X.columns)\n",
    "feat_importances.nlargest(15).plot(kind='barh')"
   ]
  },
  {
   "cell_type": "markdown",
   "metadata": {},
   "source": [
    "# Submission\n",
    "Если все устраевает - готовим Submission на кагл"
   ]
  },
  {
   "cell_type": "code",
   "execution_count": 107,
   "metadata": {},
   "outputs": [
    {
     "data": {
      "text/html": [
       "<div>\n",
       "<style scoped>\n",
       "    .dataframe tbody tr th:only-of-type {\n",
       "        vertical-align: middle;\n",
       "    }\n",
       "\n",
       "    .dataframe tbody tr th {\n",
       "        vertical-align: top;\n",
       "    }\n",
       "\n",
       "    .dataframe thead th {\n",
       "        text-align: right;\n",
       "    }\n",
       "</style>\n",
       "<table border=\"1\" class=\"dataframe\">\n",
       "  <thead>\n",
       "    <tr style=\"text-align: right;\">\n",
       "      <th></th>\n",
       "      <th>Ranking</th>\n",
       "      <th>Rating</th>\n",
       "      <th>price_range_nan</th>\n",
       "      <th>conv_price_range</th>\n",
       "      <th>review_nan</th>\n",
       "      <th>number_of_reviews</th>\n",
       "      <th>Reviews_no_outliers</th>\n",
       "      <th>cuisine_nan</th>\n",
       "      <th>City_Amsterdam</th>\n",
       "      <th>City_Athens</th>\n",
       "      <th>...</th>\n",
       "      <th>gourmet__vocab</th>\n",
       "      <th>Eats__vocab</th>\n",
       "      <th>flavour__vocab</th>\n",
       "      <th>filling__vocab</th>\n",
       "      <th>water__vocab</th>\n",
       "      <th>part__vocab</th>\n",
       "      <th>thing__vocab</th>\n",
       "      <th>Pizzas__vocab</th>\n",
       "      <th>bites__vocab</th>\n",
       "      <th>thin__vocab</th>\n",
       "    </tr>\n",
       "  </thead>\n",
       "  <tbody>\n",
       "    <tr>\n",
       "      <th>3208</th>\n",
       "      <td>356.0</td>\n",
       "      <td>0.0</td>\n",
       "      <td>0</td>\n",
       "      <td>2</td>\n",
       "      <td>0</td>\n",
       "      <td>96.0</td>\n",
       "      <td>96.0</td>\n",
       "      <td>0</td>\n",
       "      <td>0</td>\n",
       "      <td>0</td>\n",
       "      <td>...</td>\n",
       "      <td>0</td>\n",
       "      <td>0</td>\n",
       "      <td>0</td>\n",
       "      <td>0</td>\n",
       "      <td>0</td>\n",
       "      <td>0</td>\n",
       "      <td>0</td>\n",
       "      <td>0</td>\n",
       "      <td>0</td>\n",
       "      <td>0</td>\n",
       "    </tr>\n",
       "    <tr>\n",
       "      <th>8709</th>\n",
       "      <td>4.0</td>\n",
       "      <td>0.0</td>\n",
       "      <td>0</td>\n",
       "      <td>2</td>\n",
       "      <td>0</td>\n",
       "      <td>618.0</td>\n",
       "      <td>69.0</td>\n",
       "      <td>0</td>\n",
       "      <td>0</td>\n",
       "      <td>0</td>\n",
       "      <td>...</td>\n",
       "      <td>0</td>\n",
       "      <td>0</td>\n",
       "      <td>0</td>\n",
       "      <td>0</td>\n",
       "      <td>0</td>\n",
       "      <td>0</td>\n",
       "      <td>0</td>\n",
       "      <td>0</td>\n",
       "      <td>0</td>\n",
       "      <td>0</td>\n",
       "    </tr>\n",
       "    <tr>\n",
       "      <th>2514</th>\n",
       "      <td>609.0</td>\n",
       "      <td>0.0</td>\n",
       "      <td>0</td>\n",
       "      <td>1</td>\n",
       "      <td>0</td>\n",
       "      <td>39.0</td>\n",
       "      <td>39.0</td>\n",
       "      <td>0</td>\n",
       "      <td>0</td>\n",
       "      <td>1</td>\n",
       "      <td>...</td>\n",
       "      <td>0</td>\n",
       "      <td>0</td>\n",
       "      <td>0</td>\n",
       "      <td>0</td>\n",
       "      <td>0</td>\n",
       "      <td>0</td>\n",
       "      <td>0</td>\n",
       "      <td>0</td>\n",
       "      <td>0</td>\n",
       "      <td>0</td>\n",
       "    </tr>\n",
       "    <tr>\n",
       "      <th>805</th>\n",
       "      <td>6169.0</td>\n",
       "      <td>0.0</td>\n",
       "      <td>1</td>\n",
       "      <td>3</td>\n",
       "      <td>0</td>\n",
       "      <td>2.0</td>\n",
       "      <td>2.0</td>\n",
       "      <td>1</td>\n",
       "      <td>0</td>\n",
       "      <td>0</td>\n",
       "      <td>...</td>\n",
       "      <td>0</td>\n",
       "      <td>0</td>\n",
       "      <td>0</td>\n",
       "      <td>0</td>\n",
       "      <td>0</td>\n",
       "      <td>0</td>\n",
       "      <td>0</td>\n",
       "      <td>0</td>\n",
       "      <td>0</td>\n",
       "      <td>0</td>\n",
       "    </tr>\n",
       "    <tr>\n",
       "      <th>124</th>\n",
       "      <td>936.0</td>\n",
       "      <td>0.0</td>\n",
       "      <td>1</td>\n",
       "      <td>1</td>\n",
       "      <td>0</td>\n",
       "      <td>6.0</td>\n",
       "      <td>6.0</td>\n",
       "      <td>1</td>\n",
       "      <td>0</td>\n",
       "      <td>0</td>\n",
       "      <td>...</td>\n",
       "      <td>0</td>\n",
       "      <td>0</td>\n",
       "      <td>0</td>\n",
       "      <td>0</td>\n",
       "      <td>0</td>\n",
       "      <td>0</td>\n",
       "      <td>0</td>\n",
       "      <td>0</td>\n",
       "      <td>0</td>\n",
       "      <td>0</td>\n",
       "    </tr>\n",
       "    <tr>\n",
       "      <th>1638</th>\n",
       "      <td>3591.0</td>\n",
       "      <td>0.0</td>\n",
       "      <td>0</td>\n",
       "      <td>1</td>\n",
       "      <td>1</td>\n",
       "      <td>26.0</td>\n",
       "      <td>8.0</td>\n",
       "      <td>0</td>\n",
       "      <td>0</td>\n",
       "      <td>0</td>\n",
       "      <td>...</td>\n",
       "      <td>0</td>\n",
       "      <td>0</td>\n",
       "      <td>0</td>\n",
       "      <td>0</td>\n",
       "      <td>0</td>\n",
       "      <td>0</td>\n",
       "      <td>0</td>\n",
       "      <td>0</td>\n",
       "      <td>0</td>\n",
       "      <td>0</td>\n",
       "    </tr>\n",
       "    <tr>\n",
       "      <th>9516</th>\n",
       "      <td>2712.0</td>\n",
       "      <td>0.0</td>\n",
       "      <td>1</td>\n",
       "      <td>1</td>\n",
       "      <td>1</td>\n",
       "      <td>27.0</td>\n",
       "      <td>10.0</td>\n",
       "      <td>1</td>\n",
       "      <td>0</td>\n",
       "      <td>0</td>\n",
       "      <td>...</td>\n",
       "      <td>0</td>\n",
       "      <td>0</td>\n",
       "      <td>0</td>\n",
       "      <td>0</td>\n",
       "      <td>0</td>\n",
       "      <td>0</td>\n",
       "      <td>0</td>\n",
       "      <td>0</td>\n",
       "      <td>0</td>\n",
       "      <td>0</td>\n",
       "    </tr>\n",
       "    <tr>\n",
       "      <th>4964</th>\n",
       "      <td>5909.0</td>\n",
       "      <td>0.0</td>\n",
       "      <td>1</td>\n",
       "      <td>1</td>\n",
       "      <td>0</td>\n",
       "      <td>2.0</td>\n",
       "      <td>2.0</td>\n",
       "      <td>1</td>\n",
       "      <td>0</td>\n",
       "      <td>0</td>\n",
       "      <td>...</td>\n",
       "      <td>0</td>\n",
       "      <td>0</td>\n",
       "      <td>0</td>\n",
       "      <td>0</td>\n",
       "      <td>0</td>\n",
       "      <td>0</td>\n",
       "      <td>0</td>\n",
       "      <td>0</td>\n",
       "      <td>0</td>\n",
       "      <td>0</td>\n",
       "    </tr>\n",
       "    <tr>\n",
       "      <th>1435</th>\n",
       "      <td>1196.0</td>\n",
       "      <td>0.0</td>\n",
       "      <td>0</td>\n",
       "      <td>2</td>\n",
       "      <td>0</td>\n",
       "      <td>103.0</td>\n",
       "      <td>103.0</td>\n",
       "      <td>0</td>\n",
       "      <td>0</td>\n",
       "      <td>0</td>\n",
       "      <td>...</td>\n",
       "      <td>0</td>\n",
       "      <td>0</td>\n",
       "      <td>0</td>\n",
       "      <td>0</td>\n",
       "      <td>0</td>\n",
       "      <td>0</td>\n",
       "      <td>0</td>\n",
       "      <td>0</td>\n",
       "      <td>0</td>\n",
       "      <td>0</td>\n",
       "    </tr>\n",
       "    <tr>\n",
       "      <th>3958</th>\n",
       "      <td>3715.0</td>\n",
       "      <td>0.0</td>\n",
       "      <td>1</td>\n",
       "      <td>1</td>\n",
       "      <td>0</td>\n",
       "      <td>33.0</td>\n",
       "      <td>33.0</td>\n",
       "      <td>1</td>\n",
       "      <td>0</td>\n",
       "      <td>0</td>\n",
       "      <td>...</td>\n",
       "      <td>0</td>\n",
       "      <td>0</td>\n",
       "      <td>0</td>\n",
       "      <td>0</td>\n",
       "      <td>0</td>\n",
       "      <td>0</td>\n",
       "      <td>0</td>\n",
       "      <td>0</td>\n",
       "      <td>0</td>\n",
       "      <td>0</td>\n",
       "    </tr>\n",
       "  </tbody>\n",
       "</table>\n",
       "<p>10 rows × 1544 columns</p>\n",
       "</div>"
      ],
      "text/plain": [
       "      Ranking  Rating  price_range_nan  conv_price_range  review_nan  \\\n",
       "3208    356.0     0.0                0                 2           0   \n",
       "8709      4.0     0.0                0                 2           0   \n",
       "2514    609.0     0.0                0                 1           0   \n",
       "805    6169.0     0.0                1                 3           0   \n",
       "124     936.0     0.0                1                 1           0   \n",
       "1638   3591.0     0.0                0                 1           1   \n",
       "9516   2712.0     0.0                1                 1           1   \n",
       "4964   5909.0     0.0                1                 1           0   \n",
       "1435   1196.0     0.0                0                 2           0   \n",
       "3958   3715.0     0.0                1                 1           0   \n",
       "\n",
       "      number_of_reviews  Reviews_no_outliers  cuisine_nan  City_Amsterdam  \\\n",
       "3208               96.0                 96.0            0               0   \n",
       "8709              618.0                 69.0            0               0   \n",
       "2514               39.0                 39.0            0               0   \n",
       "805                 2.0                  2.0            1               0   \n",
       "124                 6.0                  6.0            1               0   \n",
       "1638               26.0                  8.0            0               0   \n",
       "9516               27.0                 10.0            1               0   \n",
       "4964                2.0                  2.0            1               0   \n",
       "1435              103.0                103.0            0               0   \n",
       "3958               33.0                 33.0            1               0   \n",
       "\n",
       "      City_Athens  ...  gourmet__vocab  Eats__vocab  flavour__vocab  \\\n",
       "3208            0  ...               0            0               0   \n",
       "8709            0  ...               0            0               0   \n",
       "2514            1  ...               0            0               0   \n",
       "805             0  ...               0            0               0   \n",
       "124             0  ...               0            0               0   \n",
       "1638            0  ...               0            0               0   \n",
       "9516            0  ...               0            0               0   \n",
       "4964            0  ...               0            0               0   \n",
       "1435            0  ...               0            0               0   \n",
       "3958            0  ...               0            0               0   \n",
       "\n",
       "      filling__vocab  water__vocab  part__vocab  thing__vocab  Pizzas__vocab  \\\n",
       "3208               0             0            0             0              0   \n",
       "8709               0             0            0             0              0   \n",
       "2514               0             0            0             0              0   \n",
       "805                0             0            0             0              0   \n",
       "124                0             0            0             0              0   \n",
       "1638               0             0            0             0              0   \n",
       "9516               0             0            0             0              0   \n",
       "4964               0             0            0             0              0   \n",
       "1435               0             0            0             0              0   \n",
       "3958               0             0            0             0              0   \n",
       "\n",
       "      bites__vocab  thin__vocab  \n",
       "3208             0            0  \n",
       "8709             0            0  \n",
       "2514             0            0  \n",
       "805              0            0  \n",
       "124              0            0  \n",
       "1638             0            0  \n",
       "9516             0            0  \n",
       "4964             0            0  \n",
       "1435             0            0  \n",
       "3958             0            0  \n",
       "\n",
       "[10 rows x 1544 columns]"
      ]
     },
     "execution_count": 107,
     "metadata": {},
     "output_type": "execute_result"
    }
   ],
   "source": [
    "test_data.sample(10)"
   ]
  },
  {
   "cell_type": "code",
   "execution_count": 108,
   "metadata": {},
   "outputs": [],
   "source": [
    "test_data = test_data.drop(['Rating'], axis=1)"
   ]
  },
  {
   "cell_type": "code",
   "execution_count": 109,
   "metadata": {},
   "outputs": [
    {
     "data": {
      "text/html": [
       "<div>\n",
       "<style scoped>\n",
       "    .dataframe tbody tr th:only-of-type {\n",
       "        vertical-align: middle;\n",
       "    }\n",
       "\n",
       "    .dataframe tbody tr th {\n",
       "        vertical-align: top;\n",
       "    }\n",
       "\n",
       "    .dataframe thead th {\n",
       "        text-align: right;\n",
       "    }\n",
       "</style>\n",
       "<table border=\"1\" class=\"dataframe\">\n",
       "  <thead>\n",
       "    <tr style=\"text-align: right;\">\n",
       "      <th></th>\n",
       "      <th>Restaurant_id</th>\n",
       "      <th>Rating</th>\n",
       "    </tr>\n",
       "  </thead>\n",
       "  <tbody>\n",
       "    <tr>\n",
       "      <th>0</th>\n",
       "      <td>id_0</td>\n",
       "      <td>2.0</td>\n",
       "    </tr>\n",
       "    <tr>\n",
       "      <th>1</th>\n",
       "      <td>id_1</td>\n",
       "      <td>2.5</td>\n",
       "    </tr>\n",
       "    <tr>\n",
       "      <th>2</th>\n",
       "      <td>id_2</td>\n",
       "      <td>4.0</td>\n",
       "    </tr>\n",
       "    <tr>\n",
       "      <th>3</th>\n",
       "      <td>id_3</td>\n",
       "      <td>1.0</td>\n",
       "    </tr>\n",
       "    <tr>\n",
       "      <th>4</th>\n",
       "      <td>id_4</td>\n",
       "      <td>4.0</td>\n",
       "    </tr>\n",
       "    <tr>\n",
       "      <th>5</th>\n",
       "      <td>id_5</td>\n",
       "      <td>4.5</td>\n",
       "    </tr>\n",
       "    <tr>\n",
       "      <th>6</th>\n",
       "      <td>id_6</td>\n",
       "      <td>4.5</td>\n",
       "    </tr>\n",
       "    <tr>\n",
       "      <th>7</th>\n",
       "      <td>id_7</td>\n",
       "      <td>2.0</td>\n",
       "    </tr>\n",
       "    <tr>\n",
       "      <th>8</th>\n",
       "      <td>id_8</td>\n",
       "      <td>2.0</td>\n",
       "    </tr>\n",
       "    <tr>\n",
       "      <th>9</th>\n",
       "      <td>id_9</td>\n",
       "      <td>3.5</td>\n",
       "    </tr>\n",
       "    <tr>\n",
       "      <th>10</th>\n",
       "      <td>id_10</td>\n",
       "      <td>5.0</td>\n",
       "    </tr>\n",
       "    <tr>\n",
       "      <th>11</th>\n",
       "      <td>id_11</td>\n",
       "      <td>3.5</td>\n",
       "    </tr>\n",
       "    <tr>\n",
       "      <th>12</th>\n",
       "      <td>id_12</td>\n",
       "      <td>2.5</td>\n",
       "    </tr>\n",
       "    <tr>\n",
       "      <th>13</th>\n",
       "      <td>id_13</td>\n",
       "      <td>1.0</td>\n",
       "    </tr>\n",
       "    <tr>\n",
       "      <th>14</th>\n",
       "      <td>id_14</td>\n",
       "      <td>5.0</td>\n",
       "    </tr>\n",
       "    <tr>\n",
       "      <th>15</th>\n",
       "      <td>id_15</td>\n",
       "      <td>4.5</td>\n",
       "    </tr>\n",
       "    <tr>\n",
       "      <th>16</th>\n",
       "      <td>id_16</td>\n",
       "      <td>1.5</td>\n",
       "    </tr>\n",
       "    <tr>\n",
       "      <th>17</th>\n",
       "      <td>id_17</td>\n",
       "      <td>2.0</td>\n",
       "    </tr>\n",
       "    <tr>\n",
       "      <th>18</th>\n",
       "      <td>id_18</td>\n",
       "      <td>4.5</td>\n",
       "    </tr>\n",
       "    <tr>\n",
       "      <th>19</th>\n",
       "      <td>id_19</td>\n",
       "      <td>3.5</td>\n",
       "    </tr>\n",
       "  </tbody>\n",
       "</table>\n",
       "</div>"
      ],
      "text/plain": [
       "   Restaurant_id  Rating\n",
       "0           id_0     2.0\n",
       "1           id_1     2.5\n",
       "2           id_2     4.0\n",
       "3           id_3     1.0\n",
       "4           id_4     4.0\n",
       "5           id_5     4.5\n",
       "6           id_6     4.5\n",
       "7           id_7     2.0\n",
       "8           id_8     2.0\n",
       "9           id_9     3.5\n",
       "10         id_10     5.0\n",
       "11         id_11     3.5\n",
       "12         id_12     2.5\n",
       "13         id_13     1.0\n",
       "14         id_14     5.0\n",
       "15         id_15     4.5\n",
       "16         id_16     1.5\n",
       "17         id_17     2.0\n",
       "18         id_18     4.5\n",
       "19         id_19     3.5"
      ]
     },
     "execution_count": 109,
     "metadata": {},
     "output_type": "execute_result"
    }
   ],
   "source": [
    "sample_submission.head(20)"
   ]
  },
  {
   "cell_type": "code",
   "execution_count": 110,
   "metadata": {},
   "outputs": [
    {
     "name": "stderr",
     "output_type": "stream",
     "text": [
      "[Parallel(n_jobs=4)]: Using backend ThreadingBackend with 4 concurrent workers.\n",
      "[Parallel(n_jobs=4)]: Done  42 tasks      | elapsed:    0.1s\n",
      "[Parallel(n_jobs=4)]: Done 100 out of 100 | elapsed:    0.1s finished\n"
     ]
    }
   ],
   "source": [
    "predict_submission = model.predict(test_data)"
   ]
  },
  {
   "cell_type": "code",
   "execution_count": 111,
   "metadata": {},
   "outputs": [
    {
     "data": {
      "text/plain": [
       "array([3.105, 4.34 , 4.375, ..., 3.105, 4.37 , 4.39 ])"
      ]
     },
     "execution_count": 111,
     "metadata": {},
     "output_type": "execute_result"
    }
   ],
   "source": [
    "predict_submission"
   ]
  },
  {
   "cell_type": "code",
   "execution_count": 112,
   "metadata": {},
   "outputs": [
    {
     "data": {
      "text/html": [
       "<div>\n",
       "<style scoped>\n",
       "    .dataframe tbody tr th:only-of-type {\n",
       "        vertical-align: middle;\n",
       "    }\n",
       "\n",
       "    .dataframe tbody tr th {\n",
       "        vertical-align: top;\n",
       "    }\n",
       "\n",
       "    .dataframe thead th {\n",
       "        text-align: right;\n",
       "    }\n",
       "</style>\n",
       "<table border=\"1\" class=\"dataframe\">\n",
       "  <thead>\n",
       "    <tr style=\"text-align: right;\">\n",
       "      <th></th>\n",
       "      <th>Restaurant_id</th>\n",
       "      <th>Rating</th>\n",
       "    </tr>\n",
       "  </thead>\n",
       "  <tbody>\n",
       "    <tr>\n",
       "      <th>0</th>\n",
       "      <td>id_0</td>\n",
       "      <td>3.105</td>\n",
       "    </tr>\n",
       "    <tr>\n",
       "      <th>1</th>\n",
       "      <td>id_1</td>\n",
       "      <td>4.340</td>\n",
       "    </tr>\n",
       "    <tr>\n",
       "      <th>2</th>\n",
       "      <td>id_2</td>\n",
       "      <td>4.375</td>\n",
       "    </tr>\n",
       "    <tr>\n",
       "      <th>3</th>\n",
       "      <td>id_3</td>\n",
       "      <td>4.475</td>\n",
       "    </tr>\n",
       "    <tr>\n",
       "      <th>4</th>\n",
       "      <td>id_4</td>\n",
       "      <td>4.440</td>\n",
       "    </tr>\n",
       "    <tr>\n",
       "      <th>5</th>\n",
       "      <td>id_5</td>\n",
       "      <td>4.330</td>\n",
       "    </tr>\n",
       "    <tr>\n",
       "      <th>6</th>\n",
       "      <td>id_6</td>\n",
       "      <td>1.010</td>\n",
       "    </tr>\n",
       "    <tr>\n",
       "      <th>7</th>\n",
       "      <td>id_7</td>\n",
       "      <td>2.935</td>\n",
       "    </tr>\n",
       "    <tr>\n",
       "      <th>8</th>\n",
       "      <td>id_8</td>\n",
       "      <td>4.225</td>\n",
       "    </tr>\n",
       "    <tr>\n",
       "      <th>9</th>\n",
       "      <td>id_9</td>\n",
       "      <td>4.655</td>\n",
       "    </tr>\n",
       "  </tbody>\n",
       "</table>\n",
       "</div>"
      ],
      "text/plain": [
       "  Restaurant_id  Rating\n",
       "0          id_0   3.105\n",
       "1          id_1   4.340\n",
       "2          id_2   4.375\n",
       "3          id_3   4.475\n",
       "4          id_4   4.440\n",
       "5          id_5   4.330\n",
       "6          id_6   1.010\n",
       "7          id_7   2.935\n",
       "8          id_8   4.225\n",
       "9          id_9   4.655"
      ]
     },
     "execution_count": 112,
     "metadata": {},
     "output_type": "execute_result"
    }
   ],
   "source": [
    "sample_submission['Rating'] = predict_submission\n",
    "sample_submission.to_csv('submission.csv', index=False)\n",
    "sample_submission.head(10)"
   ]
  },
  {
   "cell_type": "markdown",
   "metadata": {},
   "source": [
    "# What's next?\n",
    "Или что делать, чтоб улучшить результат:\n",
    "* Обработать оставшиеся признаки в понятный для машины формат\n",
    "* Посмотреть, что еще можно извлечь из признаков\n",
    "* Сгенерировать новые признаки\n",
    "* Подгрузить дополнительные данные, например: по населению или благосостоянию городов\n",
    "* Подобрать состав признаков\n",
    "\n",
    "В общем, процесс творческий и весьма увлекательный! Удачи в соревновании!\n"
   ]
  }
 ],
 "metadata": {
  "kernelspec": {
   "display_name": "Python 3",
   "language": "python",
   "name": "python3"
  },
  "language_info": {
   "codemirror_mode": {
    "name": "ipython",
    "version": 3
   },
   "file_extension": ".py",
   "mimetype": "text/x-python",
   "name": "python",
   "nbconvert_exporter": "python",
   "pygments_lexer": "ipython3",
   "version": "3.6.6"
  }
 },
 "nbformat": 4,
 "nbformat_minor": 4
}
